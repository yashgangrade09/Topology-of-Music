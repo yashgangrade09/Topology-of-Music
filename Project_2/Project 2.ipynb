{
 "cells": [
  {
   "cell_type": "markdown",
   "metadata": {},
   "source": [
    "## Submitted by:\n",
    "### Yash Gangrade\n",
    "### u1143811\n",
    "### MS in Computing "
   ]
  },
  {
   "cell_type": "code",
   "execution_count": 1,
   "metadata": {},
   "outputs": [
    {
     "name": "stdout",
     "output_type": "stream",
     "text": [
      "Gudhi not found--GraphInducedComplex not available\n"
     ]
    }
   ],
   "source": [
    "import numpy as np\n",
    "import matplotlib.image as mpimg\n",
    "import matplotlib.pyplot as plt\n",
    "from mpl_toolkits.mplot3d import Axes3D\n",
    "from scipy import ndimage\n",
    "import subprocess\n",
    "import persim\n",
    "import persim.plot\n",
    "import tadasets\n",
    "import ripser\n",
    "from tqdm import tqdm_notebook as tqdm\n",
    "from sklearn.manifold import MDS\n",
    "from sklearn.manifold import TSNE\n",
    "from PIL import Image\n",
    "from collections import Counter\n",
    "import sklearn_tda as tda\n",
    "from sklearn.svm import SVC\n",
    "from sklearn.model_selection import train_test_split"
   ]
  },
  {
   "cell_type": "markdown",
   "metadata": {},
   "source": [
    "# Part 1 - Comparison of Barcodes"
   ]
  },
  {
   "cell_type": "markdown",
   "metadata": {},
   "source": [
    "### Utility functions to read the image and apply boundary filtration"
   ]
  },
  {
   "cell_type": "code",
   "execution_count": 2,
   "metadata": {},
   "outputs": [],
   "source": [
    "def readImage(path):\n",
    "    img = mpimg.imread(path)\n",
    "    return img\n",
    "\n",
    "def boundaryFiltration(image):\n",
    "    distance = ndimage.distance_transform_edt(image)\n",
    "    distance[distance != 1] = 0\n",
    "    return distance, np.where(distance == 1)"
   ]
  },
  {
   "cell_type": "code",
   "execution_count": 3,
   "metadata": {},
   "outputs": [],
   "source": [
    "# ## Driver code for getting the Point Clouds -- Original Data (without sampling)\n",
    "\n",
    "# listOfImages = [\"apple-\", \"car-0\", \"cellular_phone-\", \"children-\", \"cup-\", \"fork-\", \"hammer-\", \"pencil-\"]\n",
    "\n",
    "# for i in range(len(listOfImages)):\n",
    "#     for j in range(1, 11):\n",
    "#         path = \"InputDataP1/\" + listOfImages[i] + str(j) + \".gif\"\n",
    "#         img = readImage(path)\n",
    "#         imgNp = np.asarray(img)\n",
    "#         distance, coordinates = boundaryFiltration(imgNp)\n",
    "#         tempArr = np.zeros((len(coordinates[0]), 2))\n",
    "#         tempArr[:,0], tempArr[:,1] = coordinates[0], coordinates[1]\n",
    "# #         tempArr[np.random.choice(tempArr.shape[0], 2, replace=False), :]\n",
    "#         path = \"OutputDataP1_PointCloud_NonSampled/\" + listOfImages[i] + str(j) + \"_PointCloud.txt\"\n",
    "#         np.savetxt(path, tempArr, fmt = \"%0.6f\")\n",
    "\n",
    "# print(\"Point Cloud for each of the images stored in the files - Process Complete\")"
   ]
  },
  {
   "cell_type": "markdown",
   "metadata": {},
   "source": [
    "### Driver code for getting the Point Clouds - Sampled at 200 points\n",
    "\n",
    "The list of images or classes used are 8. We are using 10 images from each class resulting in total of 80 images. The bottleneck distances and wassertian distance computation takes a lot of time and system also goes out of memory if we use the original barcodes. Therefore, to get rid of the issues, we sample 200 points from the boundary and then store it as point cloud. I have tried other numbers as well like 150, 250 etc. but 200 is an optimal number of points where you get a good boundary filtration. "
   ]
  },
  {
   "cell_type": "code",
   "execution_count": 4,
   "metadata": {},
   "outputs": [
    {
     "name": "stdout",
     "output_type": "stream",
     "text": [
      "Point Cloud for each of the images stored in the files - Process Complete. Please find the Point Cloud data in OutputDataP1_Sampled folder\n"
     ]
    }
   ],
   "source": [
    "# list of images and also the classes that I used\n",
    "listOfImages = [\"apple-\", \"car-0\", \"cellular_phone-\", \"children-\", \"cup-\", \"fork-\", \"hammer-\", \"pencil-\"]\n",
    "\n",
    "## Read in the files from input data and then \n",
    "for i in range(len(listOfImages)):\n",
    "    for j in range(1, 11):\n",
    "        path = \"InputDataP1/\" + listOfImages[i] + str(j) + \".gif\"\n",
    "        img = readImage(path)\n",
    "        imgNp = np.asarray(img)\n",
    "        distance, coordinates = boundaryFiltration(imgNp)\n",
    "        tempArr = np.zeros((len(coordinates[0]), 2))\n",
    "        tempArr[:,0], tempArr[:,1] = coordinates[0], coordinates[1]\n",
    "\n",
    "        ## Randomly sampling 200 points\n",
    "        tempArr = tempArr[np.random.choice(tempArr.shape[0], 200, replace=False), :]\n",
    "\n",
    "        path = \"OutputDataP1_PointCloud_Sampled/\" + listOfImages[i] + str(j) + \"_PointCloud.txt\"\n",
    "        np.savetxt(path, tempArr, fmt = \"%0.6f\")\n",
    "\n",
    "print(\"Point Cloud for each of the images stored in the files - Process Complete. Please find the Point Cloud data \\\n",
    "in OutputDataP1_Sampled folder\")"
   ]
  },
  {
   "cell_type": "markdown",
   "metadata": {},
   "source": [
    "### Computation of the Barcodes\n",
    "\n",
    "Once we have the point clouds, next step is to compute the barcodes from the PointCloud Data. Here we also have to separate the bar codes in form of Dimension 0 and Dimension 1. To compute the barcode, I am calling the ripser command using the subprocess library. Next, we just write a parser to separate and store dimension 0 and dimension 1 features. The results can be found in OutputDataP1_Barcode_Sampled Folder. "
   ]
  },
  {
   "cell_type": "code",
   "execution_count": 5,
   "metadata": {},
   "outputs": [
    {
     "data": {
      "application/vnd.jupyter.widget-view+json": {
       "model_id": "88a0425492324780906c6ce2ea525272",
       "version_major": 2,
       "version_minor": 0
      },
      "text/plain": [
       "HBox(children=(IntProgress(value=0, max=8), HTML(value='')))"
      ]
     },
     "metadata": {},
     "output_type": "display_data"
    },
    {
     "name": "stdout",
     "output_type": "stream",
     "text": [
      "\n"
     ]
    }
   ],
   "source": [
    "# Driver code for getting the bar codes separated by dimension 0 and 1 -- Sampled points\n",
    "\n",
    "for i in tqdm(range(len(listOfImages))):\n",
    "    for j in range(1, 11):\n",
    "        cmd = \"../ripser/ripser.exe OutputDataP1_PointCloud_Sampled/\" + listOfImages[i] + str(j) + \\\n",
    "        \"_PointCloud.txt --format point-cloud --dim 1\"\n",
    "        d = subprocess.run(cmd.split(), stdout=subprocess.PIPE)\n",
    "        barcode = d.stdout.decode('utf-8').splitlines()\n",
    "        separator1 = barcode.index(\"persistence intervals in dim 0:\")\n",
    "        separator2 = barcode.index(\"persistence intervals in dim 1:\")\n",
    "\n",
    "        featuresDim0 = barcode[separator1 + 1:separator2]\n",
    "        featuresDim1 = barcode[separator2 + 1:]\n",
    "        path0 = \"OutputDataP1_Barcode_Sampled/\" + listOfImages[i] + str(j) + \"_Dim0.txt\"\n",
    "        path1 = \"OutputDataP1_Barcode_Sampled/\" + listOfImages[i] + str(j) + \"_Dim1.txt\"\n",
    "\n",
    "        with open(path0, 'w') as f:\n",
    "            for item in featuresDim0:\n",
    "                f.write(\"%s\\n\" % item)\n",
    "        with open(path1, 'w') as f:\n",
    "            for item in featuresDim1:\n",
    "                f.write(\"%s\\n\" % item)"
   ]
  },
  {
   "cell_type": "markdown",
   "metadata": {},
   "source": [
    "### Comparison of the Barcodes\n",
    "\n",
    "Till this point, we have the barcodes, next step is to compare these different barcodes. Two methods that we are gonna use are the bottleneck and wassertian distance. To compute these distances, we are using in built functions from sklearn_tda library. After getting the distances, we are gonna project it to a 2D plane by using Dimensionality reduction techniques namely MDS and TSNE. \n",
    "\n",
    "__Note:__ Please follow the comments in the code to get the understanding of the works. "
   ]
  },
  {
   "cell_type": "code",
   "execution_count": 6,
   "metadata": {},
   "outputs": [],
   "source": [
    "## A utility function to get the persistence diagrams of all the images in the dataset. This function performs parsing\n",
    "## and separation of the input into an array containing the same number of output rows as the input. \n",
    "\n",
    "def distanceUtil(path, flag):\n",
    "    with open(path) as f:\n",
    "        content = f.readlines()\n",
    "    content = [x.strip() for x in content]\n",
    "    if flag is True:\n",
    "        last = len(content)\n",
    "    else:\n",
    "        last = len(content) - 1\n",
    "    dgm = np.zeros(shape = (last, 2))\n",
    "    \n",
    "    for i in range(last):\n",
    "        temp = content[i].replace(\"[\", \"\").replace(\")\", \"\").split(\",\")\n",
    "        dgm[i][0] = float(temp[0])\n",
    "        dgm[i][1] = float(temp[1])\n",
    "    return dgm"
   ]
  },
  {
   "cell_type": "code",
   "execution_count": 7,
   "metadata": {},
   "outputs": [],
   "source": [
    "## Driver code for reading all the matrices from the Barcodes. dgmArr0 and dgmArr1 represents all the persistence diagrams for\n",
    "## dimension 0 and 1 respectively. \n",
    "\n",
    "dgmArr0 = []\n",
    "dgmArr1 = []\n",
    "\n",
    "for i in range(len(listOfImages)):\n",
    "    for j in range(1, 11):\n",
    "        path = \"OutputDataP1_Barcode_Sampled/\" + listOfImages[i] + str(j) + \"_Dim0.txt\"\n",
    "        dgmArr0.append(distanceUtil(path, False))\n",
    "        path = \"OutputDataP1_Barcode_Sampled/\" + listOfImages[i] + str(j) + \"_Dim1.txt\"\n",
    "        dgmArr1.append(distanceUtil(path, True))"
   ]
  },
  {
   "cell_type": "code",
   "execution_count": 8,
   "metadata": {},
   "outputs": [],
   "source": [
    "## initializing the bottleneck and wassertian distances as 0 for both dimension 0 and 1\n",
    "\n",
    "bottleneck_distances_dim0 = np.zeros(shape = (80, 80))\n",
    "bottleneck_distances_dim1 = np.zeros(shape = (80, 80))\n",
    "wassertian_distances_dim0 = np.zeros(shape = (80, 80))\n",
    "wassertian_distances_dim1 = np.zeros(shape = (80, 80))"
   ]
  },
  {
   "cell_type": "code",
   "execution_count": 9,
   "metadata": {},
   "outputs": [
    {
     "data": {
      "application/vnd.jupyter.widget-view+json": {
       "model_id": "4aa7a5c6080943a4861f431974186d1d",
       "version_major": 2,
       "version_minor": 0
      },
      "text/plain": [
       "HBox(children=(IntProgress(value=0, max=80), HTML(value='')))"
      ]
     },
     "metadata": {},
     "output_type": "display_data"
    },
    {
     "name": "stdout",
     "output_type": "stream",
     "text": [
      "\n"
     ]
    }
   ],
   "source": [
    "## Driver code for filling in the bottleneck distance matrix - dim 1 - by sklearn tda\n",
    "\n",
    "for i in tqdm(range(80)):\n",
    "    for j in (range(80)):\n",
    "        bottleneck_distances_dim1[i][j] = tda.bottleneck(dgmArr1[i], dgmArr1[j])"
   ]
  },
  {
   "cell_type": "code",
   "execution_count": 10,
   "metadata": {},
   "outputs": [
    {
     "data": {
      "application/vnd.jupyter.widget-view+json": {
       "model_id": "eeb4fd92e3034cfd9ade6c35676eef24",
       "version_major": 2,
       "version_minor": 0
      },
      "text/plain": [
       "HBox(children=(IntProgress(value=0, max=80), HTML(value='')))"
      ]
     },
     "metadata": {},
     "output_type": "display_data"
    },
    {
     "name": "stdout",
     "output_type": "stream",
     "text": [
      "\n"
     ]
    }
   ],
   "source": [
    "## Driver code for filling in the bottleneck distance matrix - dim 0 - by sklearn tda\n",
    "\n",
    "for i in tqdm(range(80)):\n",
    "    for j in (range(80)):\n",
    "        bottleneck_distances_dim0[i][j] = tda.bottleneck(dgmArr0[i], dgmArr0[j])"
   ]
  },
  {
   "cell_type": "code",
   "execution_count": 11,
   "metadata": {},
   "outputs": [
    {
     "data": {
      "application/vnd.jupyter.widget-view+json": {
       "model_id": "81fbeeb6b20a4b1ea6c0c4ceac06e497",
       "version_major": 2,
       "version_minor": 0
      },
      "text/plain": [
       "HBox(children=(IntProgress(value=0, max=80), HTML(value='')))"
      ]
     },
     "metadata": {},
     "output_type": "display_data"
    },
    {
     "name": "stdout",
     "output_type": "stream",
     "text": [
      "\n"
     ]
    }
   ],
   "source": [
    "## Driver code for filling in the wassertian distance matrix - dim 0 - by sklearn tda\n",
    "\n",
    "for i in tqdm(range(80)):\n",
    "    for j in (range(80)):\n",
    "        wassertian_distances_dim0[i][j] = tda.wasserstein(dgmArr0[i], dgmArr0[j])"
   ]
  },
  {
   "cell_type": "code",
   "execution_count": 12,
   "metadata": {},
   "outputs": [
    {
     "data": {
      "application/vnd.jupyter.widget-view+json": {
       "model_id": "65de31364f2d4d3a935d094bc7d9df83",
       "version_major": 2,
       "version_minor": 0
      },
      "text/plain": [
       "HBox(children=(IntProgress(value=0, max=80), HTML(value='')))"
      ]
     },
     "metadata": {},
     "output_type": "display_data"
    },
    {
     "name": "stdout",
     "output_type": "stream",
     "text": [
      "\n"
     ]
    }
   ],
   "source": [
    "## Driver code for filling in the wassertian distance matrix - dim 1 - by sklearn tda\n",
    "\n",
    "for i in tqdm(range(80)):\n",
    "    for j in (range(80)):\n",
    "        wassertian_distances_dim1[i][j] = tda.wasserstein(dgmArr1[i], dgmArr1[j])"
   ]
  },
  {
   "cell_type": "code",
   "execution_count": 168,
   "metadata": {},
   "outputs": [],
   "source": [
    "## Saving these matrices as a txt file for any future analysis required\n",
    "\n",
    "path = \"OutputDataP1_Distance/BottleneckDistanceDim1_Sampled.txt\"\n",
    "np.savetxt(path, bottleneck_distances_dim1, fmt = \"%0.6f\")\n",
    "path = \"OutputDataP1_Distance/BottleneckDistanceDim0_Sampled.txt\"\n",
    "np.savetxt(path, bottleneck_distances_dim0, fmt = \"%0.6f\")\n",
    "path = \"OutputDataP1_Distance/WassertianDistanceDim1_Sampled.txt\"\n",
    "np.savetxt(path, wassertian_distances_dim1, fmt = \"%0.6f\")\n",
    "path = \"OutputDataP1_Distance/WassertainDistanceDim0_Sampled.txt\"\n",
    "np.savetxt(path, wassertian_distances_dim0, fmt = \"%0.6f\")"
   ]
  },
  {
   "cell_type": "code",
   "execution_count": 13,
   "metadata": {},
   "outputs": [],
   "source": [
    "## Next we define a function which takes the distance matrix as the input and the method which you want to use \n",
    "## for dimensionality reduction. We return the transformed distance matrix. Also since the distances matrix are not\n",
    "## symmetric because the diagonally opposite values vary by some small amount. So to make it symmetric for MDS and TSNE, \n",
    "## we are temporarily averaging out the values with the transpose. This is just one of the ways to make it symmetric.\n",
    "## other way is to compute only upper triangular or lower triangular and copy value over to the other. \n",
    "\n",
    "def computeDimReduction(method, distances):\n",
    "    distances = (distances + distances.T)/2\n",
    "    distances_transformed = np.empty(shape=(80, 2))\n",
    "    if method == 'MDS':\n",
    "        distances_transformed = MDS(n_components=2, dissimilarity='precomputed').fit_transform(distances)\n",
    "    elif method == 'TSNE':\n",
    "        distances_transformed = TSNE(n_components=2, metric='precomputed').fit_transform(distances)\n",
    "    return distances_transformed"
   ]
  },
  {
   "cell_type": "code",
   "execution_count": 14,
   "metadata": {},
   "outputs": [],
   "source": [
    "## Compute the transformed distances using MDS and TSNE for dimension 1\n",
    "bottleneck_distances_dim1_MDS = computeDimReduction('MDS', bottleneck_distances_dim1)\n",
    "bottleneck_distances_dim1_TSNE = computeDimReduction('TSNE', bottleneck_distances_dim1)\n",
    "wassertian_distances_dim1_MDS = computeDimReduction('MDS', wassertian_distances_dim1)\n",
    "wassertian_distances_dim1_TSNE = computeDimReduction('TSNE', wassertian_distances_dim1)"
   ]
  },
  {
   "cell_type": "code",
   "execution_count": 15,
   "metadata": {},
   "outputs": [],
   "source": [
    "## Compute the transformed distances using MDS and TSNE for dimension 0\n",
    "bottleneck_distances_dim0_MDS = computeDimReduction('MDS', bottleneck_distances_dim0)\n",
    "bottleneck_distances_dim0_TSNE = computeDimReduction('TSNE', bottleneck_distances_dim0)\n",
    "wassertian_distances_dim0_MDS = computeDimReduction('MDS', wassertian_distances_dim0)\n",
    "wassertian_distances_dim0_TSNE = computeDimReduction('TSNE', wassertian_distances_dim0)"
   ]
  },
  {
   "cell_type": "code",
   "execution_count": 16,
   "metadata": {},
   "outputs": [],
   "source": [
    "## Utility function to project the MDS and TSNE points and color them according to the classes. \n",
    "def plotScatter(distances):\n",
    "    bd_x = np.zeros(len(distances))\n",
    "    bd_y = np.zeros(len(distances))\n",
    "\n",
    "    for i in range(len(distances)):\n",
    "        bd_x[i] = distances[i][0]\n",
    "        bd_y[i] = distances[i][1]\n",
    "\n",
    "    labelArray = np.zeros(80)\n",
    "    ## LabelArray contains the labels for each of the image. \n",
    "    \n",
    "    label = 0\n",
    "    for i in range(len(labelArray)):\n",
    "        if i % 10 == 0:\n",
    "            label += 1\n",
    "        labelArray[i] = label\n",
    "\n",
    "    plt.scatter(bd_x, bd_y, c = labelArray, cmap = \"tab10\")\n",
    "    plt.show()"
   ]
  },
  {
   "cell_type": "code",
   "execution_count": 45,
   "metadata": {
    "scrolled": false
   },
   "outputs": [
    {
     "data": {
      "image/png": "[encoded data removed]",
      "text/plain": [
       "<Figure size 432x288 with 1 Axes>"
      ]
     },
     "metadata": {},
     "output_type": "display_data"
    },
    {
     "name": "stdout",
     "output_type": "stream",
     "text": [
      "MDS - Bottleneck Distance Dim 0\n",
      "\n"
     ]
    },
    {
     "data": {
      "image/png": "[encoded data removed]",
      "text/plain": [
       "<Figure size 432x288 with 1 Axes>"
      ]
     },
     "metadata": {},
     "output_type": "display_data"
    },
    {
     "name": "stdout",
     "output_type": "stream",
     "text": [
      "TSNE - Bottleneck Distance Dim 0\n",
      "\n"
     ]
    },
    {
     "data": {
      "image/png": "[encoded data removed]",
      "text/plain": [
       "<Figure size 432x288 with 1 Axes>"
      ]
     },
     "metadata": {},
     "output_type": "display_data"
    },
    {
     "name": "stdout",
     "output_type": "stream",
     "text": [
      "MDS - Bottleneck Distance Dim 1\n",
      "\n"
     ]
    },
    {
     "data": {
      "image/png": "[encoded data removed]",
      "text/plain": [
       "<Figure size 432x288 with 1 Axes>"
      ]
     },
     "metadata": {},
     "output_type": "display_data"
    },
    {
     "name": "stdout",
     "output_type": "stream",
     "text": [
      "TSNE - Bottleneck Distance Dim 1\n",
      "\n"
     ]
    },
    {
     "data": {
      "image/png": "[encoded data removed]",
      "text/plain": [
       "<Figure size 432x288 with 1 Axes>"
      ]
     },
     "metadata": {},
     "output_type": "display_data"
    },
    {
     "name": "stdout",
     "output_type": "stream",
     "text": [
      "MDS - Wassertian Distance Dim 0\n",
      "\n"
     ]
    },
    {
     "data": {
      "image/png": "[encoded data removed]",
      "text/plain": [
       "<Figure size 432x288 with 1 Axes>"
      ]
     },
     "metadata": {},
     "output_type": "display_data"
    },
    {
     "name": "stdout",
     "output_type": "stream",
     "text": [
      "TSNE - Wassertian Distance Dim 0\n",
      "\n"
     ]
    },
    {
     "data": {
      "image/png": "[encoded data removed]",
      "text/plain": [
       "<Figure size 432x288 with 1 Axes>"
      ]
     },
     "metadata": {},
     "output_type": "display_data"
    },
    {
     "name": "stdout",
     "output_type": "stream",
     "text": [
      "MDS - Wassertian Distance Dim 1\n",
      "\n"
     ]
    },
    {
     "data": {
      "image/png": "[encoded data removed]",
      "text/plain": [
       "<Figure size 432x288 with 1 Axes>"
      ]
     },
     "metadata": {},
     "output_type": "display_data"
    },
    {
     "name": "stdout",
     "output_type": "stream",
     "text": [
      "TSNE - Wassertian Distance Dim 1\n",
      "\n"
     ]
    }
   ],
   "source": [
    "# Plots for Bottleneck Distances - Dim 0 and 1\n",
    "\n",
    "plotScatter(bottleneck_distances_dim0_MDS)\n",
    "print(\"MDS - Bottleneck Distance Dim 0\\n\")\n",
    "plotScatter(bottleneck_distances_dim0_TSNE)\n",
    "print(\"TSNE - Bottleneck Distance Dim 0\\n\")\n",
    "plotScatter(bottleneck_distances_dim1_MDS)\n",
    "print(\"MDS - Bottleneck Distance Dim 1\\n\")\n",
    "plotScatter(bottleneck_distances_dim1_TSNE)\n",
    "print(\"TSNE - Bottleneck Distance Dim 1\\n\")\n",
    "\n",
    "# Plots for Wassertian Distances - Dim 0 and 1\n",
    "plotScatter(wassertian_distances_dim0_MDS)\n",
    "print(\"MDS - Wassertian Distance Dim 0\\n\")\n",
    "plotScatter(wassertian_distances_dim0_TSNE)\n",
    "print(\"TSNE - Wassertian Distance Dim 0\\n\")\n",
    "plotScatter(wassertian_distances_dim1_MDS)\n",
    "print(\"MDS - Wassertian Distance Dim 1\\n\")\n",
    "plotScatter(wassertian_distances_dim1_TSNE)\n",
    "print(\"TSNE - Wassertian Distance Dim 1\\n\")"
   ]
  },
  {
   "cell_type": "markdown",
   "metadata": {},
   "source": [
    "### Passing raw images to MDS and TSNE\n",
    "\n",
    "Here, we are passing the raw images to MDS and TSNE functions. But for that, we need to process the images a bit. First thing is to resize all the 80 images to same size. To get the resizing coordinates, I first found out the maximum dimension in X and Y dimension of the image. In my dataset, it's 720 px so we used an online __[tool](https://bulkresizephotos.com/)__ to resize all the images to 730 * 730 px (extra 10 px to make sure no points are at the boundary). This resizing requires the use of padding by black pixels or 0 values. If we use white pixels for padding, it would result in extra dimension 0 and 1 features. \n",
    "\n",
    "Then, we read and store all the 80 images into a numpy array (named 'imgArray'). This is an array of arrays and it has dimensions of (80, 730, 730). Then, we flatten out all the images in this array by using the method or row by row concatenation discussed in the class. Finally, we call the MDS and TSNE functions over the flattened array and plot the results on a 2D plane."
   ]
  },
  {
   "cell_type": "code",
   "execution_count": 18,
   "metadata": {},
   "outputs": [],
   "source": [
    "### Find the maximum lenX and lenY for all the images.\n",
    "### The maximum value will be used to resize the images\n",
    "lenX = 0\n",
    "lenY = 0\n",
    "for i in range(len(listOfImages)):\n",
    "    for j in range(1, 11):\n",
    "        path = \"InputDataP1/\" + listOfImages[i] + str(j) + \".gif\"\n",
    "        img = readImage(path)\n",
    "        imgNp = np.asarray(img)\n",
    "        if lenX < imgNp.shape[0]:\n",
    "            lenX = imgNp.shape[0]\n",
    "        if lenY < imgNp.shape[1]:\n",
    "            lenY = imgNp.shape[1]"
   ]
  },
  {
   "cell_type": "code",
   "execution_count": 19,
   "metadata": {},
   "outputs": [
    {
     "name": "stdout",
     "output_type": "stream",
     "text": [
      "650 720\n"
     ]
    }
   ],
   "source": [
    "print(lenX, lenY)"
   ]
  },
  {
   "cell_type": "code",
   "execution_count": 20,
   "metadata": {},
   "outputs": [],
   "source": [
    "## this function converts the rgb channels of the images to a grayscale value. \n",
    "\n",
    "def rgb2gray(rgb):\n",
    "    return np.dot(rgb[...,:3], [0.2989, 0.5870, 0.1140])"
   ]
  },
  {
   "cell_type": "code",
   "execution_count": 21,
   "metadata": {},
   "outputs": [],
   "source": [
    "## Used online resizer tool to add padding to convert all images to 730 x 730 pixels\n",
    "imgArray = []\n",
    "\n",
    "for i in range(len(listOfImages)):\n",
    "    for j in range(1, 11):\n",
    "        path = \"InputDataP1_resize/\" + listOfImages[i] + str(j) + \".jpg\"\n",
    "        img = readImage(path)\n",
    "        img = rgb2gray(img)\n",
    "        imgNp = np.asarray(img)\n",
    "        imgArray.append(imgNp)\n",
    "\n",
    "imgArray = np.asarray(imgArray) "
   ]
  },
  {
   "cell_type": "code",
   "execution_count": 22,
   "metadata": {},
   "outputs": [
    {
     "data": {
      "text/plain": [
       "(80, 730, 730)"
      ]
     },
     "execution_count": 22,
     "metadata": {},
     "output_type": "execute_result"
    }
   ],
   "source": [
    "imgArray.shape"
   ]
  },
  {
   "cell_type": "code",
   "execution_count": 23,
   "metadata": {},
   "outputs": [
    {
     "name": "stdout",
     "output_type": "stream",
     "text": [
      "(532900,)\n"
     ]
    }
   ],
   "source": [
    "imgArray_flatten = [ np.empty(730*730) for x in range(80)]\n",
    "print(imgArray_flatten[0].shape)"
   ]
  },
  {
   "cell_type": "code",
   "execution_count": 24,
   "metadata": {},
   "outputs": [
    {
     "data": {
      "application/vnd.jupyter.widget-view+json": {
       "model_id": "3d0be25b758043a9ae2b9179ef74cd5e",
       "version_major": 2,
       "version_minor": 0
      },
      "text/plain": [
       "HBox(children=(IntProgress(value=0, max=80), HTML(value='')))"
      ]
     },
     "metadata": {},
     "output_type": "display_data"
    },
    {
     "name": "stdout",
     "output_type": "stream",
     "text": [
      "\n"
     ]
    }
   ],
   "source": [
    "for i in tqdm(range(len(imgArray))):\n",
    "    imgArray_flatten[i] = imgArray[i].flatten()"
   ]
  },
  {
   "cell_type": "code",
   "execution_count": 25,
   "metadata": {},
   "outputs": [],
   "source": [
    "# path = \"OutputDataP1_Distance/flattenImgArray.txt\"\n",
    "# np.savetxt(path, imgArray_flatten, fmt = \"%0.6f\")"
   ]
  },
  {
   "cell_type": "code",
   "execution_count": 26,
   "metadata": {},
   "outputs": [],
   "source": [
    "## Running the flattened array on MDS and TSNE and produce results for part 1 - 3\n",
    "\n",
    "## Compute the transformed distances using MDS\n",
    "x = imgArray_flatten\n",
    "imgArray_MDS = MDS(n_components=2).fit_transform(x)\n",
    "imgArray_TSNE = TSNE(n_components = 2).fit_transform(x)"
   ]
  },
  {
   "cell_type": "code",
   "execution_count": 27,
   "metadata": {},
   "outputs": [
    {
     "data": {
      "image/png": "[encoded data removed]",
      "text/plain": [
       "<Figure size 432x288 with 1 Axes>"
      ]
     },
     "metadata": {},
     "output_type": "display_data"
    },
    {
     "data": {
      "image/png": "[encoded data removed]",
      "text/plain": [
       "<Figure size 432x288 with 1 Axes>"
      ]
     },
     "metadata": {},
     "output_type": "display_data"
    }
   ],
   "source": [
    "plotScatter(imgArray_MDS)\n",
    "plotScatter(imgArray_TSNE)"
   ]
  },
  {
   "cell_type": "markdown",
   "metadata": {},
   "source": [
    "### Comparison between the MDS and TSNE plots of Raw Images vs plots from Bottleneck and Wassertian Distance\n",
    "\n",
    "We get 8 different plots in Part 1.1 and 1.2 for dimension 0 and 1 respectively. From all the plots of MDS and TSNE, we can observe that the TSNE produces a bit better results than MDS in terms of clustering of the points. Also, we can observe that the output plots from the raw images are also slightly better than the plots we get from bottleneck and wassertian distance. One more thing to be observed is for dimension 0 and MDS, both wassertian distance and bottleneck distances produces plots which are not clustered so well compared to TSNE.  "
   ]
  },
  {
   "cell_type": "markdown",
   "metadata": {},
   "source": [
    "# Part 2 - Classification"
   ]
  },
  {
   "cell_type": "markdown",
   "metadata": {},
   "source": [
    "### Labels creation"
   ]
  },
  {
   "cell_type": "markdown",
   "metadata": {},
   "source": [
    "Initialize labels for the input data points. In this case it will be 1 label each for the 80 images. For the 8 classes, we will have 1 label for each image classes. Eg. apple will have label 0, car will have label 1 and so on. \n",
    "\n",
    "For the 4 classes case, we are simply allocating a single label to the combination of two image classes. For example, the \"apple\" and \"car \" have same labels. The assignment of equal labels to two classes is finalized by looking at the persistence diagram of the images and see which classes are the closest ones and assign them the same label"
   ]
  },
  {
   "cell_type": "code",
   "execution_count": 28,
   "metadata": {},
   "outputs": [],
   "source": [
    "# labels8 is an array of labels when there are 8 classes\n",
    "labels8 = np.zeros(80)\n",
    "# labels4 is an array of labels when there are 4 classes\n",
    "labels4 = np.zeros(80)\n",
    "\n",
    "counter = -1\n",
    "for i in range(80):\n",
    "    if i % 10 == 0:\n",
    "        counter += 1\n",
    "    labels8[i] = int(counter)\n",
    "\n",
    "counter = -1\n",
    "for i in range(80):\n",
    "    if i % 20 == 0:\n",
    "        counter += 1\n",
    "    labels4[i] = int(counter)\n",
    "    \n",
    "labels8 = labels8.astype(int)\n",
    "labels4 = labels4.astype(int)"
   ]
  },
  {
   "cell_type": "code",
   "execution_count": 29,
   "metadata": {},
   "outputs": [
    {
     "data": {
      "text/plain": [
       "array([0, 0, 0, 0, 0, 0, 0, 0, 0, 0, 1, 1, 1, 1, 1, 1, 1, 1, 1, 1, 2, 2,\n",
       "       2, 2, 2, 2, 2, 2, 2, 2, 3, 3, 3, 3, 3, 3, 3, 3, 3, 3, 4, 4, 4, 4,\n",
       "       4, 4, 4, 4, 4, 4, 5, 5, 5, 5, 5, 5, 5, 5, 5, 5, 6, 6, 6, 6, 6, 6,\n",
       "       6, 6, 6, 6, 7, 7, 7, 7, 7, 7, 7, 7, 7, 7])"
      ]
     },
     "execution_count": 29,
     "metadata": {},
     "output_type": "execute_result"
    }
   ],
   "source": [
    "labels8"
   ]
  },
  {
   "cell_type": "code",
   "execution_count": 30,
   "metadata": {},
   "outputs": [
    {
     "data": {
      "text/plain": [
       "array([0, 0, 0, 0, 0, 0, 0, 0, 0, 0, 0, 0, 0, 0, 0, 0, 0, 0, 0, 0, 1, 1,\n",
       "       1, 1, 1, 1, 1, 1, 1, 1, 1, 1, 1, 1, 1, 1, 1, 1, 1, 1, 2, 2, 2, 2,\n",
       "       2, 2, 2, 2, 2, 2, 2, 2, 2, 2, 2, 2, 2, 2, 2, 2, 3, 3, 3, 3, 3, 3,\n",
       "       3, 3, 3, 3, 3, 3, 3, 3, 3, 3, 3, 3, 3, 3])"
      ]
     },
     "execution_count": 30,
     "metadata": {},
     "output_type": "execute_result"
    }
   ],
   "source": [
    "labels4"
   ]
  },
  {
   "cell_type": "markdown",
   "metadata": {},
   "source": [
    "## Classifying the images - Part 2.1\n",
    "\n",
    "Here we are using the flattened image array to get the train, test, training labels, testing labels after splitting the original data by 80% training and 20% testing ratio. For each of the classes, first 8 images will be considered a part of the training set and the rest 2 images will be added to the training set. Then, we are using the linear SVC kernel to fit and calculate the accuracy of the prediction. We get very high accuracy of prediction, nearly about 93.75% most of the times. It sometimes fluctuates to 80% or 100% depending on the random train_test_split we have. "
   ]
  },
  {
   "cell_type": "markdown",
   "metadata": {},
   "source": [
    "### Run for 8 classes/labels"
   ]
  },
  {
   "cell_type": "code",
   "execution_count": 31,
   "metadata": {},
   "outputs": [],
   "source": [
    "X_train1, X_test1, Y_train1, Y_test1 = train_test_split(imgArray_flatten, labels8, test_size = 0.2, stratify = labels8)"
   ]
  },
  {
   "cell_type": "code",
   "execution_count": 32,
   "metadata": {},
   "outputs": [
    {
     "data": {
      "text/plain": [
       "0.9375"
      ]
     },
     "execution_count": 32,
     "metadata": {},
     "output_type": "execute_result"
    }
   ],
   "source": [
    "svm = SVC(kernel = 'linear')\n",
    "svm.fit([image for image in X_train1], Y_train1)\n",
    "svm.score([image for image in X_test1], Y_test1)"
   ]
  },
  {
   "cell_type": "markdown",
   "metadata": {},
   "source": [
    "### Run for 4 classes/labels"
   ]
  },
  {
   "cell_type": "code",
   "execution_count": 33,
   "metadata": {},
   "outputs": [],
   "source": [
    "X_train1, X_test1, Y_train1, Y_test1 = train_test_split(imgArray_flatten, labels8, test_size = 0.2, stratify = labels4)"
   ]
  },
  {
   "cell_type": "code",
   "execution_count": 34,
   "metadata": {},
   "outputs": [
    {
     "data": {
      "text/plain": [
       "1.0"
      ]
     },
     "execution_count": 34,
     "metadata": {},
     "output_type": "execute_result"
    }
   ],
   "source": [
    "svm = SVC(kernel = 'linear')\n",
    "svm.fit([image for image in X_train1], Y_train1)\n",
    "svm.score([image for image in X_test1], Y_test1)"
   ]
  },
  {
   "cell_type": "markdown",
   "metadata": {},
   "source": [
    "## Persistence Scale Space Kernels\n",
    "\n",
    "To perform the classification using Persistence Scale Space Kernels, we use the scikitlearn_tda library. There's an inbuilt function called PersistenceScaleSpaceKernel(). We first split the training and testing data from the persistence diagram array i.e. dgmArr1 and dgmArr0. We then use SVC with 'precomputed' options to compute the fit and score of the Scale Space Kernel. We run this code first for 8 classes/labels and for both 0 and 1 dimensional features. We then perform similar runs for 4 classes/labels. Accracy of predictions are reported with each of the running cell. \n",
    "\n",
    "We get good accuracies for both the runs with 8 and 4 labels respectively. For dimension 1 in both the cases, we get fluctuating accuracies centered around 62.5% with mostly on high side being 81%. Similarly for dimension 0, we get relatively lower accuracies centered around 43.75%."
   ]
  },
  {
   "cell_type": "markdown",
   "metadata": {},
   "source": [
    "### Run for 8 classes/labels"
   ]
  },
  {
   "cell_type": "code",
   "execution_count": 35,
   "metadata": {},
   "outputs": [
    {
     "data": {
      "text/plain": [
       "0.8125"
      ]
     },
     "execution_count": 35,
     "metadata": {},
     "output_type": "execute_result"
    }
   ],
   "source": [
    "## For Dimension 1\n",
    "X_train1, X_test1, Y_train1, Y_test1 = train_test_split(dgmArr1, labels8, test_size = 0.2, stratify = labels8)\n",
    "clf = SVC(kernel = 'precomputed')\n",
    "SpaceKernel = tda.PersistenceScaleSpaceKernel()\n",
    "\n",
    "trainingKernel = SpaceKernel.fit(X_train1).transform(X_train1)\n",
    "testingKernal = SpaceKernel.transform(X_test1)\n",
    "clf.fit(trainingKernel, Y_train1)\n",
    "clf.score(testingKernal, Y_test1)"
   ]
  },
  {
   "cell_type": "code",
   "execution_count": 36,
   "metadata": {},
   "outputs": [
    {
     "data": {
      "text/plain": [
       "0.625"
      ]
     },
     "execution_count": 36,
     "metadata": {},
     "output_type": "execute_result"
    }
   ],
   "source": [
    "## For Dimension 0\n",
    "X_train1, X_test1, Y_train1, Y_test1 = train_test_split(dgmArr0, labels8, test_size = 0.2, stratify = labels8)\n",
    "clf = SVC(kernel = 'precomputed')\n",
    "SpaceKernel = tda.PersistenceScaleSpaceKernel()\n",
    "\n",
    "trainingKernel = SpaceKernel.fit(X_train1).transform(X_train1)\n",
    "testingKernal = SpaceKernel.transform(X_test1)\n",
    "clf.fit(trainingKernel, Y_train1)\n",
    "clf.score(testingKernal, Y_test1)"
   ]
  },
  {
   "cell_type": "markdown",
   "metadata": {},
   "source": [
    "### Run for 4 classes/labels"
   ]
  },
  {
   "cell_type": "code",
   "execution_count": 37,
   "metadata": {},
   "outputs": [
    {
     "data": {
      "text/plain": [
       "0.875"
      ]
     },
     "execution_count": 37,
     "metadata": {},
     "output_type": "execute_result"
    }
   ],
   "source": [
    "## For Dimension 1\n",
    "X_train1, X_test1, Y_train1, Y_test1 = train_test_split(dgmArr1, labels4, test_size = 0.2, stratify = labels4)\n",
    "clf = SVC(kernel = 'precomputed')\n",
    "SpaceKernel = tda.PersistenceScaleSpaceKernel()\n",
    "\n",
    "trainingKernel = SpaceKernel.fit(X_train1).transform(X_train1)\n",
    "testingKernal = SpaceKernel.transform(X_test1)\n",
    "clf.fit(trainingKernel, Y_train1)\n",
    "clf.score(testingKernal, Y_test1)"
   ]
  },
  {
   "cell_type": "code",
   "execution_count": 38,
   "metadata": {},
   "outputs": [
    {
     "data": {
      "text/plain": [
       "0.375"
      ]
     },
     "execution_count": 38,
     "metadata": {},
     "output_type": "execute_result"
    }
   ],
   "source": [
    "## For Dimension 0\n",
    "X_train1, X_test1, Y_train1, Y_test1 = train_test_split(dgmArr0, labels4, test_size = 0.2, stratify = labels4)\n",
    "clf = SVC(kernel = 'precomputed')\n",
    "SpaceKernel = tda.PersistenceScaleSpaceKernel()\n",
    "\n",
    "trainingKernel = SpaceKernel.fit(X_train1).transform(X_train1)\n",
    "testingKernal = SpaceKernel.transform(X_test1)\n",
    "clf.fit(trainingKernel, Y_train1)\n",
    "clf.score(testingKernal, Y_test1)"
   ]
  },
  {
   "cell_type": "markdown",
   "metadata": {},
   "source": [
    "## Persistence Images classifications\n",
    "\n",
    "Similar to the previous case, here also we perform the experiments with 8 and 4 classes/labels resp. First, we compute the persistence images from the persistence diagrams array i.e dgmArr0 or dgmArr1 using the PersImage function implemented in persim. Once, we have the persistence diagram array, we split the training and testing data from the persistence diagram array. After that, we use linear SVC kernel to perform classification. \n",
    "\n",
    "We get good accuracies for both the runs with 8 labels respectively. In the case of 8 labels, for dimension 1 in both the cases, we get fluctuating accuracies centered around 56.25% with high being 93.75% and low being around 43%. Similarly for dimension 0, we get relatively lower accuracies centered around 37.5%. In the case of 4 labels, for dimension 1, we get varying accuracies on each run centred around 37.5% and for dimension 0, we get varying accuracies centered around 25%. "
   ]
  },
  {
   "cell_type": "code",
   "execution_count": 39,
   "metadata": {},
   "outputs": [],
   "source": [
    "## Get the persistence images from the persistence diagrams array using the PersImage function in persim\n",
    "\n",
    "persDgm1 = []\n",
    "persDgm0 = []\n",
    "\n",
    "for i in range(len(dgmArr1)):\n",
    "    persDgm1.append(persim.PersImage(verbose=False).transform(dgmArr1[i]))\n",
    "    persDgm0.append(persim.PersImage(verbose=False).transform(dgmArr0[i]))"
   ]
  },
  {
   "cell_type": "markdown",
   "metadata": {},
   "source": [
    "### Running for 8 classes/labels"
   ]
  },
  {
   "cell_type": "code",
   "execution_count": 40,
   "metadata": {},
   "outputs": [
    {
     "data": {
      "text/plain": [
       "0.5625"
      ]
     },
     "execution_count": 40,
     "metadata": {},
     "output_type": "execute_result"
    }
   ],
   "source": [
    "## Running for dimension 0 persistence diagrams\n",
    "X_train1, X_test1, Y_train1, Y_test1 = train_test_split(persDgm0, labels8, test_size = 0.2, stratify = labels8)\n",
    "svm = SVC(kernel = 'linear')\n",
    "svm.fit([image.flatten() for image in X_train1], Y_train1)\n",
    "svm.score([image.flatten() for image in X_test1], Y_test1)"
   ]
  },
  {
   "cell_type": "code",
   "execution_count": 41,
   "metadata": {},
   "outputs": [
    {
     "data": {
      "text/plain": [
       "0.6875"
      ]
     },
     "execution_count": 41,
     "metadata": {},
     "output_type": "execute_result"
    }
   ],
   "source": [
    "## Running for dimension 1 persistence diagrams\n",
    "X_train1, X_test1, Y_train1, Y_test1 = train_test_split(persDgm1, labels8, test_size = 0.2, stratify = labels8)\n",
    "svm = SVC(kernel = 'linear')\n",
    "svm.fit([image.flatten() for image in X_train1], Y_train1)\n",
    "svm.score([image.flatten() for image in X_test1], Y_test1)"
   ]
  },
  {
   "cell_type": "markdown",
   "metadata": {},
   "source": [
    "### Running for 4 classes/labels"
   ]
  },
  {
   "cell_type": "code",
   "execution_count": 42,
   "metadata": {},
   "outputs": [
    {
     "data": {
      "text/plain": [
       "0.3125"
      ]
     },
     "execution_count": 42,
     "metadata": {},
     "output_type": "execute_result"
    }
   ],
   "source": [
    "## Running for dimension 0 persistence diagrams\n",
    "X_train1, X_test1, Y_train1, Y_test1 = train_test_split(persDgm0, labels8, test_size = 0.2, stratify = labels4)\n",
    "svm = SVC(kernel = 'linear')\n",
    "svm.fit([image.flatten() for image in X_train1], Y_train1)\n",
    "svm.score([image.flatten() for image in X_test1], Y_test1)"
   ]
  },
  {
   "cell_type": "code",
   "execution_count": 43,
   "metadata": {},
   "outputs": [
    {
     "data": {
      "text/plain": [
       "0.125"
      ]
     },
     "execution_count": 43,
     "metadata": {},
     "output_type": "execute_result"
    }
   ],
   "source": [
    "## Running for dimension 1 persistence diagrams\n",
    "X_train1, X_test1, Y_train1, Y_test1 = train_test_split(persDgm1, labels8, test_size = 0.2, stratify = labels4)\n",
    "svm = SVC(kernel = 'linear')\n",
    "svm.fit([image.flatten() for image in X_train1], Y_train1)\n",
    "svm.score([image.flatten() for image in X_test1], Y_test1)"
   ]
  },
  {
   "cell_type": "markdown",
   "metadata": {},
   "source": [
    "The table below summarizes all the accuracies. But please note, these are just an snapshot at a point of time, real accuracies fluctuates with every run since the testing and training data is changed on every run."
   ]
  },
  {
   "cell_type": "markdown",
   "metadata": {},
   "source": [
    "|      | Accuracy ( 8 Labels) - Dim 0 | Accuracy ( 4 Labels) - Dim 0  | Accuracy ( 8 Labels) - Dim 1 | Accuracy ( 4 Labels) - Dim 1 |\n",
    "|------|----------------------|----------------------|\n",
    "|   Image Classification (Linear Kernel)  |    93.75%             |      100%                |    93.75%             |      100%                |\n",
    "|   Persistence Space Scale Kernel    |    43.75%             |      43.75%                |   68.75%             |      81.25%                |\n",
    "|   Persistence Image Classification    |    37.5%             |      25%                |   56.25%             |      37.5%                |"
   ]
  },
  {
   "cell_type": "markdown",
   "metadata": {},
   "source": [
    "## Appendix\n",
    "\n",
    "### File Folders\n",
    "\n",
    "Full Data -> Full original MPEG-7 Data\n",
    "\n",
    "InputDataP1 -> contains the 80 input image files which is being used for the processing\n",
    "\n",
    "InputDataP1_resize -> contains the resized 80 input image files (each image is now 730*730 px)\n",
    "\n",
    "OutputDataP1_PointCloud_NonSampled -> Point cloud from the original image. No sampling is done here. I am not using it in this code but just included it as a reference.\n",
    "\n",
    "OutputDataP1_PointCloud_Sampled -> Due to memory and timing issues, we sample 200 points from the data as we discussed earlier. I am using this data to generate barcodes. \n",
    "\n",
    "OutputP1_Barcode -> Barcodes or Persistence Diagrams for the original image. Not using it in the code. \n",
    "\n",
    "OutputDataP1_Barcode_Sampled -> Barcodes or Persistence Diagrams for the sampled image.\n",
    "\n",
    "OutputDataP1_Distance -> Contains the bottleneck and wassertian distance matrices for dimension 0 and 1 resp. It also contains the flattened image array of size 80 * 532900.\n",
    "\n",
    "Figures -> contains the plots from this ipynb\n",
    "\n",
    "### Python Libraries used\n",
    "\n",
    "Following libraries were used in their latest versions: numpy, matplotlib, scipy, subprocess, persim, ripser, tadasets, tqdm, sklearn - MDS, sklearn TSNE, PIL, Counter from collections, sklearn\\_tda, sklearn svm, sklearn model selection"
   ]
  },
  {
   "cell_type": "code",
   "execution_count": null,
   "metadata": {},
   "outputs": [],
   "source": []
  }
 ],
 "metadata": {
  "kernelspec": {
   "display_name": "Python 3",
   "language": "python",
   "name": "python3"
  },
  "language_info": {
   "codemirror_mode": {
    "name": "ipython",
    "version": 3
   },
   "file_extension": ".py",
   "mimetype": "text/x-python",
   "name": "python",
   "nbconvert_exporter": "python",
   "pygments_lexer": "ipython3",
   "version": "3.6.8"
  }
 },
 "nbformat": 4,
 "nbformat_minor": 2
}
