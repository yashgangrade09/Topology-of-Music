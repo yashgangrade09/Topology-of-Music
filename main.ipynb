{
 "cells": [
  {
   "cell_type": "code",
   "execution_count": 1,
   "metadata": {},
   "outputs": [
    {
     "name": "stdout",
     "output_type": "stream",
     "text": [
      "Gudhi not found--GraphInducedComplex not available\n"
     ]
    }
   ],
   "source": [
    "import mido\n",
    "import heapq # merge (i.e. from mergesort)\n",
    "import ripser\n",
    "import numpy as np\n",
    "from tqdm import tqdm_notebook as tqdm\n",
    "from sklearn.manifold import MDS\n",
    "from sklearn.manifold import TSNE\n",
    "import sklearn_tda as tda\n",
    "import matplotlib.pyplot as plt"
   ]
  },
  {
   "cell_type": "code",
   "execution_count": 2,
   "metadata": {},
   "outputs": [
    {
     "name": "stdout",
     "output_type": "stream",
     "text": [
      "Track 0: \n",
      "Track 1: \n"
     ]
    }
   ],
   "source": [
    "mid = mido.MidiFile('data/011.mid')\n",
    "msgArray = []\n",
    "for i, track in enumerate(mid.tracks):\n",
    "    print('Track {}: {}'.format(i, track.name))\n",
    "    for msg in track:\n",
    "        msgArray.append(msg)\n",
    "#         print(msg)"
   ]
  },
  {
   "cell_type": "code",
   "execution_count": 3,
   "metadata": {},
   "outputs": [],
   "source": [
    "# put together midi files \n",
    "def convertToAbsoluteTimeAndMerge(mid):\n",
    "    # takes the full midi object as input\n",
    "    # outputs list of pairs: [..., (abs_time, midi_message), ...]\n",
    "    allEvents = []\n",
    "    for i, track in enumerate(mid.tracks):\n",
    "        allEvents.append([])\n",
    "        abs_time = 0\n",
    "        for msg in track:\n",
    "            abs_time = abs_time + msg.time\n",
    "            if msg.type == 'note_on' and msg.velocity > 0:\n",
    "                allEvents[i].append((abs_time, msg))\n",
    "\n",
    "    return list(heapq.merge(*allEvents, key=lambda x: x[0]))"
   ]
  },
  {
   "cell_type": "code",
   "execution_count": 4,
   "metadata": {},
   "outputs": [],
   "source": [
    "# return one dimensional point cloud -> n nodes\n",
    "def ExtractSingleNotesUnique(notes, getNote=lambda x: x):\n",
    "    # takes the ordered set of notes as inputs. The actual note is accessed using the getNote function\n",
    "    # outputs the set of notes (modulo 12) in the midi file\n",
    "    noteSet = set()\n",
    "    for note in notes:\n",
    "        noteSet.add(getNote(note) % 12)\n",
    "    return np.array(noteSet)"
   ]
  },
  {
   "cell_type": "code",
   "execution_count": 5,
   "metadata": {},
   "outputs": [],
   "source": [
    "# 3D point cloud return -> note 1 note 2 note 3; note 2 note 3 note 4 -> easiest way to preserve time series. return M X N point cloud\n",
    "def ExtractNotesTimeSeriesUnique(notes, N, getNote=lambda x: x):\n",
    "    noteSeriesSet = set()\n",
    "    for ind in range(len(notes) - N + 1):\n",
    "        noteSeries = tuple(getNote(notes[ind + j]) % 12 for j in range(N))\n",
    "        noteSeriesSet.add(noteSeries)\n",
    "    return np.array([np.array(noteSeries) for noteSeries in noteSeriesSet])"
   ]
  },
  {
   "cell_type": "code",
   "execution_count": 6,
   "metadata": {},
   "outputs": [],
   "source": [
    "# defines the distance function between every pair of points in the point cloud\n",
    "def ComputeNNoteSeriesDistances(noteSeriesSet):\n",
    "    dists = np.zeros((len(noteSeriesSet), len(noteSeriesSet)))\n",
    "    for i in range(noteSeriesSet.shape[0]):\n",
    "        for j in range(i, noteSeriesSet.shape[0]):\n",
    "            v = np.abs(noteSeriesSet[i] - noteSeriesSet[j])\n",
    "            diffVec = np.minimum(v, 12 - v)\n",
    "            dists[i,j] = np.sum(diffVec)\n",
    "            dists[j,i] = dists[i,j]\n",
    "    return dists"
   ]
  },
  {
   "cell_type": "code",
   "execution_count": 7,
   "metadata": {},
   "outputs": [
    {
     "data": {
      "text/plain": [
       "93"
      ]
     },
     "execution_count": 7,
     "metadata": {},
     "output_type": "execute_result"
    }
   ],
   "source": [
    "mid.tracks[0][20].note"
   ]
  },
  {
   "cell_type": "code",
   "execution_count": 32,
   "metadata": {},
   "outputs": [
    {
     "data": {
      "text/plain": [
       "[(0, <message note_on channel=9 note=42 velocity=99 time=0>),\n",
       " (960, <message note_on channel=9 note=42 velocity=99 time=481>),\n",
       " (1920, <message note_on channel=9 note=42 velocity=99 time=481>),\n",
       " (2400, <message note_on channel=9 note=42 velocity=99 time=1>),\n",
       " (2880, <message note_on channel=9 note=42 velocity=99 time=1>),\n",
       " (3360, <message note_on channel=9 note=42 velocity=99 time=1>),\n",
       " (4320, <message note_on channel=9 note=42 velocity=99 time=481>),\n",
       " (5280, <message note_on channel=9 note=42 velocity=99 time=481>),\n",
       " (6240, <message note_on channel=9 note=42 velocity=99 time=481>),\n",
       " (7200, <message note_on channel=9 note=42 velocity=99 time=481>),\n",
       " (8160, <message note_on channel=9 note=42 velocity=99 time=481>),\n",
       " (9120, <message note_on channel=9 note=42 velocity=99 time=481>),\n",
       " (10080, <message note_on channel=9 note=42 velocity=99 time=481>),\n",
       " (11040, <message note_on channel=9 note=42 velocity=99 time=481>),\n",
       " (12000, <message note_on channel=9 note=42 velocity=99 time=481>),\n",
       " (12960, <message note_on channel=9 note=42 velocity=99 time=481>),\n",
       " (13920, <message note_on channel=9 note=42 velocity=99 time=481>),\n",
       " (14880, <message note_on channel=9 note=42 velocity=99 time=481>),\n",
       " (15840, <message note_on channel=9 note=42 velocity=99 time=481>),\n",
       " (16800, <message note_on channel=9 note=42 velocity=99 time=481>),\n",
       " (17760, <message note_on channel=9 note=42 velocity=99 time=481>),\n",
       " (18720, <message note_on channel=9 note=42 velocity=99 time=481>),\n",
       " (18960, <message note_on channel=9 note=42 velocity=99 time=1>),\n",
       " (19200, <message note_on channel=9 note=57 velocity=115 time=1>),\n",
       " (19200, <message note_on channel=9 note=36 velocity=127 time=0>),\n",
       " (19440, <message note_on channel=9 note=46 velocity=99 time=1>),\n",
       " (19680, <message note_on channel=9 note=40 velocity=127 time=1>),\n",
       " (19680, <message note_on channel=9 note=46 velocity=99 time=0>),\n",
       " (19920, <message note_on channel=9 note=46 velocity=99 time=1>),\n",
       " (20040, <message note_on channel=9 note=36 velocity=127 time=120>),\n",
       " (20160, <message note_on channel=9 note=46 velocity=99 time=1>),\n",
       " (20400, <message note_on channel=9 note=46 velocity=99 time=1>),\n",
       " (20400, <message note_on channel=9 note=36 velocity=127 time=0>),\n",
       " (20640, <message note_on channel=9 note=40 velocity=127 time=1>),\n",
       " (20640, <message note_on channel=9 note=46 velocity=99 time=0>),\n",
       " (20880, <message note_on channel=9 note=46 velocity=99 time=1>),\n",
       " (21120, <message note_on channel=9 note=46 velocity=99 time=1>),\n",
       " (21120, <message note_on channel=9 note=36 velocity=127 time=0>),\n",
       " (21360, <message note_on channel=9 note=46 velocity=99 time=1>),\n",
       " (21600, <message note_on channel=9 note=40 velocity=127 time=1>),\n",
       " (21600, <message note_on channel=9 note=46 velocity=99 time=0>),\n",
       " (21840, <message note_on channel=9 note=46 velocity=99 time=1>),\n",
       " (21960, <message note_on channel=9 note=36 velocity=127 time=120>),\n",
       " (22080, <message note_on channel=9 note=46 velocity=99 time=1>),\n",
       " (22320, <message note_on channel=9 note=46 velocity=99 time=1>),\n",
       " (22320, <message note_on channel=9 note=36 velocity=127 time=0>),\n",
       " (22560, <message note_on channel=9 note=40 velocity=127 time=1>),\n",
       " (22560, <message note_on channel=9 note=46 velocity=99 time=0>),\n",
       " (22800, <message note_on channel=9 note=46 velocity=99 time=1>),\n",
       " (23040, <message note_on channel=9 note=57 velocity=115 time=1>),\n",
       " (23040, <message note_on channel=9 note=36 velocity=127 time=0>),\n",
       " (23280, <message note_on channel=9 note=46 velocity=99 time=1>),\n",
       " (23520, <message note_on channel=9 note=40 velocity=127 time=1>),\n",
       " (23520, <message note_on channel=9 note=46 velocity=99 time=0>),\n",
       " (23760, <message note_on channel=9 note=46 velocity=99 time=1>),\n",
       " (23880, <message note_on channel=9 note=36 velocity=127 time=120>),\n",
       " (24000, <message note_on channel=9 note=46 velocity=99 time=1>),\n",
       " (24240, <message note_on channel=9 note=46 velocity=99 time=1>),\n",
       " (24240, <message note_on channel=9 note=36 velocity=127 time=0>),\n",
       " (24480, <message note_on channel=9 note=40 velocity=127 time=1>),\n",
       " (24480, <message note_on channel=9 note=46 velocity=99 time=0>),\n",
       " (24720, <message note_on channel=9 note=46 velocity=99 time=1>),\n",
       " (24960, <message note_on channel=9 note=46 velocity=99 time=1>),\n",
       " (24960, <message note_on channel=9 note=36 velocity=127 time=0>),\n",
       " (25200, <message note_on channel=9 note=46 velocity=99 time=1>),\n",
       " (25440, <message note_on channel=9 note=40 velocity=127 time=1>),\n",
       " (25440, <message note_on channel=9 note=46 velocity=99 time=0>),\n",
       " (25680, <message note_on channel=9 note=46 velocity=99 time=1>),\n",
       " (25800, <message note_on channel=9 note=36 velocity=127 time=120>),\n",
       " (25920, <message note_on channel=9 note=46 velocity=99 time=1>),\n",
       " (26040, <message note_on channel=9 note=40 velocity=127 time=1>),\n",
       " (26160, <message note_on channel=9 note=46 velocity=99 time=1>),\n",
       " (26160, <message note_on channel=9 note=36 velocity=127 time=0>),\n",
       " (26280, <message note_on channel=9 note=36 velocity=127 time=1>),\n",
       " (26400, <message note_on channel=9 note=40 velocity=127 time=1>),\n",
       " (26400, <message note_on channel=9 note=46 velocity=99 time=0>),\n",
       " (26640, <message note_on channel=9 note=46 velocity=99 time=1>),\n",
       " (26880, <message note_on channel=9 note=57 velocity=115 time=1>),\n",
       " (26880, <message note_on channel=9 note=36 velocity=127 time=0>),\n",
       " (27120, <message note_on channel=9 note=46 velocity=99 time=1>),\n",
       " (27360, <message note_on channel=9 note=40 velocity=127 time=1>),\n",
       " (27360, <message note_on channel=9 note=46 velocity=99 time=0>),\n",
       " (27600, <message note_on channel=9 note=46 velocity=99 time=1>),\n",
       " (27720, <message note_on channel=9 note=36 velocity=127 time=120>),\n",
       " (27840, <message note_on channel=9 note=46 velocity=99 time=1>),\n",
       " (28080, <message note_on channel=9 note=46 velocity=99 time=1>),\n",
       " (28080, <message note_on channel=9 note=36 velocity=127 time=0>),\n",
       " (28320, <message note_on channel=9 note=40 velocity=127 time=1>),\n",
       " (28320, <message note_on channel=9 note=46 velocity=99 time=0>),\n",
       " (28560, <message note_on channel=9 note=46 velocity=99 time=1>),\n",
       " (28800, <message note_on channel=9 note=46 velocity=99 time=1>),\n",
       " (28800, <message note_on channel=9 note=36 velocity=127 time=0>),\n",
       " (29040, <message note_on channel=9 note=46 velocity=99 time=1>),\n",
       " (29280, <message note_on channel=9 note=40 velocity=127 time=1>),\n",
       " (29280, <message note_on channel=9 note=46 velocity=99 time=0>),\n",
       " (29520, <message note_on channel=9 note=46 velocity=99 time=1>),\n",
       " (29640, <message note_on channel=9 note=36 velocity=127 time=120>),\n",
       " (29760, <message note_on channel=9 note=46 velocity=99 time=1>),\n",
       " (30000, <message note_on channel=9 note=46 velocity=99 time=1>),\n",
       " (30000, <message note_on channel=9 note=36 velocity=127 time=0>),\n",
       " (30240, <message note_on channel=9 note=40 velocity=127 time=1>),\n",
       " (30240, <message note_on channel=9 note=46 velocity=99 time=0>),\n",
       " (30480, <message note_on channel=9 note=46 velocity=99 time=1>),\n",
       " (30720, <message note_on channel=9 note=57 velocity=115 time=1>),\n",
       " (30720, <message note_on channel=9 note=36 velocity=127 time=0>),\n",
       " (30960, <message note_on channel=9 note=46 velocity=99 time=1>),\n",
       " (31200, <message note_on channel=9 note=40 velocity=127 time=1>),\n",
       " (31200, <message note_on channel=9 note=46 velocity=99 time=0>),\n",
       " (31440, <message note_on channel=9 note=46 velocity=99 time=1>),\n",
       " (31680, <message note_on channel=9 note=46 velocity=99 time=1>),\n",
       " (31680, <message note_on channel=9 note=36 velocity=127 time=0>),\n",
       " (31920, <message note_on channel=9 note=46 velocity=99 time=1>),\n",
       " (32160, <message note_on channel=9 note=40 velocity=127 time=1>),\n",
       " (32160, <message note_on channel=9 note=46 velocity=99 time=0>),\n",
       " (32400, <message note_on channel=9 note=46 velocity=99 time=1>),\n",
       " (32640, <message note_on channel=9 note=49 velocity=111 time=1>),\n",
       " (32640, <message note_on channel=9 note=36 velocity=127 time=0>),\n",
       " (32880, <message note_on channel=9 note=46 velocity=99 time=1>),\n",
       " (33120, <message note_on channel=9 note=40 velocity=127 time=1>),\n",
       " (33120, <message note_on channel=9 note=46 velocity=99 time=0>),\n",
       " (33360, <message note_on channel=9 note=46 velocity=99 time=1>),\n",
       " (33480, <message note_on channel=9 note=36 velocity=127 time=120>),\n",
       " (33600, <message note_on channel=9 note=46 velocity=99 time=1>),\n",
       " (33720, <message note_on channel=9 note=40 velocity=127 time=1>),\n",
       " (33840, <message note_on channel=9 note=46 velocity=99 time=1>),\n",
       " (33840, <message note_on channel=9 note=36 velocity=127 time=0>),\n",
       " (34080, <message note_on channel=9 note=40 velocity=127 time=1>),\n",
       " (34080, <message note_on channel=9 note=46 velocity=99 time=0>),\n",
       " (34320, <message note_on channel=9 note=46 velocity=99 time=1>),\n",
       " (34560, <message note_on channel=9 note=57 velocity=115 time=1>),\n",
       " (34560, <message note_on channel=9 note=36 velocity=127 time=0>),\n",
       " (34800, <message note_on channel=9 note=42 velocity=99 time=1>),\n",
       " (35040, <message note_on channel=9 note=40 velocity=127 time=1>),\n",
       " (35040, <message note_on channel=9 note=46 velocity=99 time=0>),\n",
       " (35280, <message note_on channel=9 note=42 velocity=99 time=1>),\n",
       " (35520, <message note_on channel=9 note=46 velocity=99 time=1>),\n",
       " (35520, <message note_on channel=9 note=36 velocity=127 time=0>),\n",
       " (35760, <message note_on channel=9 note=42 velocity=99 time=1>),\n",
       " (36000, <message note_on channel=9 note=40 velocity=127 time=1>),\n",
       " (36000, <message note_on channel=9 note=46 velocity=99 time=0>),\n",
       " (36240, <message note_on channel=9 note=42 velocity=99 time=1>),\n",
       " (36480, <message note_on channel=9 note=46 velocity=99 time=1>),\n",
       " (36480, <message note_on channel=9 note=36 velocity=127 time=0>),\n",
       " (36720, <message note_on channel=9 note=42 velocity=99 time=1>),\n",
       " (36960, <message note_on channel=9 note=40 velocity=127 time=1>),\n",
       " (36960, <message note_on channel=9 note=46 velocity=99 time=0>),\n",
       " (37200, <message note_on channel=9 note=42 velocity=99 time=1>),\n",
       " (37440, <message note_on channel=9 note=46 velocity=99 time=1>),\n",
       " (37440, <message note_on channel=9 note=36 velocity=127 time=0>),\n",
       " (37680, <message note_on channel=9 note=42 velocity=99 time=1>),\n",
       " (37920, <message note_on channel=9 note=40 velocity=127 time=1>),\n",
       " (37920, <message note_on channel=9 note=46 velocity=99 time=0>),\n",
       " (38160, <message note_on channel=9 note=42 velocity=99 time=1>),\n",
       " (38400, <message note_on channel=9 note=57 velocity=115 time=1>),\n",
       " (38400, <message note_on channel=9 note=36 velocity=127 time=0>),\n",
       " (38640, <message note_on channel=9 note=42 velocity=99 time=1>),\n",
       " (38880, <message note_on channel=9 note=40 velocity=127 time=1>),\n",
       " (38880, <message note_on channel=9 note=46 velocity=99 time=0>),\n",
       " (39120, <message note_on channel=9 note=42 velocity=99 time=1>),\n",
       " (39360, <message note_on channel=9 note=46 velocity=99 time=1>),\n",
       " (39360, <message note_on channel=9 note=36 velocity=127 time=0>),\n",
       " (39600, <message note_on channel=9 note=42 velocity=99 time=1>),\n",
       " (39840, <message note_on channel=9 note=40 velocity=127 time=1>),\n",
       " (39840, <message note_on channel=9 note=46 velocity=99 time=0>),\n",
       " (40080, <message note_on channel=9 note=42 velocity=99 time=1>),\n",
       " (40320, <message note_on channel=9 note=46 velocity=99 time=1>),\n",
       " (40320, <message note_on channel=9 note=36 velocity=127 time=0>),\n",
       " (40560, <message note_on channel=9 note=42 velocity=99 time=1>),\n",
       " (40800, <message note_on channel=9 note=40 velocity=127 time=1>),\n",
       " (40800, <message note_on channel=9 note=46 velocity=99 time=0>),\n",
       " (41040, <message note_on channel=9 note=42 velocity=99 time=1>),\n",
       " (41280, <message note_on channel=9 note=46 velocity=99 time=1>),\n",
       " (41280, <message note_on channel=9 note=36 velocity=127 time=0>),\n",
       " (41400, <message note_on channel=9 note=40 velocity=127 time=1>),\n",
       " (41520, <message note_on channel=9 note=42 velocity=99 time=1>),\n",
       " (41640, <message note_on channel=9 note=36 velocity=127 time=1>),\n",
       " (41760, <message note_on channel=9 note=40 velocity=127 time=1>),\n",
       " (41760, <message note_on channel=9 note=46 velocity=99 time=0>),\n",
       " (41800, <message note_on channel=9 note=40 velocity=127 time=1>),\n",
       " (41880, <message note_on channel=9 note=40 velocity=127 time=1>),\n",
       " (42000, <message note_on channel=9 note=46 velocity=99 time=1>),\n",
       " (42000, <message note_on channel=9 note=36 velocity=127 time=0>),\n",
       " (42240, <message note_on channel=9 note=42 velocity=99 time=1>),\n",
       " (42240, <message note_on channel=9 note=36 velocity=127 time=0>),\n",
       " (42480, <message note_on channel=9 note=42 velocity=99 time=1>),\n",
       " (42600, <message note_on channel=9 note=36 velocity=90 time=1>),\n",
       " (42720, <message note_on channel=9 note=40 velocity=127 time=1>),\n",
       " (42720, <message note_on channel=9 note=42 velocity=99 time=0>),\n",
       " (42960, <message note_on channel=9 note=42 velocity=99 time=1>),\n",
       " (42960, <message note_on channel=9 note=36 velocity=127 time=0>),\n",
       " (43200, <message note_on channel=9 note=42 velocity=99 time=1>),\n",
       " (43200, <message note_on channel=9 note=36 velocity=127 time=0>),\n",
       " (43440, <message note_on channel=9 note=42 velocity=99 time=1>),\n",
       " (43560, <message note_on channel=9 note=36 velocity=90 time=1>),\n",
       " (43680, <message note_on channel=9 note=40 velocity=127 time=1>),\n",
       " (43680, <message note_on channel=9 note=42 velocity=99 time=0>),\n",
       " (43920, <message note_on channel=9 note=42 velocity=99 time=1>),\n",
       " (44160, <message note_on channel=9 note=42 velocity=99 time=1>),\n",
       " (44160, <message note_on channel=9 note=36 velocity=127 time=0>),\n",
       " (44400, <message note_on channel=9 note=42 velocity=99 time=1>),\n",
       " (44520, <message note_on channel=9 note=36 velocity=90 time=1>),\n",
       " (44640, <message note_on channel=9 note=40 velocity=127 time=1>),\n",
       " (44640, <message note_on channel=9 note=42 velocity=99 time=0>),\n",
       " (44880, <message note_on channel=9 note=42 velocity=99 time=1>),\n",
       " (44880, <message note_on channel=9 note=36 velocity=127 time=0>),\n",
       " (45120, <message note_on channel=9 note=42 velocity=99 time=1>),\n",
       " (45120, <message note_on channel=9 note=36 velocity=127 time=0>),\n",
       " (45360, <message note_on channel=9 note=42 velocity=99 time=1>),\n",
       " (45480, <message note_on channel=9 note=36 velocity=90 time=1>),\n",
       " (45600, <message note_on channel=9 note=40 velocity=127 time=1>),\n",
       " (45600, <message note_on channel=9 note=42 velocity=99 time=0>),\n",
       " (45840, <message note_on channel=9 note=46 velocity=99 time=1>),\n",
       " (46080, <message note_on channel=9 note=42 velocity=99 time=1>),\n",
       " (46080, <message note_on channel=9 note=36 velocity=127 time=0>),\n",
       " (46320, <message note_on channel=9 note=42 velocity=99 time=1>),\n",
       " (46440, <message note_on channel=9 note=36 velocity=90 time=1>),\n",
       " (46560, <message note_on channel=9 note=40 velocity=127 time=1>),\n",
       " (46560, <message note_on channel=9 note=42 velocity=99 time=0>),\n",
       " (46800, <message note_on channel=9 note=42 velocity=99 time=1>),\n",
       " (46800, <message note_on channel=9 note=36 velocity=127 time=0>),\n",
       " (47040, <message note_on channel=9 note=42 velocity=99 time=1>),\n",
       " (47040, <message note_on channel=9 note=36 velocity=127 time=0>),\n",
       " (47280, <message note_on channel=9 note=42 velocity=99 time=1>),\n",
       " (47400, <message note_on channel=9 note=36 velocity=90 time=1>),\n",
       " (47520, <message note_on channel=9 note=40 velocity=127 time=1>),\n",
       " (47520, <message note_on channel=9 note=42 velocity=99 time=0>),\n",
       " (47760, <message note_on channel=9 note=42 velocity=99 time=1>),\n",
       " (48000, <message note_on channel=9 note=42 velocity=99 time=1>),\n",
       " (48000, <message note_on channel=9 note=36 velocity=127 time=0>),\n",
       " (48240, <message note_on channel=9 note=42 velocity=99 time=1>),\n",
       " (48360, <message note_on channel=9 note=36 velocity=90 time=1>),\n",
       " (48480, <message note_on channel=9 note=40 velocity=127 time=1>),\n",
       " (48480, <message note_on channel=9 note=42 velocity=99 time=0>),\n",
       " (48720, <message note_on channel=9 note=42 velocity=99 time=1>),\n",
       " (48720, <message note_on channel=9 note=36 velocity=127 time=0>),\n",
       " (48960, <message note_on channel=9 note=42 velocity=99 time=1>),\n",
       " (48960, <message note_on channel=9 note=36 velocity=127 time=0>),\n",
       " (49200, <message note_on channel=9 note=42 velocity=99 time=1>),\n",
       " (49320, <message note_on channel=9 note=36 velocity=90 time=1>),\n",
       " (49440, <message note_on channel=9 note=40 velocity=127 time=1>),\n",
       " (49440, <message note_on channel=9 note=42 velocity=99 time=0>),\n",
       " (49680, <message note_on channel=9 note=46 velocity=99 time=1>),\n",
       " (49680, <message note_on channel=9 note=36 velocity=90 time=0>),\n",
       " (49920, <message note_on channel=9 note=42 velocity=99 time=1>),\n",
       " (49920, <message note_on channel=9 note=36 velocity=127 time=0>),\n",
       " (50160, <message note_on channel=9 note=42 velocity=99 time=1>),\n",
       " (50280, <message note_on channel=9 note=36 velocity=90 time=1>),\n",
       " (50400, <message note_on channel=9 note=40 velocity=127 time=1>),\n",
       " (50400, <message note_on channel=9 note=42 velocity=99 time=0>),\n",
       " (50640, <message note_on channel=9 note=42 velocity=99 time=1>),\n",
       " (50640, <message note_on channel=9 note=36 velocity=127 time=0>),\n",
       " (50880, <message note_on channel=9 note=42 velocity=99 time=1>),\n",
       " (50880, <message note_on channel=9 note=36 velocity=127 time=0>),\n",
       " (51120, <message note_on channel=9 note=42 velocity=99 time=1>),\n",
       " (51240, <message note_on channel=9 note=36 velocity=90 time=1>),\n",
       " (51360, <message note_on channel=9 note=40 velocity=127 time=1>),\n",
       " (51360, <message note_on channel=9 note=42 velocity=99 time=0>),\n",
       " (51600, <message note_on channel=9 note=42 velocity=99 time=1>),\n",
       " (51660, <message note_on channel=9 note=40 velocity=45 time=1>),\n",
       " (51720, <message note_on channel=9 note=40 velocity=45 time=1>),\n",
       " (51780, <message note_on channel=9 note=40 velocity=45 time=1>),\n",
       " (51840, <message note_on channel=9 note=42 velocity=99 time=1>),\n",
       " (51840, <message note_on channel=9 note=36 velocity=127 time=0>),\n",
       " (52080, <message note_on channel=9 note=42 velocity=99 time=1>),\n",
       " (52200, <message note_on channel=9 note=36 velocity=90 time=1>),\n",
       " (52320, <message note_on channel=9 note=40 velocity=127 time=1>),\n",
       " (52320, <message note_on channel=9 note=42 velocity=99 time=0>),\n",
       " (52560, <message note_on channel=9 note=42 velocity=99 time=1>),\n",
       " (52560, <message note_on channel=9 note=36 velocity=127 time=0>),\n",
       " (52800, <message note_on channel=9 note=42 velocity=99 time=1>),\n",
       " (52800, <message note_on channel=9 note=36 velocity=127 time=0>),\n",
       " (53040, <message note_on channel=9 note=42 velocity=99 time=1>),\n",
       " (53160, <message note_on channel=9 note=36 velocity=90 time=1>),\n",
       " (53280, <message note_on channel=9 note=40 velocity=127 time=1>),\n",
       " (53280, <message note_on channel=9 note=42 velocity=99 time=0>),\n",
       " (53520, <message note_on channel=9 note=46 velocity=99 time=1>),\n",
       " (53520, <message note_on channel=9 note=36 velocity=90 time=0>),\n",
       " (53760, <message note_on channel=9 note=42 velocity=99 time=1>),\n",
       " (53760, <message note_on channel=9 note=36 velocity=127 time=0>),\n",
       " (54000, <message note_on channel=9 note=42 velocity=99 time=1>),\n",
       " (54120, <message note_on channel=9 note=36 velocity=90 time=1>),\n",
       " (54240, <message note_on channel=9 note=40 velocity=127 time=1>),\n",
       " (54240, <message note_on channel=9 note=42 velocity=99 time=0>),\n",
       " (54480, <message note_on channel=9 note=42 velocity=99 time=1>),\n",
       " (54480, <message note_on channel=9 note=36 velocity=127 time=0>),\n",
       " (54720, <message note_on channel=9 note=42 velocity=99 time=1>),\n",
       " (54720, <message note_on channel=9 note=36 velocity=127 time=0>),\n",
       " (54960, <message note_on channel=9 note=42 velocity=99 time=1>),\n",
       " (55080, <message note_on channel=9 note=36 velocity=90 time=1>),\n",
       " (55200, <message note_on channel=9 note=40 velocity=127 time=1>),\n",
       " (55200, <message note_on channel=9 note=42 velocity=99 time=0>),\n",
       " (55440, <message note_on channel=9 note=42 velocity=99 time=1>),\n",
       " (55680, <message note_on channel=9 note=42 velocity=99 time=1>),\n",
       " (55680, <message note_on channel=9 note=36 velocity=127 time=0>),\n",
       " (55920, <message note_on channel=9 note=42 velocity=99 time=1>),\n",
       " (56040, <message note_on channel=9 note=36 velocity=90 time=1>),\n",
       " (56160, <message note_on channel=9 note=40 velocity=127 time=1>),\n",
       " (56160, <message note_on channel=9 note=42 velocity=99 time=0>),\n",
       " (56400, <message note_on channel=9 note=42 velocity=99 time=1>),\n",
       " (56400, <message note_on channel=9 note=36 velocity=127 time=0>),\n",
       " (56640, <message note_on channel=9 note=42 velocity=99 time=1>),\n",
       " (56640, <message note_on channel=9 note=36 velocity=127 time=0>),\n",
       " (56880, <message note_on channel=9 note=42 velocity=99 time=1>),\n",
       " (57000, <message note_on channel=9 note=36 velocity=127 time=1>),\n",
       " (57120, <message note_on channel=9 note=40 velocity=127 time=1>),\n",
       " (57120, <message note_on channel=9 note=42 velocity=99 time=0>),\n",
       " (57240, <message note_on channel=9 note=40 velocity=90 time=1>),\n",
       " (57360, <message note_on channel=9 note=46 velocity=99 time=1>),\n",
       " (57360, <message note_on channel=9 note=36 velocity=127 time=0>),\n",
       " (57600, <message note_on channel=9 note=42 velocity=99 time=1>),\n",
       " (57600, <message note_on channel=9 note=36 velocity=127 time=0>),\n",
       " (57840, <message note_on channel=9 note=42 velocity=99 time=1>),\n",
       " (57960, <message note_on channel=9 note=36 velocity=90 time=1>),\n",
       " (58080, <message note_on channel=9 note=40 velocity=127 time=1>),\n",
       " (58080, <message note_on channel=9 note=42 velocity=99 time=0>),\n",
       " (58320, <message note_on channel=9 note=42 velocity=99 time=1>),\n",
       " (58320, <message note_on channel=9 note=36 velocity=127 time=0>),\n",
       " (58560, <message note_on channel=9 note=42 velocity=99 time=1>),\n",
       " (58560, <message note_on channel=9 note=36 velocity=127 time=0>),\n",
       " (58800, <message note_on channel=9 note=42 velocity=99 time=1>),\n",
       " (58920, <message note_on channel=9 note=36 velocity=90 time=1>),\n",
       " (59040, <message note_on channel=9 note=40 velocity=127 time=1>),\n",
       " (59040, <message note_on channel=9 note=42 velocity=99 time=0>),\n",
       " (59280, <message note_on channel=9 note=42 velocity=99 time=1>),\n",
       " (59520, <message note_on channel=9 note=42 velocity=99 time=1>),\n",
       " (59520, <message note_on channel=9 note=36 velocity=127 time=0>),\n",
       " (59760, <message note_on channel=9 note=42 velocity=99 time=1>),\n",
       " (59880, <message note_on channel=9 note=36 velocity=90 time=1>),\n",
       " (60000, <message note_on channel=9 note=40 velocity=127 time=1>),\n",
       " (60000, <message note_on channel=9 note=42 velocity=99 time=0>),\n",
       " (60240, <message note_on channel=9 note=42 velocity=99 time=1>),\n",
       " (60240, <message note_on channel=9 note=36 velocity=127 time=0>),\n",
       " (60480, <message note_on channel=9 note=42 velocity=99 time=1>),\n",
       " (60480, <message note_on channel=9 note=36 velocity=127 time=0>),\n",
       " (60720, <message note_on channel=9 note=42 velocity=99 time=1>),\n",
       " (60840, <message note_on channel=9 note=36 velocity=90 time=1>),\n",
       " (60960, <message note_on channel=9 note=40 velocity=127 time=1>),\n",
       " (60960, <message note_on channel=9 note=42 velocity=99 time=0>),\n",
       " (61200, <message note_on channel=9 note=42 velocity=99 time=1>),\n",
       " (61440, <message note_on channel=9 note=42 velocity=99 time=1>),\n",
       " (61440, <message note_on channel=9 note=36 velocity=127 time=0>),\n",
       " (61680, <message note_on channel=9 note=42 velocity=99 time=1>),\n",
       " (61800, <message note_on channel=9 note=36 velocity=90 time=1>),\n",
       " (61920, <message note_on channel=9 note=40 velocity=127 time=1>),\n",
       " (61920, <message note_on channel=9 note=42 velocity=99 time=0>),\n",
       " (62160, <message note_on channel=9 note=42 velocity=99 time=1>),\n",
       " (62160, <message note_on channel=9 note=36 velocity=127 time=0>),\n",
       " (62400, <message note_on channel=9 note=42 velocity=99 time=1>),\n",
       " (62400, <message note_on channel=9 note=36 velocity=127 time=0>),\n",
       " (62640, <message note_on channel=9 note=42 velocity=99 time=1>),\n",
       " (62760, <message note_on channel=9 note=36 velocity=90 time=1>),\n",
       " (62880, <message note_on channel=9 note=40 velocity=127 time=1>),\n",
       " (62880, <message note_on channel=9 note=42 velocity=99 time=0>),\n",
       " (63120, <message note_on channel=9 note=42 velocity=99 time=1>),\n",
       " (63360, <message note_on channel=9 note=42 velocity=99 time=1>),\n",
       " (63360, <message note_on channel=9 note=36 velocity=127 time=0>),\n",
       " (63600, <message note_on channel=9 note=42 velocity=99 time=1>),\n",
       " (63720, <message note_on channel=9 note=36 velocity=90 time=1>),\n",
       " (63840, <message note_on channel=9 note=40 velocity=127 time=1>),\n",
       " (63840, <message note_on channel=9 note=42 velocity=99 time=0>),\n",
       " (64080, <message note_on channel=9 note=42 velocity=99 time=1>),\n",
       " (64080, <message note_on channel=9 note=36 velocity=127 time=0>),\n",
       " (64320, <message note_on channel=9 note=42 velocity=99 time=1>),\n",
       " (64320, <message note_on channel=9 note=36 velocity=127 time=0>),\n",
       " (64560, <message note_on channel=9 note=42 velocity=99 time=1>),\n",
       " (64680, <message note_on channel=9 note=36 velocity=90 time=1>),\n",
       " (64800, <message note_on channel=9 note=40 velocity=127 time=1>),\n",
       " (64800, <message note_on channel=9 note=42 velocity=99 time=0>),\n",
       " (65040, <message note_on channel=9 note=46 velocity=99 time=1>),\n",
       " (65040, <message note_on channel=9 note=36 velocity=90 time=0>),\n",
       " (65280, <message note_on channel=9 note=42 velocity=99 time=1>),\n",
       " (65280, <message note_on channel=9 note=36 velocity=127 time=0>),\n",
       " (65520, <message note_on channel=9 note=42 velocity=99 time=1>),\n",
       " (65640, <message note_on channel=9 note=36 velocity=90 time=1>),\n",
       " (65760, <message note_on channel=9 note=40 velocity=127 time=1>),\n",
       " (65760, <message note_on channel=9 note=42 velocity=99 time=0>),\n",
       " (66000, <message note_on channel=9 note=42 velocity=99 time=1>),\n",
       " (66000, <message note_on channel=9 note=36 velocity=127 time=0>),\n",
       " (66240, <message note_on channel=9 note=42 velocity=99 time=1>),\n",
       " (66240, <message note_on channel=9 note=36 velocity=127 time=0>),\n",
       " (66480, <message note_on channel=9 note=42 velocity=99 time=1>),\n",
       " (66600, <message note_on channel=9 note=36 velocity=90 time=1>),\n",
       " (66720, <message note_on channel=9 note=40 velocity=127 time=1>),\n",
       " (66720, <message note_on channel=9 note=42 velocity=99 time=0>),\n",
       " (66960, <message note_on channel=9 note=42 velocity=99 time=1>),\n",
       " (67080, <message note_on channel=9 note=40 velocity=35 time=1>),\n",
       " (67140, <message note_on channel=9 note=40 velocity=35 time=1>),\n",
       " (67200, <message note_on channel=9 note=42 velocity=99 time=1>),\n",
       " (67200, <message note_on channel=9 note=36 velocity=127 time=0>),\n",
       " (67440, <message note_on channel=9 note=42 velocity=99 time=1>),\n",
       " (67560, <message note_on channel=9 note=36 velocity=90 time=1>),\n",
       " (67680, <message note_on channel=9 note=40 velocity=127 time=1>),\n",
       " (67680, <message note_on channel=9 note=42 velocity=99 time=0>),\n",
       " (67920, <message note_on channel=9 note=42 velocity=99 time=1>),\n",
       " (67920, <message note_on channel=9 note=36 velocity=127 time=0>),\n",
       " (68160, <message note_on channel=9 note=42 velocity=99 time=1>),\n",
       " (68160, <message note_on channel=9 note=36 velocity=127 time=0>),\n",
       " (68400, <message note_on channel=9 note=42 velocity=99 time=1>),\n",
       " (68520, <message note_on channel=9 note=36 velocity=90 time=1>),\n",
       " (68640, <message note_on channel=9 note=40 velocity=127 time=1>),\n",
       " (68640, <message note_on channel=9 note=42 velocity=99 time=0>),\n",
       " (68880, <message note_on channel=9 note=42 velocity=99 time=1>),\n",
       " (69000, <message note_on channel=9 note=40 velocity=35 time=1>),\n",
       " (69060, <message note_on channel=9 note=40 velocity=35 time=1>),\n",
       " (69120, <message note_on channel=9 note=42 velocity=99 time=1>),\n",
       " (69120, <message note_on channel=9 note=36 velocity=127 time=0>),\n",
       " (69360, <message note_on channel=9 note=42 velocity=99 time=1>),\n",
       " (69480, <message note_on channel=9 note=36 velocity=90 time=1>),\n",
       " (69600, <message note_on channel=9 note=40 velocity=127 time=1>),\n",
       " (69600, <message note_on channel=9 note=42 velocity=99 time=0>),\n",
       " (69840, <message note_on channel=9 note=42 velocity=99 time=1>),\n",
       " (69840, <message note_on channel=9 note=36 velocity=127 time=0>),\n",
       " (70080, <message note_on channel=9 note=42 velocity=99 time=1>),\n",
       " (70080, <message note_on channel=9 note=36 velocity=127 time=0>),\n",
       " (70320, <message note_on channel=9 note=42 velocity=99 time=1>),\n",
       " (70440, <message note_on channel=9 note=36 velocity=90 time=1>),\n",
       " (70560, <message note_on channel=9 note=40 velocity=127 time=1>),\n",
       " (70560, <message note_on channel=9 note=42 velocity=99 time=0>),\n",
       " (70800, <message note_on channel=9 note=42 velocity=99 time=1>),\n",
       " (70920, <message note_on channel=9 note=40 velocity=35 time=1>),\n",
       " (70980, <message note_on channel=9 note=40 velocity=35 time=1>),\n",
       " (71040, <message note_on channel=9 note=42 velocity=99 time=1>),\n",
       " (71040, <message note_on channel=9 note=36 velocity=127 time=0>),\n",
       " (71280, <message note_on channel=9 note=42 velocity=99 time=1>),\n",
       " (71400, <message note_on channel=9 note=36 velocity=90 time=1>),\n",
       " (71520, <message note_on channel=9 note=40 velocity=127 time=1>),\n",
       " (71520, <message note_on channel=9 note=42 velocity=99 time=0>),\n",
       " (71760, <message note_on channel=9 note=46 velocity=99 time=1>),\n",
       " (72000, <message note_on channel=9 note=46 velocity=99 time=1>),\n",
       " (72000, <message note_on channel=9 note=36 velocity=127 time=0>),\n",
       " (72120, <message note_on channel=9 note=40 velocity=127 time=1>),\n",
       " (72240, <message note_on channel=9 note=46 velocity=99 time=1>),\n",
       " (72360, <message note_on channel=9 note=36 velocity=90 time=1>),\n",
       " (72480, <message note_on channel=9 note=40 velocity=127 time=1>),\n",
       " (72520, <message note_on channel=9 note=40 velocity=127 time=1>),\n",
       " (72960, <message note_on channel=9 note=57 velocity=115 time=361>),\n",
       " (72960, <message note_on channel=9 note=36 velocity=127 time=0>),\n",
       " (73200, <message note_on channel=9 note=46 velocity=99 time=1>),\n",
       " (73440, <message note_on channel=9 note=40 velocity=127 time=1>),\n",
       " (73440, <message note_on channel=9 note=46 velocity=99 time=0>),\n",
       " (73680, <message note_on channel=9 note=46 velocity=99 time=1>),\n",
       " (73800, <message note_on channel=9 note=36 velocity=127 time=120>),\n",
       " (73920, <message note_on channel=9 note=46 velocity=99 time=1>),\n",
       " (74160, <message note_on channel=9 note=46 velocity=99 time=1>),\n",
       " (74160, <message note_on channel=9 note=36 velocity=127 time=0>),\n",
       " (74400, <message note_on channel=9 note=40 velocity=127 time=1>),\n",
       " (74400, <message note_on channel=9 note=46 velocity=99 time=0>),\n",
       " (74640, <message note_on channel=9 note=46 velocity=99 time=1>),\n",
       " (74880, <message note_on channel=9 note=46 velocity=99 time=1>),\n",
       " (74880, <message note_on channel=9 note=36 velocity=127 time=0>),\n",
       " (75120, <message note_on channel=9 note=46 velocity=99 time=1>),\n",
       " (75360, <message note_on channel=9 note=40 velocity=127 time=1>),\n",
       " (75360, <message note_on channel=9 note=46 velocity=99 time=0>),\n",
       " (75600, <message note_on channel=9 note=46 velocity=99 time=1>),\n",
       " (75720, <message note_on channel=9 note=36 velocity=127 time=120>),\n",
       " (75840, <message note_on channel=9 note=46 velocity=99 time=1>),\n",
       " (76080, <message note_on channel=9 note=46 velocity=99 time=1>),\n",
       " (76080, <message note_on channel=9 note=36 velocity=127 time=0>),\n",
       " (76320, <message note_on channel=9 note=40 velocity=127 time=1>),\n",
       " (76320, <message note_on channel=9 note=46 velocity=99 time=0>),\n",
       " (76560, <message note_on channel=9 note=46 velocity=99 time=1>),\n",
       " (76800, <message note_on channel=9 note=57 velocity=115 time=1>),\n",
       " (76800, <message note_on channel=9 note=36 velocity=127 time=0>),\n",
       " (77040, <message note_on channel=9 note=46 velocity=99 time=1>),\n",
       " (77280, <message note_on channel=9 note=40 velocity=127 time=1>),\n",
       " (77280, <message note_on channel=9 note=46 velocity=99 time=0>),\n",
       " (77520, <message note_on channel=9 note=46 velocity=99 time=1>),\n",
       " (77640, <message note_on channel=9 note=36 velocity=127 time=120>),\n",
       " (77760, <message note_on channel=9 note=46 velocity=99 time=1>),\n",
       " (78000, <message note_on channel=9 note=46 velocity=99 time=1>),\n",
       " (78000, <message note_on channel=9 note=36 velocity=127 time=0>),\n",
       " (78240, <message note_on channel=9 note=40 velocity=127 time=1>),\n",
       " (78240, <message note_on channel=9 note=46 velocity=99 time=0>),\n",
       " (78480, <message note_on channel=9 note=46 velocity=99 time=1>),\n",
       " (78720, <message note_on channel=9 note=46 velocity=99 time=1>),\n",
       " (78720, <message note_on channel=9 note=36 velocity=127 time=0>),\n",
       " (78960, <message note_on channel=9 note=46 velocity=99 time=1>),\n",
       " (79200, <message note_on channel=9 note=40 velocity=127 time=1>),\n",
       " (79200, <message note_on channel=9 note=46 velocity=99 time=0>),\n",
       " (79440, <message note_on channel=9 note=46 velocity=99 time=1>),\n",
       " (79560, <message note_on channel=9 note=36 velocity=127 time=120>),\n",
       " (79680, <message note_on channel=9 note=46 velocity=99 time=1>),\n",
       " (79800, <message note_on channel=9 note=40 velocity=127 time=1>),\n",
       " (79920, <message note_on channel=9 note=46 velocity=99 time=1>),\n",
       " (79920, <message note_on channel=9 note=36 velocity=127 time=0>),\n",
       " (80040, <message note_on channel=9 note=36 velocity=127 time=1>),\n",
       " (80160, <message note_on channel=9 note=40 velocity=127 time=1>),\n",
       " (80160, <message note_on channel=9 note=46 velocity=99 time=0>),\n",
       " (80400, <message note_on channel=9 note=46 velocity=99 time=1>),\n",
       " (80520, <message note_on channel=9 note=36 velocity=90 time=120>),\n",
       " (80640, <message note_on channel=9 note=57 velocity=115 time=1>),\n",
       " (80640, <message note_on channel=9 note=36 velocity=127 time=0>),\n",
       " (80880, <message note_on channel=9 note=46 velocity=99 time=1>),\n",
       " (81120, <message note_on channel=9 note=40 velocity=127 time=1>),\n",
       " (81120, <message note_on channel=9 note=46 velocity=99 time=0>),\n",
       " (81360, <message note_on channel=9 note=46 velocity=99 time=1>),\n",
       " (81480, <message note_on channel=9 note=36 velocity=127 time=120>),\n",
       " (81600, <message note_on channel=9 note=46 velocity=99 time=1>),\n",
       " (81840, <message note_on channel=9 note=46 velocity=99 time=1>),\n",
       " (81840, <message note_on channel=9 note=36 velocity=127 time=0>),\n",
       " (82080, <message note_on channel=9 note=40 velocity=127 time=1>),\n",
       " (82080, <message note_on channel=9 note=46 velocity=99 time=0>),\n",
       " (82320, <message note_on channel=9 note=46 velocity=99 time=1>),\n",
       " (82560, <message note_on channel=9 note=46 velocity=99 time=1>),\n",
       " (82560, <message note_on channel=9 note=36 velocity=127 time=0>),\n",
       " (82800, <message note_on channel=9 note=46 velocity=99 time=1>),\n",
       " (83040, <message note_on channel=9 note=40 velocity=127 time=1>),\n",
       " (83040, <message note_on channel=9 note=46 velocity=99 time=0>),\n",
       " (83280, <message note_on channel=9 note=46 velocity=99 time=1>),\n",
       " (83400, <message note_on channel=9 note=36 velocity=127 time=120>),\n",
       " (83520, <message note_on channel=9 note=46 velocity=99 time=1>),\n",
       " (83760, <message note_on channel=9 note=46 velocity=99 time=1>),\n",
       " (83760, <message note_on channel=9 note=36 velocity=127 time=0>),\n",
       " (84000, <message note_on channel=9 note=40 velocity=127 time=1>),\n",
       " (84000, <message note_on channel=9 note=46 velocity=99 time=0>),\n",
       " (84240, <message note_on channel=9 note=46 velocity=99 time=1>),\n",
       " (84480, <message note_on channel=9 note=57 velocity=115 time=1>),\n",
       " (84480, <message note_on channel=9 note=36 velocity=127 time=0>),\n",
       " (84720, <message note_on channel=9 note=46 velocity=99 time=1>),\n",
       " (84960, <message note_on channel=9 note=40 velocity=127 time=1>),\n",
       " (84960, <message note_on channel=9 note=46 velocity=99 time=0>),\n",
       " (85200, <message note_on channel=9 note=46 velocity=99 time=1>),\n",
       " (85320, <message note_on channel=9 note=36 velocity=127 time=120>),\n",
       " (85440, <message note_on channel=9 note=46 velocity=99 time=1>),\n",
       " (85680, <message note_on channel=9 note=46 velocity=99 time=1>),\n",
       " (85680, <message note_on channel=9 note=36 velocity=127 time=0>),\n",
       " (85920, <message note_on channel=9 note=40 velocity=127 time=1>),\n",
       " (85920, <message note_on channel=9 note=46 velocity=99 time=0>),\n",
       " (86160, <message note_on channel=9 note=46 velocity=99 time=1>),\n",
       " (86400, <message note_on channel=9 note=46 velocity=99 time=1>),\n",
       " (86400, <message note_on channel=9 note=36 velocity=127 time=0>),\n",
       " (86640, <message note_on channel=9 note=46 velocity=99 time=1>),\n",
       " (86880, <message note_on channel=9 note=40 velocity=127 time=1>),\n",
       " (86880, <message note_on channel=9 note=46 velocity=99 time=0>),\n",
       " (87120, <message note_on channel=9 note=46 velocity=99 time=1>),\n",
       " (87240, <message note_on channel=9 note=36 velocity=127 time=120>),\n",
       " (87360, <message note_on channel=9 note=46 velocity=99 time=1>),\n",
       " (87480, <message note_on channel=9 note=40 velocity=127 time=1>),\n",
       " (87600, <message note_on channel=9 note=46 velocity=99 time=1>),\n",
       " (87600, <message note_on channel=9 note=36 velocity=127 time=0>),\n",
       " (87840, <message note_on channel=9 note=40 velocity=127 time=1>),\n",
       " (87840, <message note_on channel=9 note=46 velocity=99 time=0>),\n",
       " (88080, <message note_on channel=9 note=46 velocity=99 time=1>),\n",
       " (88080, <message note_on channel=9 note=36 velocity=127 time=0>),\n",
       " (88320, <message note_on channel=9 note=57 velocity=115 time=1>),\n",
       " (88320, <message note_on channel=9 note=36 velocity=127 time=0>),\n",
       " (88560, <message note_on channel=9 note=46 velocity=70 time=1>),\n",
       " (88800, <message note_on channel=9 note=40 velocity=127 time=1>),\n",
       " (88800, <message note_on channel=9 note=46 velocity=99 time=0>),\n",
       " (89040, <message note_on channel=9 note=46 velocity=70 time=1>),\n",
       " (89280, <message note_on channel=9 note=46 velocity=99 time=1>),\n",
       " (89280, <message note_on channel=9 note=36 velocity=127 time=0>),\n",
       " (89520, <message note_on channel=9 note=46 velocity=70 time=1>),\n",
       " (89760, <message note_on channel=9 note=40 velocity=127 time=1>),\n",
       " (89760, <message note_on channel=9 note=46 velocity=99 time=0>),\n",
       " (90000, <message note_on channel=9 note=46 velocity=70 time=1>),\n",
       " (90240, <message note_on channel=9 note=46 velocity=99 time=1>),\n",
       " (90240, <message note_on channel=9 note=36 velocity=127 time=0>),\n",
       " (90480, <message note_on channel=9 note=46 velocity=70 time=1>),\n",
       " (90720, <message note_on channel=9 note=40 velocity=127 time=1>),\n",
       " (90720, <message note_on channel=9 note=46 velocity=99 time=0>),\n",
       " (90960, <message note_on channel=9 note=46 velocity=70 time=1>),\n",
       " (91200, <message note_on channel=9 note=46 velocity=99 time=1>),\n",
       " (91200, <message note_on channel=9 note=36 velocity=127 time=0>),\n",
       " (91440, <message note_on channel=9 note=46 velocity=70 time=1>),\n",
       " (91680, <message note_on channel=9 note=40 velocity=127 time=1>),\n",
       " (91680, <message note_on channel=9 note=46 velocity=99 time=0>),\n",
       " (91920, <message note_on channel=9 note=46 velocity=70 time=1>),\n",
       " (92160, <message note_on channel=9 note=57 velocity=115 time=1>),\n",
       " (92160, <message note_on channel=9 note=36 velocity=127 time=0>),\n",
       " (92400, <message note_on channel=9 note=46 velocity=70 time=1>),\n",
       " (92640, <message note_on channel=9 note=40 velocity=127 time=1>),\n",
       " (92640, <message note_on channel=9 note=46 velocity=99 time=0>),\n",
       " (92880, <message note_on channel=9 note=46 velocity=70 time=1>),\n",
       " (93120, <message note_on channel=9 note=46 velocity=99 time=1>),\n",
       " (93120, <message note_on channel=9 note=36 velocity=127 time=0>),\n",
       " (93360, <message note_on channel=9 note=46 velocity=70 time=1>),\n",
       " (93600, <message note_on channel=9 note=40 velocity=127 time=1>),\n",
       " (93600, <message note_on channel=9 note=46 velocity=99 time=0>),\n",
       " (93840, <message note_on channel=9 note=46 velocity=70 time=1>),\n",
       " (94080, <message note_on channel=9 note=46 velocity=99 time=1>),\n",
       " (94080, <message note_on channel=9 note=36 velocity=127 time=0>),\n",
       " (94320, <message note_on channel=9 note=46 velocity=70 time=1>),\n",
       " (94560, <message note_on channel=9 note=40 velocity=127 time=1>),\n",
       " (94560, <message note_on channel=9 note=46 velocity=99 time=0>),\n",
       " (94800, <message note_on channel=9 note=46 velocity=70 time=1>),\n",
       " (95040, <message note_on channel=9 note=46 velocity=99 time=1>),\n",
       " (95040, <message note_on channel=9 note=36 velocity=127 time=0>),\n",
       " (95160, <message note_on channel=9 note=40 velocity=127 time=1>),\n",
       " (95280, <message note_on channel=9 note=46 velocity=70 time=1>),\n",
       " (95400, <message note_on channel=9 note=36 velocity=127 time=1>),\n",
       " (95520, <message note_on channel=9 note=40 velocity=127 time=1>),\n",
       " (95520, <message note_on channel=9 note=46 velocity=99 time=0>),\n",
       " (95560, <message note_on channel=9 note=40 velocity=127 time=1>),\n",
       " (95640, <message note_on channel=9 note=40 velocity=127 time=1>),\n",
       " (95760, <message note_on channel=9 note=46 velocity=99 time=1>),\n",
       " (95760, <message note_on channel=9 note=36 velocity=127 time=0>),\n",
       " (96000, <message note_on channel=9 note=42 velocity=99 time=1>),\n",
       " (96000, <message note_on channel=9 note=36 velocity=127 time=0>),\n",
       " (96240, <message note_on channel=9 note=42 velocity=99 time=1>),\n",
       " (96360, <message note_on channel=9 note=36 velocity=90 time=1>),\n",
       " (96480, <message note_on channel=9 note=40 velocity=127 time=1>),\n",
       " (96480, <message note_on channel=9 note=42 velocity=99 time=0>),\n",
       " (96720, <message note_on channel=9 note=42 velocity=99 time=1>),\n",
       " (96720, <message note_on channel=9 note=36 velocity=127 time=0>),\n",
       " (96960, <message note_on channel=9 note=42 velocity=99 time=1>),\n",
       " (96960, <message note_on channel=9 note=36 velocity=127 time=0>),\n",
       " (97200, <message note_on channel=9 note=42 velocity=99 time=1>),\n",
       " (97320, <message note_on channel=9 note=36 velocity=90 time=1>),\n",
       " (97440, <message note_on channel=9 note=40 velocity=127 time=1>),\n",
       " (97440, <message note_on channel=9 note=42 velocity=99 time=0>),\n",
       " (97680, <message note_on channel=9 note=42 velocity=99 time=1>),\n",
       " (97920, <message note_on channel=9 note=42 velocity=99 time=1>),\n",
       " (97920, <message note_on channel=9 note=36 velocity=127 time=0>),\n",
       " (98160, <message note_on channel=9 note=42 velocity=99 time=1>),\n",
       " (98280, <message note_on channel=9 note=36 velocity=90 time=1>),\n",
       " (98400, <message note_on channel=9 note=40 velocity=127 time=1>),\n",
       " (98400, <message note_on channel=9 note=42 velocity=99 time=0>),\n",
       " (98640, <message note_on channel=9 note=42 velocity=99 time=1>),\n",
       " (98640, <message note_on channel=9 note=36 velocity=127 time=0>),\n",
       " (98880, <message note_on channel=9 note=42 velocity=99 time=1>),\n",
       " (98880, <message note_on channel=9 note=36 velocity=127 time=0>),\n",
       " (99120, <message note_on channel=9 note=42 velocity=99 time=1>),\n",
       " (99240, <message note_on channel=9 note=36 velocity=90 time=1>),\n",
       " (99360, <message note_on channel=9 note=40 velocity=127 time=1>),\n",
       " (99360, <message note_on channel=9 note=42 velocity=99 time=0>),\n",
       " (99600, <message note_on channel=9 note=46 velocity=99 time=1>),\n",
       " (99840, <message note_on channel=9 note=42 velocity=99 time=1>),\n",
       " (99840, <message note_on channel=9 note=36 velocity=127 time=0>),\n",
       " (100080, <message note_on channel=9 note=42 velocity=99 time=1>),\n",
       " (100200, <message note_on channel=9 note=36 velocity=90 time=1>),\n",
       " (100320, <message note_on channel=9 note=40 velocity=127 time=1>),\n",
       " (100320, <message note_on channel=9 note=42 velocity=99 time=0>),\n",
       " (100560, <message note_on channel=9 note=42 velocity=99 time=1>),\n",
       " (100560, <message note_on channel=9 note=36 velocity=127 time=0>),\n",
       " (100800, <message note_on channel=9 note=42 velocity=99 time=1>),\n",
       " (100800, <message note_on channel=9 note=36 velocity=127 time=0>),\n",
       " (101040, <message note_on channel=9 note=42 velocity=99 time=1>),\n",
       " (101160, <message note_on channel=9 note=36 velocity=90 time=1>),\n",
       " (101280, <message note_on channel=9 note=40 velocity=127 time=1>),\n",
       " (101280, <message note_on channel=9 note=42 velocity=99 time=0>),\n",
       " (101520, <message note_on channel=9 note=42 velocity=99 time=1>),\n",
       " (101760, <message note_on channel=9 note=42 velocity=99 time=1>),\n",
       " (101760, <message note_on channel=9 note=36 velocity=127 time=0>),\n",
       " (102000, <message note_on channel=9 note=42 velocity=99 time=1>),\n",
       " (102120, <message note_on channel=9 note=36 velocity=90 time=1>),\n",
       " (102240, <message note_on channel=9 note=40 velocity=127 time=1>),\n",
       " (102240, <message note_on channel=9 note=42 velocity=99 time=0>),\n",
       " (102480, <message note_on channel=9 note=42 velocity=99 time=1>),\n",
       " (102480, <message note_on channel=9 note=36 velocity=127 time=0>),\n",
       " (102720, <message note_on channel=9 note=42 velocity=99 time=1>),\n",
       " (102720, <message note_on channel=9 note=36 velocity=127 time=0>),\n",
       " (102960, <message note_on channel=9 note=42 velocity=99 time=1>),\n",
       " (103080, <message note_on channel=9 note=36 velocity=90 time=1>),\n",
       " (103200, <message note_on channel=9 note=40 velocity=127 time=1>),\n",
       " (103200, <message note_on channel=9 note=42 velocity=99 time=0>),\n",
       " (103440, <message note_on channel=9 note=46 velocity=99 time=1>),\n",
       " (103440, <message note_on channel=9 note=36 velocity=90 time=0>),\n",
       " (103680, <message note_on channel=9 note=42 velocity=99 time=1>),\n",
       " (103680, <message note_on channel=9 note=36 velocity=127 time=0>),\n",
       " (103920, <message note_on channel=9 note=42 velocity=99 time=1>),\n",
       " (104040, <message note_on channel=9 note=36 velocity=90 time=1>),\n",
       " (104160, <message note_on channel=9 note=40 velocity=127 time=1>),\n",
       " (104160, <message note_on channel=9 note=42 velocity=99 time=0>),\n",
       " (104400, <message note_on channel=9 note=42 velocity=99 time=1>),\n",
       " (104400, <message note_on channel=9 note=36 velocity=127 time=0>),\n",
       " (104640, <message note_on channel=9 note=42 velocity=99 time=1>),\n",
       " (104640, <message note_on channel=9 note=36 velocity=127 time=0>),\n",
       " (104880, <message note_on channel=9 note=42 velocity=99 time=1>),\n",
       " (105000, <message note_on channel=9 note=36 velocity=90 time=1>),\n",
       " (105120, <message note_on channel=9 note=40 velocity=127 time=1>),\n",
       " (105120, <message note_on channel=9 note=42 velocity=99 time=0>),\n",
       " (105360, <message note_on channel=9 note=42 velocity=99 time=1>),\n",
       " (105600, <message note_on channel=9 note=42 velocity=99 time=1>),\n",
       " (105600, <message note_on channel=9 note=36 velocity=127 time=0>),\n",
       " (105840, <message note_on channel=9 note=42 velocity=99 time=1>),\n",
       " (105960, <message note_on channel=9 note=36 velocity=90 time=1>),\n",
       " (106080, <message note_on channel=9 note=40 velocity=127 time=1>),\n",
       " (106080, <message note_on channel=9 note=42 velocity=99 time=0>),\n",
       " (106320, <message note_on channel=9 note=42 velocity=99 time=1>),\n",
       " (106320, <message note_on channel=9 note=36 velocity=127 time=0>),\n",
       " (106560, <message note_on channel=9 note=42 velocity=99 time=1>),\n",
       " (106560, <message note_on channel=9 note=36 velocity=127 time=0>),\n",
       " (106800, <message note_on channel=9 note=42 velocity=99 time=1>),\n",
       " (106920, <message note_on channel=9 note=36 velocity=90 time=1>),\n",
       " (107040, <message note_on channel=9 note=40 velocity=127 time=1>),\n",
       " (107040, <message note_on channel=9 note=42 velocity=99 time=0>),\n",
       " (107280, <message note_on channel=9 note=46 velocity=99 time=1>),\n",
       " (107280, <message note_on channel=9 note=36 velocity=90 time=0>),\n",
       " (107520, <message note_on channel=9 note=42 velocity=99 time=1>),\n",
       " (107520, <message note_on channel=9 note=36 velocity=127 time=0>),\n",
       " (107760, <message note_on channel=9 note=42 velocity=99 time=1>),\n",
       " (107880, <message note_on channel=9 note=36 velocity=90 time=1>),\n",
       " (108000, <message note_on channel=9 note=40 velocity=127 time=1>),\n",
       " (108000, <message note_on channel=9 note=42 velocity=99 time=0>),\n",
       " (108240, <message note_on channel=9 note=42 velocity=99 time=1>),\n",
       " (108240, <message note_on channel=9 note=36 velocity=127 time=0>),\n",
       " (108480, <message note_on channel=9 note=42 velocity=99 time=1>),\n",
       " (108480, <message note_on channel=9 note=36 velocity=127 time=0>),\n",
       " (108720, <message note_on channel=9 note=42 velocity=99 time=1>),\n",
       " (108840, <message note_on channel=9 note=36 velocity=90 time=1>),\n",
       " (108960, <message note_on channel=9 note=40 velocity=127 time=1>),\n",
       " (108960, <message note_on channel=9 note=42 velocity=99 time=0>),\n",
       " (109200, <message note_on channel=9 note=42 velocity=99 time=1>),\n",
       " (109440, <message note_on channel=9 note=42 velocity=99 time=1>),\n",
       " (109440, <message note_on channel=9 note=36 velocity=127 time=0>),\n",
       " (109680, <message note_on channel=9 note=42 velocity=99 time=1>),\n",
       " (109800, <message note_on channel=9 note=36 velocity=90 time=1>),\n",
       " (109920, <message note_on channel=9 note=40 velocity=127 time=1>),\n",
       " (109920, <message note_on channel=9 note=42 velocity=99 time=0>),\n",
       " (110160, <message note_on channel=9 note=42 velocity=99 time=1>),\n",
       " (110160, <message note_on channel=9 note=36 velocity=127 time=0>),\n",
       " (110400, <message note_on channel=9 note=42 velocity=99 time=1>),\n",
       " (110400, <message note_on channel=9 note=36 velocity=127 time=0>),\n",
       " (110640, <message note_on channel=9 note=42 velocity=99 time=1>),\n",
       " (110760, <message note_on channel=9 note=36 velocity=127 time=1>),\n",
       " (110820, <message note_on channel=9 note=36 velocity=90 time=1>),\n",
       " (110880, <message note_on channel=9 note=40 velocity=127 time=1>),\n",
       " (110880, <message note_on channel=9 note=46 velocity=99 time=0>),\n",
       " (111120, <message note_on channel=9 note=42 velocity=127 time=1>),\n",
       " (111360, <message note_on channel=9 note=42 velocity=99 time=1>),\n",
       " (111360, <message note_on channel=9 note=36 velocity=127 time=0>),\n",
       " (111600, <message note_on channel=9 note=42 velocity=99 time=1>),\n",
       " (111720, <message note_on channel=9 note=36 velocity=90 time=1>),\n",
       " (111840, <message note_on channel=9 note=40 velocity=127 time=1>),\n",
       " (111840, <message note_on channel=9 note=42 velocity=99 time=0>),\n",
       " (112080, <message note_on channel=9 note=42 velocity=99 time=1>),\n",
       " (112080, <message note_on channel=9 note=36 velocity=127 time=0>),\n",
       " (112320, <message note_on channel=9 note=42 velocity=99 time=1>),\n",
       " (112320, <message note_on channel=9 note=36 velocity=127 time=0>),\n",
       " (112560, <message note_on channel=9 note=42 velocity=99 time=1>),\n",
       " (112680, <message note_on channel=9 note=36 velocity=90 time=1>),\n",
       " (112800, <message note_on channel=9 note=40 velocity=127 time=1>),\n",
       " (112800, <message note_on channel=9 note=42 velocity=99 time=0>),\n",
       " (113040, <message note_on channel=9 note=42 velocity=99 time=1>),\n",
       " (113280, <message note_on channel=9 note=42 velocity=99 time=1>),\n",
       " (113280, <message note_on channel=9 note=36 velocity=127 time=0>),\n",
       " (113520, <message note_on channel=9 note=42 velocity=99 time=1>),\n",
       " (113640, <message note_on channel=9 note=36 velocity=90 time=1>),\n",
       " (113760, <message note_on channel=9 note=40 velocity=127 time=1>),\n",
       " (113760, <message note_on channel=9 note=42 velocity=99 time=0>),\n",
       " (114000, <message note_on channel=9 note=46 velocity=99 time=1>),\n",
       " (114000, <message note_on channel=9 note=36 velocity=127 time=0>),\n",
       " (114240, <message note_on channel=9 note=46 velocity=99 time=1>),\n",
       " (114240, <message note_on channel=9 note=36 velocity=127 time=0>),\n",
       " (114480, <message note_on channel=9 note=46 velocity=99 time=1>),\n",
       " (114600, <message note_on channel=9 note=36 velocity=90 time=1>),\n",
       " (114720, <message note_on channel=9 note=40 velocity=127 time=1>),\n",
       " (114720, <message note_on channel=9 note=46 velocity=99 time=0>),\n",
       " (114960, <message note_on channel=9 note=46 velocity=99 time=1>),\n",
       " (115200, <message note_on channel=9 note=42 velocity=99 time=1>),\n",
       " (115200, <message note_on channel=9 note=36 velocity=127 time=0>),\n",
       " (115440, <message note_on channel=9 note=42 velocity=99 time=1>),\n",
       " (115560, <message note_on channel=9 note=36 velocity=90 time=1>),\n",
       " (115680, <message note_on channel=9 note=40 velocity=127 time=1>),\n",
       " (115680, <message note_on channel=9 note=46 velocity=99 time=0>),\n",
       " (115920, <message note_on channel=9 note=46 velocity=99 time=1>),\n",
       " (115920, <message note_on channel=9 note=36 velocity=127 time=0>),\n",
       " (116160, <message note_on channel=9 note=46 velocity=99 time=1>),\n",
       " (116160, <message note_on channel=9 note=36 velocity=127 time=0>),\n",
       " (116400, <message note_on channel=9 note=46 velocity=99 time=1>),\n",
       " (116520, <message note_on channel=9 note=36 velocity=90 time=1>),\n",
       " (116640, <message note_on channel=9 note=40 velocity=127 time=1>),\n",
       " (116640, <message note_on channel=9 note=46 velocity=99 time=0>),\n",
       " (116880, <message note_on channel=9 note=46 velocity=99 time=1>),\n",
       " (117120, <message note_on channel=9 note=46 velocity=99 time=1>),\n",
       " (117120, <message note_on channel=9 note=36 velocity=127 time=0>),\n",
       " (117360, <message note_on channel=9 note=46 velocity=99 time=1>),\n",
       " (117480, <message note_on channel=9 note=36 velocity=90 time=1>),\n",
       " (117600, <message note_on channel=9 note=40 velocity=127 time=1>),\n",
       " (117600, <message note_on channel=9 note=46 velocity=99 time=0>),\n",
       " (117840, <message note_on channel=9 note=46 velocity=99 time=1>),\n",
       " (117840, <message note_on channel=9 note=36 velocity=127 time=0>),\n",
       " (118080, <message note_on channel=9 note=46 velocity=99 time=1>),\n",
       " (118080, <message note_on channel=9 note=36 velocity=127 time=0>),\n",
       " (118320, <message note_on channel=9 note=46 velocity=99 time=1>),\n",
       " (118440, <message note_on channel=9 note=36 velocity=90 time=1>),\n",
       " (118560, <message note_on channel=9 note=40 velocity=127 time=1>),\n",
       " (118560, <message note_on channel=9 note=46 velocity=99 time=0>),\n",
       " (118800, <message note_on channel=9 note=46 velocity=99 time=1>),\n",
       " (118800, <message note_on channel=9 note=36 velocity=127 time=0>),\n",
       " (119040, <message note_on channel=9 note=42 velocity=99 time=1>),\n",
       " (119040, <message note_on channel=9 note=36 velocity=127 time=0>),\n",
       " (119280, <message note_on channel=9 note=42 velocity=99 time=1>),\n",
       " (119400, <message note_on channel=9 note=36 velocity=90 time=1>),\n",
       " (119520, <message note_on channel=9 note=40 velocity=127 time=1>),\n",
       " (119520, <message note_on channel=9 note=46 velocity=99 time=0>),\n",
       " (119760, <message note_on channel=9 note=46 velocity=99 time=1>),\n",
       " (119760, <message note_on channel=9 note=36 velocity=127 time=0>),\n",
       " (120000, <message note_on channel=9 note=46 velocity=99 time=1>),\n",
       " (120000, <message note_on channel=9 note=36 velocity=127 time=0>),\n",
       " (120240, <message note_on channel=9 note=46 velocity=99 time=1>),\n",
       " (120360, <message note_on channel=9 note=36 velocity=90 time=1>),\n",
       " (120480, <message note_on channel=9 note=40 velocity=127 time=1>),\n",
       " (120480, <message note_on channel=9 note=46 velocity=99 time=0>),\n",
       " (120720, <message note_on channel=9 note=46 velocity=99 time=1>),\n",
       " (120960, <message note_on channel=9 note=46 velocity=99 time=1>),\n",
       " (120960, <message note_on channel=9 note=36 velocity=127 time=0>),\n",
       " (121200, <message note_on channel=9 note=46 velocity=99 time=1>),\n",
       " (121320, <message note_on channel=9 note=36 velocity=90 time=1>),\n",
       " (121440, <message note_on channel=9 note=40 velocity=127 time=1>),\n",
       " (121440, <message note_on channel=9 note=46 velocity=99 time=0>),\n",
       " (121680, <message note_on channel=9 note=46 velocity=99 time=1>),\n",
       " (121680, <message note_on channel=9 note=36 velocity=127 time=0>),\n",
       " (121920, <message note_on channel=9 note=46 velocity=99 time=1>),\n",
       " (121920, <message note_on channel=9 note=36 velocity=127 time=0>),\n",
       " (122160, <message note_on channel=9 note=46 velocity=99 time=1>),\n",
       " (122280, <message note_on channel=9 note=36 velocity=90 time=1>),\n",
       " (122400, <message note_on channel=9 note=40 velocity=127 time=1>),\n",
       " (122400, <message note_on channel=9 note=46 velocity=99 time=0>),\n",
       " (122640, <message note_on channel=9 note=46 velocity=99 time=1>),\n",
       " (122880, <message note_on channel=9 note=46 velocity=99 time=1>),\n",
       " (122880, <message note_on channel=9 note=36 velocity=127 time=0>),\n",
       " (123120, <message note_on channel=9 note=46 velocity=99 time=1>),\n",
       " (123240, <message note_on channel=9 note=36 velocity=90 time=1>),\n",
       " (123360, <message note_on channel=9 note=40 velocity=127 time=1>),\n",
       " (123360, <message note_on channel=9 note=46 velocity=99 time=0>),\n",
       " (123600, <message note_on channel=9 note=46 velocity=99 time=1>),\n",
       " (123600, <message note_on channel=9 note=36 velocity=127 time=0>),\n",
       " (123840, <message note_on channel=9 note=46 velocity=99 time=1>),\n",
       " (123840, <message note_on channel=9 note=36 velocity=127 time=0>),\n",
       " (124080, <message note_on channel=9 note=46 velocity=99 time=1>),\n",
       " (124200, <message note_on channel=9 note=36 velocity=90 time=1>),\n",
       " (124320, <message note_on channel=9 note=40 velocity=127 time=1>),\n",
       " (124320, <message note_on channel=9 note=46 velocity=99 time=0>),\n",
       " (124560, <message note_on channel=9 note=46 velocity=99 time=1>),\n",
       " (124800, <message note_on channel=9 note=46 velocity=99 time=1>),\n",
       " (124800, <message note_on channel=9 note=36 velocity=127 time=0>),\n",
       " (125040, <message note_on channel=9 note=46 velocity=99 time=1>),\n",
       " (125160, <message note_on channel=9 note=36 velocity=90 time=1>),\n",
       " (125280, <message note_on channel=9 note=40 velocity=127 time=1>),\n",
       " (125280, <message note_on channel=9 note=46 velocity=99 time=0>),\n",
       " (125520, <message note_on channel=9 note=46 velocity=99 time=1>),\n",
       " (125760, <message note_on channel=9 note=46 velocity=99 time=1>),\n",
       " (125760, <message note_on channel=9 note=36 velocity=127 time=0>),\n",
       " (126000, <message note_on channel=9 note=46 velocity=99 time=1>),\n",
       " (126120, <message note_on channel=9 note=40 velocity=111 time=1>),\n",
       " (126240, <message note_on channel=9 note=40 velocity=127 time=1>),\n",
       " (126280, <message note_on channel=9 note=40 velocity=127 time=1>),\n",
       " (126720, <message note_on channel=9 note=57 velocity=115 time=361>),\n",
       " (126720, <message note_on channel=9 note=36 velocity=127 time=0>),\n",
       " (126960, <message note_on channel=9 note=46 velocity=99 time=1>),\n",
       " (127200, <message note_on channel=9 note=40 velocity=127 time=1>),\n",
       " (127200, <message note_on channel=9 note=46 velocity=99 time=0>),\n",
       " (127440, <message note_on channel=9 note=46 velocity=99 time=1>),\n",
       " (127560, <message note_on channel=9 note=36 velocity=127 time=120>),\n",
       " (127680, <message note_on channel=9 note=46 velocity=99 time=1>),\n",
       " (127920, <message note_on channel=9 note=46 velocity=99 time=1>),\n",
       " (127920, <message note_on channel=9 note=36 velocity=127 time=0>),\n",
       " (128160, <message note_on channel=9 note=40 velocity=127 time=1>),\n",
       " (128160, <message note_on channel=9 note=46 velocity=99 time=0>),\n",
       " (128400, <message note_on channel=9 note=46 velocity=99 time=1>),\n",
       " (128640, <message note_on channel=9 note=46 velocity=99 time=1>),\n",
       " (128640, <message note_on channel=9 note=36 velocity=127 time=0>),\n",
       " (128880, <message note_on channel=9 note=46 velocity=99 time=1>),\n",
       " (129120, <message note_on channel=9 note=40 velocity=127 time=1>),\n",
       " (129120, <message note_on channel=9 note=46 velocity=99 time=0>),\n",
       " (129360, <message note_on channel=9 note=46 velocity=99 time=1>),\n",
       " (129480, <message note_on channel=9 note=36 velocity=127 time=120>),\n",
       " (129600, <message note_on channel=9 note=46 velocity=99 time=1>),\n",
       " (129840, <message note_on channel=9 note=46 velocity=99 time=1>),\n",
       " (129840, <message note_on channel=9 note=36 velocity=127 time=0>),\n",
       " (130080, <message note_on channel=9 note=40 velocity=127 time=1>),\n",
       " (130080, <message note_on channel=9 note=46 velocity=99 time=0>),\n",
       " (130320, <message note_on channel=9 note=46 velocity=99 time=1>),\n",
       " (130560, <message note_on channel=9 note=57 velocity=115 time=1>),\n",
       " (130560, <message note_on channel=9 note=36 velocity=127 time=0>),\n",
       " (130800, <message note_on channel=9 note=46 velocity=99 time=1>),\n",
       " (131040, <message note_on channel=9 note=40 velocity=127 time=1>),\n",
       " (131040, <message note_on channel=9 note=46 velocity=99 time=0>),\n",
       " (131280, <message note_on channel=9 note=46 velocity=99 time=1>),\n",
       " (131400, <message note_on channel=9 note=36 velocity=127 time=120>),\n",
       " (131520, <message note_on channel=9 note=46 velocity=99 time=1>),\n",
       " (131760, <message note_on channel=9 note=46 velocity=99 time=1>),\n",
       " (131760, <message note_on channel=9 note=36 velocity=127 time=0>),\n",
       " (132000, <message note_on channel=9 note=40 velocity=127 time=1>),\n",
       " (132000, <message note_on channel=9 note=46 velocity=99 time=0>),\n",
       " (132240, <message note_on channel=9 note=46 velocity=99 time=1>),\n",
       " (132480, <message note_on channel=9 note=46 velocity=99 time=1>),\n",
       " (132480, <message note_on channel=9 note=36 velocity=127 time=0>),\n",
       " (132720, <message note_on channel=9 note=46 velocity=99 time=1>),\n",
       " (132960, <message note_on channel=9 note=40 velocity=127 time=1>),\n",
       " (132960, <message note_on channel=9 note=46 velocity=99 time=0>),\n",
       " (133200, <message note_on channel=9 note=46 velocity=99 time=1>),\n",
       " (133320, <message note_on channel=9 note=36 velocity=127 time=120>),\n",
       " (133440, <message note_on channel=9 note=46 velocity=99 time=1>),\n",
       " (133560, <message note_on channel=9 note=40 velocity=127 time=1>),\n",
       " (133680, <message note_on channel=9 note=46 velocity=99 time=1>),\n",
       " (133680, <message note_on channel=9 note=36 velocity=127 time=0>),\n",
       " (133800, <message note_on channel=9 note=36 velocity=127 time=1>),\n",
       " (133920, <message note_on channel=9 note=40 velocity=127 time=1>),\n",
       " (133920, <message note_on channel=9 note=46 velocity=99 time=0>),\n",
       " (134160, <message note_on channel=9 note=46 velocity=99 time=1>),\n",
       " (134280, <message note_on channel=9 note=36 velocity=90 time=120>),\n",
       " (134400, <message note_on channel=9 note=57 velocity=115 time=1>),\n",
       " (134400, <message note_on channel=9 note=36 velocity=127 time=0>),\n",
       " (134640, <message note_on channel=9 note=46 velocity=99 time=1>),\n",
       " (134880, <message note_on channel=9 note=40 velocity=127 time=1>),\n",
       " (134880, <message note_on channel=9 note=46 velocity=99 time=0>),\n",
       " (135120, <message note_on channel=9 note=46 velocity=99 time=1>),\n",
       " (135240, <message note_on channel=9 note=36 velocity=127 time=120>),\n",
       " (135360, <message note_on channel=9 note=46 velocity=99 time=1>),\n",
       " (135600, <message note_on channel=9 note=46 velocity=99 time=1>),\n",
       " (135600, <message note_on channel=9 note=36 velocity=127 time=0>),\n",
       " (135840, <message note_on channel=9 note=40 velocity=127 time=1>),\n",
       " (135840, <message note_on channel=9 note=46 velocity=99 time=0>),\n",
       " (136080, <message note_on channel=9 note=46 velocity=99 time=1>),\n",
       " (136320, <message note_on channel=9 note=46 velocity=99 time=1>),\n",
       " (136320, <message note_on channel=9 note=36 velocity=127 time=0>),\n",
       " (136560, <message note_on channel=9 note=46 velocity=99 time=1>),\n",
       " (136800, <message note_on channel=9 note=40 velocity=127 time=1>),\n",
       " (136800, <message note_on channel=9 note=46 velocity=99 time=0>),\n",
       " (137040, <message note_on channel=9 note=46 velocity=99 time=1>),\n",
       " (137160, <message note_on channel=9 note=36 velocity=127 time=120>),\n",
       " (137280, <message note_on channel=9 note=46 velocity=99 time=1>),\n",
       " (137520, <message note_on channel=9 note=46 velocity=99 time=1>),\n",
       " (137520, <message note_on channel=9 note=36 velocity=127 time=0>),\n",
       " (137760, <message note_on channel=9 note=40 velocity=127 time=1>),\n",
       " (137760, <message note_on channel=9 note=46 velocity=99 time=0>),\n",
       " (138000, <message note_on channel=9 note=46 velocity=99 time=1>),\n",
       " (138240, <message note_on channel=9 note=57 velocity=115 time=1>),\n",
       " (138240, <message note_on channel=9 note=36 velocity=127 time=0>),\n",
       " (138480, <message note_on channel=9 note=46 velocity=99 time=1>),\n",
       " (138720, <message note_on channel=9 note=40 velocity=127 time=1>),\n",
       " (138720, <message note_on channel=9 note=46 velocity=99 time=0>),\n",
       " (138960, <message note_on channel=9 note=46 velocity=99 time=1>),\n",
       " (139080, <message note_on channel=9 note=36 velocity=90 time=120>),\n",
       " (139200, <message note_on channel=9 note=46 velocity=99 time=1>),\n",
       " (139200, <message note_on channel=9 note=36 velocity=127 time=0>),\n",
       " (139440, <message note_on channel=9 note=46 velocity=99 time=1>),\n",
       " (139680, <message note_on channel=9 note=40 velocity=127 time=1>),\n",
       " (139680, <message note_on channel=9 note=46 velocity=99 time=0>),\n",
       " (139920, <message note_on channel=9 note=46 velocity=99 time=1>),\n",
       " (140160, <message note_on channel=9 note=49 velocity=111 time=1>),\n",
       " (140160, <message note_on channel=9 note=36 velocity=127 time=0>),\n",
       " (140400, <message note_on channel=9 note=46 velocity=99 time=1>),\n",
       " (140640, <message note_on channel=9 note=40 velocity=127 time=1>),\n",
       " (140640, <message note_on channel=9 note=46 velocity=99 time=0>),\n",
       " (140880, <message note_on channel=9 note=46 velocity=99 time=1>),\n",
       " (141000, <message note_on channel=9 note=36 velocity=127 time=120>),\n",
       " (141120, <message note_on channel=9 note=46 velocity=99 time=1>),\n",
       " (141360, <message note_on channel=9 note=46 velocity=99 time=1>),\n",
       " (141360, <message note_on channel=9 note=36 velocity=127 time=0>),\n",
       " (141600, <message note_on channel=9 note=40 velocity=127 time=1>),\n",
       " (141600, <message note_on channel=9 note=46 velocity=99 time=0>),\n",
       " (141840, <message note_on channel=9 note=46 velocity=99 time=1>),\n",
       " (142080, <message note_on channel=9 note=42 velocity=99 time=1>),\n",
       " (142080, <message note_on channel=9 note=36 velocity=127 time=0>),\n",
       " (142320, <message note_on channel=9 note=42 velocity=99 time=1>),\n",
       " (142320, <message note_on channel=9 note=36 velocity=127 time=0>),\n",
       " (142560, <message note_on channel=9 note=40 velocity=127 time=1>),\n",
       " (142560, <message note_on channel=9 note=42 velocity=99 time=0>),\n",
       " (142680, <message note_on channel=9 note=40 velocity=60 time=1>),\n",
       " (142800, <message note_on channel=9 note=42 velocity=99 time=1>),\n",
       " (142920, <message note_on channel=9 note=40 velocity=60 time=1>),\n",
       " (143040, <message note_on channel=9 note=42 velocity=99 time=1>),\n",
       " (143280, <message note_on channel=9 note=42 velocity=99 time=1>),\n",
       " (143280, <message note_on channel=9 note=36 velocity=127 time=0>),\n",
       " (143520, <message note_on channel=9 note=40 velocity=127 time=1>),\n",
       " (143520, <message note_on channel=9 note=42 velocity=99 time=0>),\n",
       " (143640, <message note_on channel=9 note=40 velocity=60 time=1>),\n",
       " (143760, <message note_on channel=9 note=42 velocity=99 time=1>),\n",
       " (143880, <message note_on channel=9 note=40 velocity=60 time=1>),\n",
       " (144000, <message note_on channel=9 note=42 velocity=99 time=1>),\n",
       " (144120, <message note_on channel=9 note=46 velocity=99 time=1>),\n",
       " (144120, <message note_on channel=9 note=36 velocity=127 time=0>),\n",
       " (144240, <message note_on channel=9 note=36 velocity=127 time=1>),\n",
       " (144480, <message note_on channel=9 note=40 velocity=127 time=1>),\n",
       " (144480, <message note_on channel=9 note=42 velocity=99 time=0>),\n",
       " (144600, <message note_on channel=9 note=40 velocity=60 time=1>),\n",
       " (144720, <message note_on channel=9 note=42 velocity=99 time=1>),\n",
       " (144720, <message note_on channel=9 note=36 velocity=127 time=0>),\n",
       " (144960, <message note_on channel=9 note=42 velocity=99 time=1>),\n",
       " (145080, <message note_on channel=9 note=40 velocity=127 time=1>),\n",
       " (145200, <message note_on channel=9 note=42 velocity=99 time=1>),\n",
       " (145200, <message note_on channel=9 note=36 velocity=127 time=0>),\n",
       " (145320, <message note_on channel=9 note=36 velocity=127 time=1>),\n",
       " (145440, <message note_on channel=9 note=40 velocity=127 time=1>),\n",
       " (145440, <message note_on channel=9 note=42 velocity=99 time=0>),\n",
       " (145560, <message note_on channel=9 note=40 velocity=60 time=1>),\n",
       " (145680, <message note_on channel=9 note=42 velocity=99 time=1>),\n",
       " (145800, <message note_on channel=9 note=40 velocity=60 time=1>),\n",
       " (145920, <message note_on channel=9 note=42 velocity=99 time=1>),\n",
       " (145920, <message note_on channel=9 note=36 velocity=127 time=0>),\n",
       " (146160, <message note_on channel=9 note=46 velocity=99 time=1>),\n",
       " (146160, <message note_on channel=9 note=36 velocity=127 time=0>),\n",
       " (146400, <message note_on channel=9 note=40 velocity=127 time=1>),\n",
       " (146400, <message note_on channel=9 note=42 velocity=99 time=0>),\n",
       " (146520, <message note_on channel=9 note=40 velocity=60 time=1>),\n",
       " (146640, <message note_on channel=9 note=42 velocity=99 time=1>),\n",
       " (146760, <message note_on channel=9 note=40 velocity=60 time=1>),\n",
       " (146880, <message note_on channel=9 note=42 velocity=99 time=1>),\n",
       " (147120, <message note_on channel=9 note=42 velocity=99 time=1>),\n",
       " (147120, <message note_on channel=9 note=36 velocity=127 time=0>),\n",
       " (147360, <message note_on channel=9 note=40 velocity=127 time=1>),\n",
       " (147360, <message note_on channel=9 note=42 velocity=99 time=0>),\n",
       " (147420, <message note_on channel=9 note=40 velocity=60 time=1>),\n",
       " (147480, <message note_on channel=9 note=40 velocity=60 time=1>),\n",
       " (147600, <message note_on channel=9 note=42 velocity=99 time=1>),\n",
       " (147720, <message note_on channel=9 note=40 velocity=60 time=1>),\n",
       " ...]"
      ]
     },
     "execution_count": 32,
     "metadata": {},
     "output_type": "execute_result"
    }
   ],
   "source": [
    "convertToAbsoluteTimeAndMerge(mid)"
   ]
  },
  {
   "cell_type": "code",
   "execution_count": 8,
   "metadata": {},
   "outputs": [
    {
     "data": {
      "text/plain": [
       "480"
      ]
     },
     "execution_count": 8,
     "metadata": {},
     "output_type": "execute_result"
    }
   ],
   "source": [
    "mid.ticks_per_beat"
   ]
  },
  {
   "cell_type": "code",
   "execution_count": 9,
   "metadata": {},
   "outputs": [
    {
     "name": "stdout",
     "output_type": "stream",
     "text": [
      "7\n",
      "41\n",
      "130\n"
     ]
    }
   ],
   "source": [
    "mid = mido.MidiFile('data/013.mid')\n",
    "notes = ExtractNotesTimeSeriesUnique(convertToAbsoluteTimeAndMerge(mid), 1, getNote=lambda x: x[1].note)\n",
    "print(len(notes))\n",
    "notes = ExtractNotesTimeSeriesUnique(convertToAbsoluteTimeAndMerge(mid), 2, getNote=lambda x: x[1].note)\n",
    "print(len(notes))\n",
    "notes = ExtractNotesTimeSeriesUnique(convertToAbsoluteTimeAndMerge(mid), 3, getNote=lambda x: x[1].note)\n",
    "print(len(notes))"
   ]
  },
  {
   "cell_type": "code",
   "execution_count": 10,
   "metadata": {},
   "outputs": [
    {
     "data": {
      "text/plain": [
       "(130, 3)"
      ]
     },
     "execution_count": 10,
     "metadata": {},
     "output_type": "execute_result"
    }
   ],
   "source": [
    "notes.shape"
   ]
  },
  {
   "cell_type": "code",
   "execution_count": 11,
   "metadata": {},
   "outputs": [
    {
     "data": {
      "text/plain": [
       "array([8, 6, 6])"
      ]
     },
     "execution_count": 11,
     "metadata": {},
     "output_type": "execute_result"
    }
   ],
   "source": [
    "notes[0]"
   ]
  },
  {
   "cell_type": "code",
   "execution_count": 12,
   "metadata": {},
   "outputs": [
    {
     "name": "stdout",
     "output_type": "stream",
     "text": [
      "41\n"
     ]
    },
    {
     "data": {
      "text/plain": [
       "(2,)"
      ]
     },
     "execution_count": 12,
     "metadata": {},
     "output_type": "execute_result"
    }
   ],
   "source": [
    "notes = ExtractNotesTimeSeriesUnique(convertToAbsoluteTimeAndMerge(mid), 2, getNote=lambda x: x[1].note)\n",
    "print(len(notes))\n",
    "notes[0].shape"
   ]
  },
  {
   "cell_type": "code",
   "execution_count": 13,
   "metadata": {},
   "outputs": [],
   "source": [
    "dists = ComputeNNoteSeriesDistances(notes)"
   ]
  },
  {
   "cell_type": "code",
   "execution_count": 14,
   "metadata": {},
   "outputs": [
    {
     "name": "stdout",
     "output_type": "stream",
     "text": [
      "[11 11]\n",
      "[5 5]\n"
     ]
    }
   ],
   "source": [
    "print(notes[2])\n",
    "print(notes[16])"
   ]
  },
  {
   "cell_type": "code",
   "execution_count": 15,
   "metadata": {},
   "outputs": [
    {
     "data": {
      "text/plain": [
       "2"
      ]
     },
     "execution_count": 15,
     "metadata": {},
     "output_type": "execute_result"
    }
   ],
   "source": [
    "dgms1 = ripser.ripser(dists, distance_matrix=True, maxdim=1)['dgms']\n",
    "len(dgms1)"
   ]
  },
  {
   "cell_type": "code",
   "execution_count": 16,
   "metadata": {},
   "outputs": [],
   "source": [
    "mid = mido.MidiFile('data/001.mid')"
   ]
  },
  {
   "cell_type": "code",
   "execution_count": 17,
   "metadata": {},
   "outputs": [],
   "source": [
    "notes = ExtractNotesTimeSeriesUnique(convertToAbsoluteTimeAndMerge(mid), 2, getNote=lambda x: x[1].note)"
   ]
  },
  {
   "cell_type": "code",
   "execution_count": 18,
   "metadata": {},
   "outputs": [],
   "source": [
    "dists = ComputeNNoteSeriesDistances(notes)"
   ]
  },
  {
   "cell_type": "code",
   "execution_count": 19,
   "metadata": {},
   "outputs": [],
   "source": [
    "dgms2 = ripser.ripser(dists, distance_matrix=True, maxdim=1)['dgms']"
   ]
  },
  {
   "cell_type": "code",
   "execution_count": 79,
   "metadata": {},
   "outputs": [],
   "source": [
    "## Compute the distances between the 0 and 1 dimensional persistence diagrams and plot it using TSNE\n",
    "\n",
    "# Filling up the dgmArray for 0 and 1 dimension. \n",
    "\n",
    "numFiles = 27\n",
    "dim = 3\n",
    "\n",
    "bottleneck_distances = [np.zeros((numFiles, numFiles)) for x in range(dim+1)]\n",
    "wassertian_distances = [np.zeros((numFiles, numFiles)) for x in range(dim+1)]\n",
    "bottleneck_distances_dim0 = np.zeros((numFiles, numFiles))\n",
    "bottleneck_distances_dim1 = np.zeros((numFiles, numFiles))\n",
    "dgmArr = [[] for x in range(dim+1)]\n",
    "dgmArr0 = []\n",
    "dgmArr1 = []"
   ]
  },
  {
   "cell_type": "code",
   "execution_count": 80,
   "metadata": {},
   "outputs": [
    {
     "data": {
      "text/plain": [
       "(27, 27)"
      ]
     },
     "execution_count": 80,
     "metadata": {},
     "output_type": "execute_result"
    }
   ],
   "source": [
    "bottleneck_distances[0].shape"
   ]
  },
  {
   "cell_type": "code",
   "execution_count": 81,
   "metadata": {},
   "outputs": [
    {
     "data": {
      "application/vnd.jupyter.widget-view+json": {
       "model_id": "96fa2e579d124c97828f787040eb1aeb",
       "version_major": 2,
       "version_minor": 0
      },
      "text/plain": [
       "HBox(children=(IntProgress(value=0, max=27), HTML(value='')))"
      ]
     },
     "metadata": {},
     "output_type": "display_data"
    },
    {
     "name": "stdout",
     "output_type": "stream",
     "text": [
      "\n"
     ]
    }
   ],
   "source": [
    "for i in tqdm(range(1, numFiles + 1)):\n",
    "    if i <= 9:\n",
    "        path = \"data/00\" + str(i) + \".mid\"\n",
    "    else:\n",
    "        path = \"data/0\" + str(i) + \".mid\"\n",
    "    mid = mido.MidiFile(path)\n",
    "    notes = ExtractNotesTimeSeriesUnique(convertToAbsoluteTimeAndMerge(mid), 2, getNote=lambda x: x[1].note)\n",
    "    dists = ComputeNNoteSeriesDistances(notes)\n",
    "    dgms = ripser.ripser(dists, distance_matrix=True, maxdim=dim)['dgms']\n",
    "    dgmArr0.append(dgms[0][:-1])\n",
    "    dgmArr1.append(dgms[1])   \n",
    "    dgmArr[0].append(dgms[0][:-1])\n",
    "    for j in range(1, dim+1):\n",
    "        dgmArr[j].append(dgms[j])"
   ]
  },
  {
   "cell_type": "code",
   "execution_count": 64,
   "metadata": {},
   "outputs": [
    {
     "data": {
      "text/plain": [
       "4"
      ]
     },
     "execution_count": 64,
     "metadata": {},
     "output_type": "execute_result"
    }
   ],
   "source": [
    "len(dgmArr)"
   ]
  },
  {
   "cell_type": "code",
   "execution_count": 65,
   "metadata": {},
   "outputs": [
    {
     "data": {
      "application/vnd.jupyter.widget-view+json": {
       "model_id": "05466ad928f5434aa38d36e051c6092b",
       "version_major": 2,
       "version_minor": 0
      },
      "text/plain": [
       "HBox(children=(IntProgress(value=0, max=25), HTML(value='')))"
      ]
     },
     "metadata": {},
     "output_type": "display_data"
    },
    {
     "name": "stdout",
     "output_type": "stream",
     "text": [
      "\n"
     ]
    }
   ],
   "source": [
    "# Computing the distances between two dgmArr and plot it with TSNE\n",
    "for i in tqdm(range(numFiles)):\n",
    "    for j in (range(numFiles)):\n",
    "        bottleneck_distances_dim0[i][j] = tda.bottleneck(dgmArr0[i], dgmArr0[j])\n",
    "        bottleneck_distances_dim1[i][j] = tda.bottleneck(dgmArr1[i], dgmArr1[j])"
   ]
  },
  {
   "cell_type": "code",
   "execution_count": 82,
   "metadata": {},
   "outputs": [
    {
     "data": {
      "application/vnd.jupyter.widget-view+json": {
       "model_id": "f11e3944ba394c9ab19cb83d95346efc",
       "version_major": 2,
       "version_minor": 0
      },
      "text/plain": [
       "HBox(children=(IntProgress(value=0, max=27), HTML(value='')))"
      ]
     },
     "metadata": {},
     "output_type": "display_data"
    },
    {
     "name": "stdout",
     "output_type": "stream",
     "text": [
      "\n"
     ]
    }
   ],
   "source": [
    "# Computing the distances between two dgmArr and plot it with TSNE\n",
    "for i in tqdm(range(numFiles)):\n",
    "    for j in (range(numFiles)):\n",
    "        for k in range(dim+1):\n",
    "            bottleneck_distances[k][i][j] = tda.bottleneck(dgmArr[k][i], dgmArr[k][j])"
   ]
  },
  {
   "cell_type": "code",
   "execution_count": 83,
   "metadata": {},
   "outputs": [
    {
     "data": {
      "application/vnd.jupyter.widget-view+json": {
       "model_id": "b1dfdda4ebf04eb3b87ad4c4ea9b3618",
       "version_major": 2,
       "version_minor": 0
      },
      "text/plain": [
       "HBox(children=(IntProgress(value=0, max=27), HTML(value='')))"
      ]
     },
     "metadata": {},
     "output_type": "display_data"
    },
    {
     "name": "stdout",
     "output_type": "stream",
     "text": [
      "\n"
     ]
    }
   ],
   "source": [
    "# Computing the distances between two dgmArr and plot it with TSNE\n",
    "for i in tqdm(range(numFiles)):\n",
    "    for j in (range(numFiles)):\n",
    "        for k in range(dim+1):\n",
    "            wassertian_distances[k][i][j] = tda.wasserstein(dgmArr[k][i], dgmArr[k][j])"
   ]
  },
  {
   "cell_type": "code",
   "execution_count": 84,
   "metadata": {},
   "outputs": [],
   "source": [
    "def computeDimReduction(method, distances):\n",
    "    distances = (distances + distances.T)/2\n",
    "    distances_transformed = np.empty(shape=(numFiles, 2))\n",
    "    if method == 'MDS':\n",
    "        distances_transformed = MDS(n_components=2, dissimilarity='precomputed').fit_transform(distances)\n",
    "    elif method == 'TSNE':\n",
    "        distances_transformed = TSNE(n_components=2, metric='precomputed').fit_transform(distances)\n",
    "    return distances_transformed"
   ]
  },
  {
   "cell_type": "code",
   "execution_count": 85,
   "metadata": {},
   "outputs": [],
   "source": [
    "bottleneck_distances_dim0_TSNE = computeDimReduction('TSNE', bottleneck_distances_dim0)\n",
    "bottleneck_distances_dim1_TSNE = computeDimReduction('TSNE', bottleneck_distances_dim1)"
   ]
  },
  {
   "cell_type": "code",
   "execution_count": 89,
   "metadata": {},
   "outputs": [],
   "source": [
    "def plotScatter(distances):\n",
    "    bd_x = np.zeros(len(distances))\n",
    "    bd_y = np.zeros(len(distances))\n",
    "\n",
    "    for i in range(len(distances)):\n",
    "        bd_x[i] = distances[i][0]\n",
    "        bd_y[i] = distances[i][1]\n",
    "\n",
    "    labelArray = np.zeros(numFiles)\n",
    "    ## LabelArray contains the labels for each of the image. \n",
    "    \n",
    "    label = 0\n",
    "    for i in range(len(labelArray)):\n",
    "        if i >= 10 and i <= 24:\n",
    "            label = 1\n",
    "        elif i >= 25:\n",
    "            label = 2\n",
    "        labelArray[i] = label\n",
    "\n",
    "    plt.scatter(bd_x, bd_y, c = labelArray)\n",
    "    plt.show()"
   ]
  },
  {
   "cell_type": "code",
   "execution_count": 90,
   "metadata": {},
   "outputs": [
    {
     "data": {
      "text/plain": [
       "4"
      ]
     },
     "execution_count": 90,
     "metadata": {},
     "output_type": "execute_result"
    }
   ],
   "source": [
    "len(bottleneck_distances)"
   ]
  },
  {
   "cell_type": "code",
   "execution_count": 91,
   "metadata": {},
   "outputs": [
    {
     "name": "stdout",
     "output_type": "stream",
     "text": [
      "0\n"
     ]
    },
    {
     "data": {
      "image/png": "[encoded data removed]",
      "text/plain": [
       "<Figure size 432x288 with 1 Axes>"
      ]
     },
     "metadata": {},
     "output_type": "display_data"
    },
    {
     "name": "stdout",
     "output_type": "stream",
     "text": [
      "1\n"
     ]
    },
    {
     "data": {
      "image/png": "[encoded data removed]",
      "text/plain": [
       "<Figure size 432x288 with 1 Axes>"
      ]
     },
     "metadata": {},
     "output_type": "display_data"
    },
    {
     "name": "stdout",
     "output_type": "stream",
     "text": [
      "2\n"
     ]
    },
    {
     "data": {
      "image/png": "[encoded data removed]",
      "text/plain": [
       "<Figure size 432x288 with 1 Axes>"
      ]
     },
     "metadata": {},
     "output_type": "display_data"
    },
    {
     "name": "stdout",
     "output_type": "stream",
     "text": [
      "3\n"
     ]
    },
    {
     "data": {
      "image/png": "[encoded data removed]",
      "text/plain": [
       "<Figure size 432x288 with 1 Axes>"
      ]
     },
     "metadata": {},
     "output_type": "display_data"
    }
   ],
   "source": [
    "for j in range(dim+1):\n",
    "    print(j)\n",
    "    bottleneck_distances_TSNE = computeDimReduction('TSNE', bottleneck_distances[j])\n",
    "    plotScatter(bottleneck_distances_TSNE)"
   ]
  },
  {
   "cell_type": "code",
   "execution_count": 92,
   "metadata": {},
   "outputs": [
    {
     "name": "stdout",
     "output_type": "stream",
     "text": [
      "0\n"
     ]
    },
    {
     "data": {
      "image/png": "[encoded data removed]",
      "text/plain": [
       "<Figure size 432x288 with 1 Axes>"
      ]
     },
     "metadata": {},
     "output_type": "display_data"
    },
    {
     "name": "stdout",
     "output_type": "stream",
     "text": [
      "1\n"
     ]
    },
    {
     "data": {
      "image/png": "[encoded data removed]",
      "text/plain": [
       "<Figure size 432x288 with 1 Axes>"
      ]
     },
     "metadata": {},
     "output_type": "display_data"
    },
    {
     "name": "stdout",
     "output_type": "stream",
     "text": [
      "2\n"
     ]
    },
    {
     "data": {
      "image/png": "[encoded data removed]",
      "text/plain": [
       "<Figure size 432x288 with 1 Axes>"
      ]
     },
     "metadata": {},
     "output_type": "display_data"
    },
    {
     "name": "stdout",
     "output_type": "stream",
     "text": [
      "3\n"
     ]
    },
    {
     "data": {
      "image/png": "[encoded data removed]",
      "text/plain": [
       "<Figure size 432x288 with 1 Axes>"
      ]
     },
     "metadata": {},
     "output_type": "display_data"
    }
   ],
   "source": [
    "for j in range(dim+1):\n",
    "    print(j)\n",
    "    wassertian_distances_TSNE = computeDimReduction('TSNE', wassertian_distances[j])\n",
    "    plotScatter(wassertian_distances_TSNE)"
   ]
  },
  {
   "cell_type": "code",
   "execution_count": null,
   "metadata": {},
   "outputs": [],
   "source": []
  },
  {
   "cell_type": "code",
   "execution_count": null,
   "metadata": {},
   "outputs": [],
   "source": []
  },
  {
   "cell_type": "code",
   "execution_count": null,
   "metadata": {},
   "outputs": [],
   "source": []
  }
 ],
 "metadata": {
  "kernelspec": {
   "display_name": "Python 3",
   "language": "python",
   "name": "python3"
  },
  "language_info": {
   "codemirror_mode": {
    "name": "ipython",
    "version": 3
   },
   "file_extension": ".py",
   "mimetype": "text/x-python",
   "name": "python",
   "nbconvert_exporter": "python",
   "pygments_lexer": "ipython3",
   "version": "3.6.8"
  }
 },
 "nbformat": 4,
 "nbformat_minor": 2
}
