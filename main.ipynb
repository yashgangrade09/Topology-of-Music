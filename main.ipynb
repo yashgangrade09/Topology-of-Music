{
 "cells": [
  {
   "cell_type": "code",
   "execution_count": 1,
   "metadata": {},
   "outputs": [],
   "source": [
    "import mido\n",
    "import heapq # merge (i.e. from mergesort)\n",
    "import ripser\n",
    "import numpy as np"
   ]
  },
  {
   "cell_type": "code",
   "execution_count": 2,
   "metadata": {},
   "outputs": [
    {
     "name": "stdout",
     "output_type": "stream",
     "text": [
      "Gudhi not found--GraphInducedComplex not available\n"
     ]
    }
   ],
   "source": [
    "from tqdm import tqdm_notebook as tqdm\n",
    "from sklearn.manifold import MDS\n",
    "from sklearn.manifold import TSNE\n",
    "import sklearn_tda as tda"
   ]
  },
  {
   "cell_type": "code",
   "execution_count": 3,
   "metadata": {},
   "outputs": [],
   "source": [
    "import matplotlib.pyplot as plt"
   ]
  },
  {
   "cell_type": "code",
   "execution_count": 4,
   "metadata": {},
   "outputs": [
    {
     "name": "stdout",
     "output_type": "stream",
     "text": [
      "Track 0: \n",
      "Track 1: \n"
     ]
    }
   ],
   "source": [
    "mid = mido.MidiFile('data/011.mid')\n",
    "msgArray = []\n",
    "for i, track in enumerate(mid.tracks):\n",
    "    print('Track {}: {}'.format(i, track.name))\n",
    "    for msg in track:\n",
    "        msgArray.append(msg)\n",
    "#         print(msg)"
   ]
  },
  {
   "cell_type": "code",
   "execution_count": 5,
   "metadata": {},
   "outputs": [],
   "source": [
    "# put together midi files \n",
    "def convertToAbsoluteTimeAndMerge(mid):\n",
    "    # takes the full midi object as input\n",
    "    # outputs list of pairs: [..., (abs_time, midi_message), ...]\n",
    "    allEvents = []\n",
    "    for i, track in enumerate(mid.tracks):\n",
    "        allEvents.append([])\n",
    "        abs_time = 0\n",
    "        for msg in track:\n",
    "            abs_time = abs_time + msg.time\n",
    "            if msg.type == 'note_on' and msg.velocity > 0:\n",
    "                allEvents[i].append((abs_time, msg))\n",
    "\n",
    "    return list(heapq.merge(*allEvents, key=lambda x: x[0]))"
   ]
  },
  {
   "cell_type": "code",
   "execution_count": 6,
   "metadata": {},
   "outputs": [],
   "source": [
    "# return one dimensional point cloud -> n nodes\n",
    "def ExtractSingleNotesUnique(notes, getNote=lambda x: x):\n",
    "    # takes the ordered set of notes as inputs. The actual note is accessed using the getNote function\n",
    "    # outputs the set of notes (modulo 12) in the midi file\n",
    "    noteSet = set()\n",
    "    for note in notes:\n",
    "        noteSet.add(getNote(note) % 12)\n",
    "    return np.array(noteSet)"
   ]
  },
  {
   "cell_type": "code",
   "execution_count": 7,
   "metadata": {},
   "outputs": [],
   "source": [
    "# 3D point cloud return -> note 1 note 2 note 3; note 2 note 3 note 4 -> easiest way to preserve time series. return M X N point cloud\n",
    "def ExtractNotesTimeSeriesUnique(notes, N, getNote=lambda x: x):\n",
    "    noteSeriesSet = set()\n",
    "    for ind in range(len(notes) - N + 1):\n",
    "        noteSeries = tuple(getNote(notes[ind + j]) % 12 for j in range(N))\n",
    "        noteSeriesSet.add(noteSeries)\n",
    "    return np.array([np.array(noteSeries) for noteSeries in noteSeriesSet])"
   ]
  },
  {
   "cell_type": "code",
   "execution_count": 8,
   "metadata": {},
   "outputs": [],
   "source": [
    "# defines the distance function between every pair of points in the point cloud\n",
    "def ComputeNNoteSeriesDistances(noteSeriesSet):\n",
    "    dists = np.zeros((len(noteSeriesSet), len(noteSeriesSet)))\n",
    "    for i in range(noteSeriesSet.shape[0]):\n",
    "        for j in range(i, noteSeriesSet.shape[0]):\n",
    "            v = np.abs(noteSeriesSet[i] - noteSeriesSet[j])\n",
    "            diffVec = np.minimum(v, 12 - v)\n",
    "            dists[i,j] = np.sum(diffVec)\n",
    "            dists[j,i] = dists[i,j]\n",
    "    return dists"
   ]
  },
  {
   "cell_type": "code",
   "execution_count": 9,
   "metadata": {},
   "outputs": [
    {
     "data": {
      "text/plain": [
       "93"
      ]
     },
     "execution_count": 9,
     "metadata": {},
     "output_type": "execute_result"
    }
   ],
   "source": [
    "mid.tracks[0][20].note"
   ]
  },
  {
   "cell_type": "code",
   "execution_count": 10,
   "metadata": {},
   "outputs": [
    {
     "data": {
      "text/plain": [
       "480"
      ]
     },
     "execution_count": 10,
     "metadata": {},
     "output_type": "execute_result"
    }
   ],
   "source": [
    "mid.ticks_per_beat"
   ]
  },
  {
   "cell_type": "code",
   "execution_count": 11,
   "metadata": {},
   "outputs": [
    {
     "name": "stdout",
     "output_type": "stream",
     "text": [
      "7\n",
      "41\n",
      "130\n"
     ]
    }
   ],
   "source": [
    "mid = mido.MidiFile('data/013.mid')\n",
    "notes = ExtractNotesTimeSeriesUnique(convertToAbsoluteTimeAndMerge(mid), 1, getNote=lambda x: x[1].note)\n",
    "print(len(notes))\n",
    "notes = ExtractNotesTimeSeriesUnique(convertToAbsoluteTimeAndMerge(mid), 2, getNote=lambda x: x[1].note)\n",
    "print(len(notes))\n",
    "notes = ExtractNotesTimeSeriesUnique(convertToAbsoluteTimeAndMerge(mid), 3, getNote=lambda x: x[1].note)\n",
    "print(len(notes))"
   ]
  },
  {
   "cell_type": "code",
   "execution_count": 12,
   "metadata": {},
   "outputs": [
    {
     "data": {
      "text/plain": [
       "(130, 3)"
      ]
     },
     "execution_count": 12,
     "metadata": {},
     "output_type": "execute_result"
    }
   ],
   "source": [
    "notes.shape"
   ]
  },
  {
   "cell_type": "code",
   "execution_count": 13,
   "metadata": {},
   "outputs": [
    {
     "data": {
      "text/plain": [
       "array([8, 6, 6])"
      ]
     },
     "execution_count": 13,
     "metadata": {},
     "output_type": "execute_result"
    }
   ],
   "source": [
    "notes[0]"
   ]
  },
  {
   "cell_type": "code",
   "execution_count": 14,
   "metadata": {},
   "outputs": [
    {
     "name": "stdout",
     "output_type": "stream",
     "text": [
      "41\n"
     ]
    },
    {
     "data": {
      "text/plain": [
       "(2,)"
      ]
     },
     "execution_count": 14,
     "metadata": {},
     "output_type": "execute_result"
    }
   ],
   "source": [
    "notes = ExtractNotesTimeSeriesUnique(convertToAbsoluteTimeAndMerge(mid), 2, getNote=lambda x: x[1].note)\n",
    "print(len(notes))\n",
    "notes[0].shape"
   ]
  },
  {
   "cell_type": "code",
   "execution_count": 15,
   "metadata": {},
   "outputs": [],
   "source": [
    "dists = ComputeNNoteSeriesDistances(notes)"
   ]
  },
  {
   "cell_type": "code",
   "execution_count": 16,
   "metadata": {},
   "outputs": [
    {
     "name": "stdout",
     "output_type": "stream",
     "text": [
      "[11 11]\n",
      "[5 5]\n"
     ]
    }
   ],
   "source": [
    "print(notes[2])\n",
    "print(notes[16])"
   ]
  },
  {
   "cell_type": "code",
   "execution_count": 17,
   "metadata": {},
   "outputs": [
    {
     "data": {
      "text/plain": [
       "2"
      ]
     },
     "execution_count": 17,
     "metadata": {},
     "output_type": "execute_result"
    }
   ],
   "source": [
    "dgms1 = ripser.ripser(dists, distance_matrix=True, maxdim=1)['dgms']\n",
    "len(dgms1)"
   ]
  },
  {
   "cell_type": "code",
   "execution_count": 18,
   "metadata": {},
   "outputs": [],
   "source": [
    "mid = mido.MidiFile('data/001.mid')"
   ]
  },
  {
   "cell_type": "code",
   "execution_count": 19,
   "metadata": {},
   "outputs": [],
   "source": [
    "notes = ExtractNotesTimeSeriesUnique(convertToAbsoluteTimeAndMerge(mid), 2, getNote=lambda x: x[1].note)"
   ]
  },
  {
   "cell_type": "code",
   "execution_count": 20,
   "metadata": {},
   "outputs": [],
   "source": [
    "dists = ComputeNNoteSeriesDistances(notes)"
   ]
  },
  {
   "cell_type": "code",
   "execution_count": 21,
   "metadata": {},
   "outputs": [],
   "source": [
    "dgms2 = ripser.ripser(dists, distance_matrix=True, maxdim=1)['dgms']"
   ]
  },
  {
   "cell_type": "code",
   "execution_count": 22,
   "metadata": {},
   "outputs": [],
   "source": [
    "## Compute the distances between the 0 and 1 dimensional persistence diagrams and plot it using TSNE\n",
    "\n",
    "# Filling up the dgmArray for 0 and 1 dimension. \n",
    "\n",
    "numFiles = 27\n",
    "dim = 3\n",
    "\n",
    "bottleneck_distances = [np.zeros((numFiles, numFiles)) for x in range(dim+1)]\n",
    "bottleneck_distances_dim0 = np.zeros((numFiles, numFiles))\n",
    "bottleneck_distances_dim1 = np.zeros((numFiles, numFiles))\n",
    "dgmArr = [[] for x in range(dim+1)]\n",
    "dgmArr0 = []\n",
    "dgmArr1 = []"
   ]
  },
  {
   "cell_type": "code",
   "execution_count": 23,
   "metadata": {},
   "outputs": [
    {
     "data": {
      "text/plain": [
       "(27, 27)"
      ]
     },
     "execution_count": 23,
     "metadata": {},
     "output_type": "execute_result"
    }
   ],
   "source": [
    "bottleneck_distances[0].shape"
   ]
  },
  {
   "cell_type": "code",
   "execution_count": 24,
   "metadata": {},
   "outputs": [
    {
     "data": {
      "application/vnd.jupyter.widget-view+json": {
       "model_id": "0391db6a1ba843f09f36ecd6b16cb140",
       "version_major": 2,
       "version_minor": 0
      },
      "text/plain": [
       "HBox(children=(IntProgress(value=0, max=27), HTML(value='')))"
      ]
     },
     "metadata": {},
     "output_type": "display_data"
    },
    {
     "name": "stdout",
     "output_type": "stream",
     "text": [
      "\n"
     ]
    }
   ],
   "source": [
    "for i in tqdm(range(1, numFiles + 1)):\n",
    "    if i <= 9:\n",
    "        path = \"data/00\" + str(i) + \".mid\"\n",
    "    else:\n",
    "        path = \"data/0\" + str(i) + \".mid\"\n",
    "    mid = mido.MidiFile(path)\n",
    "    notes = ExtractNotesTimeSeriesUnique(convertToAbsoluteTimeAndMerge(mid), 2, getNote=lambda x: x[1].note)\n",
    "    dists = ComputeNNoteSeriesDistances(notes)\n",
    "    dgms = ripser.ripser(dists, distance_matrix=True, maxdim=dim)['dgms']\n",
    "    dgmArr0.append(dgms[0][:-1])\n",
    "    dgmArr1.append(dgms[1])   \n",
    "    dgmArr[0].append(dgms[0][:-1])\n",
    "    for j in range(1, dim+1):\n",
    "        dgmArr[j].append(dgms[j])"
   ]
  },
  {
   "cell_type": "code",
   "execution_count": 38,
   "metadata": {},
   "outputs": [
    {
     "data": {
      "application/vnd.jupyter.widget-view+json": {
       "model_id": "a596a9a8ee4c4be5b2f5d1c9349f58e2",
       "version_major": 2,
       "version_minor": 0
      },
      "text/plain": [
       "HBox(children=(IntProgress(value=0, max=27), HTML(value='')))"
      ]
     },
     "metadata": {},
     "output_type": "display_data"
    },
    {
     "name": "stdout",
     "output_type": "stream",
     "text": [
      "\n"
     ]
    }
   ],
   "source": [
    "# Computing the distances between two dgmArr and plot it with TSNE\n",
    "for i in tqdm(range(numFiles)):\n",
    "    for j in (range(numFiles)):\n",
    "        bottleneck_distances_dim0[i][j] = tda.bottleneck(dgmArr0[i], dgmArr0[j])\n",
    "        bottleneck_distances_dim1[i][j] = tda.bottleneck(dgmArr1[i], dgmArr1[j])"
   ]
  },
  {
   "cell_type": "code",
   "execution_count": 50,
   "metadata": {},
   "outputs": [
    {
     "data": {
      "application/vnd.jupyter.widget-view+json": {
       "model_id": "6f0f9e9e1447455d81df778e5fb4be69",
       "version_major": 2,
       "version_minor": 0
      },
      "text/plain": [
       "HBox(children=(IntProgress(value=0, max=27), HTML(value='')))"
      ]
     },
     "metadata": {},
     "output_type": "display_data"
    },
    {
     "name": "stdout",
     "output_type": "stream",
     "text": [
      "\n"
     ]
    }
   ],
   "source": [
    "# Computing the distances between two dgmArr and plot it with TSNE\n",
    "for i in tqdm(range(numFiles)):\n",
    "    for j in (range(numFiles)):\n",
    "        for k in range(dim+1):\n",
    "            bottleneck_distances[k][i][j] = tda.bottleneck(dgmArr[k][i], dgmArr[k][j])"
   ]
  },
  {
   "cell_type": "code",
   "execution_count": 52,
   "metadata": {},
   "outputs": [],
   "source": [
    "def computeDimReduction(method, distances):\n",
    "    distances = (distances + distances.T)/2\n",
    "    distances_transformed = np.empty(shape=(numFiles, 2))\n",
    "    if method == 'MDS':\n",
    "        distances_transformed = MDS(n_components=2, dissimilarity='precomputed').fit_transform(distances)\n",
    "    elif method == 'TSNE':\n",
    "        distances_transformed = TSNE(n_components=2, metric='precomputed').fit_transform(distances)\n",
    "    return distances_transformed"
   ]
  },
  {
   "cell_type": "code",
   "execution_count": 53,
   "metadata": {},
   "outputs": [],
   "source": [
    "bottleneck_distances_dim0_TSNE = computeDimReduction('TSNE', bottleneck_distances_dim0)\n",
    "bottleneck_distances_dim1_TSNE = computeDimReduction('TSNE', bottleneck_distances_dim1)"
   ]
  },
  {
   "cell_type": "code",
   "execution_count": 54,
   "metadata": {},
   "outputs": [],
   "source": [
    "def plotScatter(distances):\n",
    "    bd_x = np.zeros(len(distances))\n",
    "    bd_y = np.zeros(len(distances))\n",
    "\n",
    "    for i in range(len(distances)):\n",
    "        bd_x[i] = distances[i][0]\n",
    "        bd_y[i] = distances[i][1]\n",
    "\n",
    "    labelArray = np.zeros(80)\n",
    "    ## LabelArray contains the labels for each of the image. \n",
    "    \n",
    "    label = 0\n",
    "    for i in range(len(labelArray)):\n",
    "        if i % 10 == 0:\n",
    "            label += 1\n",
    "        labelArray[i] = label\n",
    "\n",
    "    plt.scatter(bd_x, bd_y, cmap = \"tab10\")\n",
    "    plt.show()"
   ]
  },
  {
   "cell_type": "code",
   "execution_count": 55,
   "metadata": {},
   "outputs": [
    {
     "data": {
      "image/png": "[encoded data removed]",
      "text/plain": [
       "<Figure size 432x288 with 1 Axes>"
      ]
     },
     "metadata": {},
     "output_type": "display_data"
    },
    {
     "data": {
      "image/png": "[encoded data removed]",
      "text/plain": [
       "<Figure size 432x288 with 1 Axes>"
      ]
     },
     "metadata": {},
     "output_type": "display_data"
    },
    {
     "data": {
      "image/png": "[encoded data removed]",
      "text/plain": [
       "<Figure size 432x288 with 1 Axes>"
      ]
     },
     "metadata": {},
     "output_type": "display_data"
    }
   ],
   "source": [
    "for j in range(dim+1):\n",
    "    bottleneck_distances_TSNE = computeDimReduction('TSNE', bottleneck_distances[j])\n",
    "    plotScatter(bottleneck_distances_TSNE)"
   ]
  }
 ],
 "metadata": {
  "kernelspec": {
   "display_name": "Python 3",
   "language": "python",
   "name": "python3"
  },
  "language_info": {
   "codemirror_mode": {
    "name": "ipython",
    "version": 3
   },
   "file_extension": ".py",
   "mimetype": "text/x-python",
   "name": "python",
   "nbconvert_exporter": "python",
   "pygments_lexer": "ipython3",
   "version": "3.6.8"
  }
 },
 "nbformat": 4,
 "nbformat_minor": 2
}
