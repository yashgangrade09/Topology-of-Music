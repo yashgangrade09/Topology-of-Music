{
 "cells": [
  {
   "cell_type": "code",
   "execution_count": 1,
   "metadata": {},
   "outputs": [],
   "source": [
    "import mido\n",
    "import heapq # merge (i.e. from mergesort)\n",
    "import ripser\n",
    "import numpy as np"
   ]
  },
  {
   "cell_type": "code",
   "execution_count": 3,
   "metadata": {},
   "outputs": [
    {
     "name": "stdout",
     "output_type": "stream",
     "text": [
      "Track 0: \n",
      "<meta message time_signature numerator=4 denominator=4 clocks_per_click=24 notated_32nd_notes_per_beat=8 time=0>\n",
      "<meta message key_signature key='F' time=0>\n",
      "<meta message set_tempo tempo=441176 time=0>\n",
      "control_change channel=0 control=121 value=0 time=0\n",
      "program_change channel=0 program=0 time=0\n",
      "control_change channel=0 control=7 value=100 time=0\n",
      "control_change channel=0 control=10 value=64 time=0\n",
      "control_change channel=0 control=91 value=0 time=0\n",
      "control_change channel=0 control=93 value=0 time=0\n",
      "<meta message midi_port port=0 time=0>\n",
      "note_on channel=0 note=93 velocity=41 time=0\n",
      "note_on channel=0 note=93 velocity=0 time=239\n",
      "note_on channel=0 note=93 velocity=41 time=241\n",
      "note_on channel=0 note=93 velocity=0 time=239\n",
      "note_on channel=0 note=93 velocity=41 time=241\n",
      "note_on channel=0 note=93 velocity=0 time=239\n",
      "note_on channel=0 note=93 velocity=41 time=241\n",
      "note_on channel=0 note=93 velocity=0 time=239\n",
      "note_on channel=0 note=93 velocity=41 time=241\n",
      "note_on channel=0 note=93 velocity=0 time=239\n",
      "note_on channel=0 note=93 velocity=41 time=241\n",
      "note_on channel=0 note=93 velocity=0 time=239\n",
      "note_on channel=0 note=93 velocity=41 time=241\n",
      "note_on channel=0 note=93 velocity=0 time=227\n",
      "note_on channel=0 note=93 velocity=41 time=13\n",
      "note_on channel=0 note=93 velocity=0 time=227\n",
      "note_on channel=0 note=93 velocity=41 time=13\n",
      "note_on channel=0 note=93 velocity=0 time=239\n",
      "note_on channel=0 note=94 velocity=41 time=241\n",
      "note_on channel=0 note=94 velocity=0 time=239\n",
      "note_on channel=0 note=94 velocity=41 time=241\n",
      "note_on channel=0 note=94 velocity=0 time=239\n",
      "note_on channel=0 note=94 velocity=41 time=241\n",
      "note_on channel=0 note=94 velocity=0 time=239\n",
      "note_on channel=0 note=94 velocity=41 time=241\n",
      "note_on channel=0 note=94 velocity=0 time=239\n",
      "note_on channel=0 note=94 velocity=41 time=241\n",
      "note_on channel=0 note=94 velocity=0 time=239\n",
      "note_on channel=0 note=94 velocity=41 time=241\n",
      "note_on channel=0 note=94 velocity=0 time=239\n",
      "note_on channel=0 note=96 velocity=41 time=241\n",
      "note_on channel=0 note=96 velocity=0 time=227\n",
      "note_on channel=0 note=96 velocity=41 time=13\n",
      "note_on channel=0 note=96 velocity=0 time=227\n",
      "note_on channel=0 note=96 velocity=41 time=13\n",
      "note_on channel=0 note=96 velocity=0 time=239\n",
      "note_on channel=0 note=93 velocity=41 time=241\n",
      "note_on channel=0 note=93 velocity=0 time=239\n",
      "note_on channel=0 note=93 velocity=41 time=241\n",
      "note_on channel=0 note=93 velocity=0 time=239\n",
      "note_on channel=0 note=93 velocity=41 time=241\n",
      "note_on channel=0 note=93 velocity=0 time=239\n",
      "note_on channel=0 note=93 velocity=41 time=241\n",
      "note_on channel=0 note=93 velocity=0 time=239\n",
      "note_on channel=0 note=93 velocity=41 time=241\n",
      "note_on channel=0 note=93 velocity=0 time=239\n",
      "note_on channel=0 note=93 velocity=41 time=241\n",
      "note_on channel=0 note=93 velocity=0 time=239\n",
      "note_on channel=0 note=93 velocity=41 time=241\n",
      "note_on channel=0 note=93 velocity=0 time=227\n",
      "note_on channel=0 note=93 velocity=41 time=13\n",
      "note_on channel=0 note=93 velocity=0 time=227\n",
      "note_on channel=0 note=93 velocity=41 time=13\n",
      "note_on channel=0 note=93 velocity=0 time=239\n",
      "note_on channel=0 note=91 velocity=41 time=241\n",
      "note_on channel=0 note=91 velocity=0 time=239\n",
      "note_on channel=0 note=91 velocity=41 time=241\n",
      "note_on channel=0 note=91 velocity=0 time=239\n",
      "note_on channel=0 note=91 velocity=41 time=241\n",
      "note_on channel=0 note=91 velocity=0 time=239\n",
      "note_on channel=0 note=91 velocity=41 time=241\n",
      "note_on channel=0 note=91 velocity=0 time=239\n",
      "note_on channel=0 note=91 velocity=41 time=241\n",
      "note_on channel=0 note=91 velocity=0 time=227\n",
      "note_on channel=0 note=91 velocity=41 time=13\n",
      "note_on channel=0 note=91 velocity=0 time=227\n",
      "note_on channel=0 note=91 velocity=41 time=13\n",
      "note_on channel=0 note=91 velocity=0 time=239\n",
      "note_on channel=0 note=91 velocity=41 time=241\n",
      "note_on channel=0 note=91 velocity=0 time=227\n",
      "note_on channel=0 note=91 velocity=41 time=13\n",
      "note_on channel=0 note=91 velocity=0 time=227\n",
      "note_on channel=0 note=91 velocity=41 time=13\n",
      "note_on channel=0 note=91 velocity=0 time=239\n",
      "<meta message end_of_track time=1>\n",
      "Track 1: \n",
      "<meta message key_signature key='F' time=0>\n",
      "<meta message midi_port port=0 time=0>\n",
      "note_on channel=0 note=72 velocity=47 time=0\n",
      "note_on channel=0 note=74 velocity=47 time=0\n",
      "note_on channel=0 note=77 velocity=47 time=0\n",
      "note_on channel=0 note=81 velocity=47 time=0\n",
      "note_on channel=0 note=50 velocity=41 time=0\n",
      "note_on channel=0 note=50 velocity=0 time=239\n",
      "note_on channel=0 note=50 velocity=47 time=241\n",
      "note_on channel=0 note=50 velocity=0 time=239\n",
      "note_on channel=0 note=72 velocity=0 time=192\n",
      "note_on channel=0 note=74 velocity=0 time=0\n",
      "note_on channel=0 note=77 velocity=0 time=0\n",
      "note_on channel=0 note=81 velocity=0 time=0\n",
      "note_on channel=0 note=72 velocity=47 time=49\n",
      "note_on channel=0 note=74 velocity=47 time=0\n",
      "note_on channel=0 note=77 velocity=47 time=0\n",
      "note_on channel=0 note=81 velocity=47 time=0\n",
      "note_on channel=0 note=50 velocity=39 time=0\n",
      "note_on channel=0 note=50 velocity=0 time=239\n",
      "note_on channel=0 note=50 velocity=47 time=241\n",
      "note_on channel=0 note=50 velocity=0 time=239\n",
      "note_on channel=0 note=72 velocity=0 time=192\n",
      "note_on channel=0 note=74 velocity=0 time=0\n",
      "note_on channel=0 note=77 velocity=0 time=0\n",
      "note_on channel=0 note=81 velocity=0 time=0\n",
      "note_on channel=0 note=72 velocity=47 time=49\n",
      "note_on channel=0 note=74 velocity=47 time=0\n",
      "note_on channel=0 note=77 velocity=47 time=0\n",
      "note_on channel=0 note=81 velocity=47 time=0\n",
      "note_on channel=0 note=50 velocity=39 time=0\n",
      "note_on channel=0 note=50 velocity=0 time=239\n",
      "note_on channel=0 note=50 velocity=47 time=241\n",
      "note_on channel=0 note=50 velocity=0 time=239\n",
      "note_on channel=0 note=72 velocity=0 time=192\n",
      "note_on channel=0 note=74 velocity=0 time=0\n",
      "note_on channel=0 note=77 velocity=0 time=0\n",
      "note_on channel=0 note=81 velocity=0 time=0\n",
      "note_on channel=0 note=72 velocity=47 time=49\n",
      "note_on channel=0 note=74 velocity=47 time=0\n",
      "note_on channel=0 note=77 velocity=47 time=0\n",
      "note_on channel=0 note=81 velocity=47 time=0\n",
      "note_on channel=0 note=50 velocity=37 time=0\n",
      "note_on channel=0 note=50 velocity=0 time=239\n",
      "note_on channel=0 note=50 velocity=47 time=241\n",
      "note_on channel=0 note=50 velocity=0 time=239\n",
      "note_on channel=0 note=72 velocity=0 time=192\n",
      "note_on channel=0 note=74 velocity=0 time=0\n",
      "note_on channel=0 note=77 velocity=0 time=0\n",
      "note_on channel=0 note=81 velocity=0 time=0\n",
      "note_on channel=0 note=74 velocity=47 time=49\n",
      "note_on channel=0 note=77 velocity=47 time=0\n",
      "note_on channel=0 note=82 velocity=47 time=0\n",
      "note_on channel=0 note=46 velocity=37 time=0\n",
      "note_on channel=0 note=46 velocity=0 time=239\n",
      "note_on channel=0 note=46 velocity=47 time=241\n",
      "note_on channel=0 note=46 velocity=0 time=239\n",
      "note_on channel=0 note=74 velocity=0 time=192\n",
      "note_on channel=0 note=77 velocity=0 time=0\n",
      "note_on channel=0 note=82 velocity=0 time=0\n",
      "note_on channel=0 note=74 velocity=47 time=49\n",
      "note_on channel=0 note=77 velocity=47 time=0\n",
      "note_on channel=0 note=82 velocity=47 time=0\n",
      "note_on channel=0 note=46 velocity=37 time=0\n",
      "note_on channel=0 note=46 velocity=0 time=239\n",
      "note_on channel=0 note=46 velocity=47 time=241\n",
      "note_on channel=0 note=46 velocity=0 time=239\n",
      "note_on channel=0 note=74 velocity=0 time=192\n",
      "note_on channel=0 note=77 velocity=0 time=0\n",
      "note_on channel=0 note=82 velocity=0 time=0\n",
      "note_on channel=0 note=74 velocity=47 time=49\n",
      "note_on channel=0 note=77 velocity=47 time=0\n",
      "note_on channel=0 note=82 velocity=47 time=0\n",
      "note_on channel=0 note=46 velocity=39 time=0\n",
      "note_on channel=0 note=46 velocity=0 time=239\n",
      "note_on channel=0 note=46 velocity=47 time=241\n",
      "note_on channel=0 note=46 velocity=0 time=239\n",
      "note_on channel=0 note=74 velocity=0 time=192\n",
      "note_on channel=0 note=77 velocity=0 time=0\n",
      "note_on channel=0 note=82 velocity=0 time=0\n",
      "note_on channel=0 note=74 velocity=47 time=49\n",
      "note_on channel=0 note=77 velocity=47 time=0\n",
      "note_on channel=0 note=82 velocity=47 time=0\n",
      "note_on channel=0 note=46 velocity=41 time=0\n",
      "note_on channel=0 note=46 velocity=0 time=239\n",
      "note_on channel=0 note=84 velocity=47 time=241\n",
      "note_on channel=0 note=46 velocity=47 time=0\n",
      "note_on channel=0 note=72 velocity=47 time=0\n",
      "note_on channel=0 note=46 velocity=0 time=239\n",
      "note_on channel=0 note=72 velocity=0 time=0\n",
      "note_on channel=0 note=74 velocity=0 time=192\n",
      "note_on channel=0 note=77 velocity=0 time=0\n",
      "note_on channel=0 note=82 velocity=0 time=0\n",
      "note_on channel=0 note=72 velocity=47 time=49\n",
      "note_on channel=0 note=77 velocity=47 time=0\n",
      "note_on channel=0 note=81 velocity=47 time=0\n",
      "note_on channel=0 note=41 velocity=41 time=0\n",
      "note_on channel=0 note=84 velocity=0 time=203\n",
      "note_on channel=0 note=41 velocity=0 time=36\n",
      "note_on channel=0 note=41 velocity=47 time=241\n",
      "note_on channel=0 note=41 velocity=0 time=239\n",
      "note_on channel=0 note=72 velocity=0 time=192\n",
      "note_on channel=0 note=77 velocity=0 time=0\n",
      "note_on channel=0 note=81 velocity=0 time=0\n",
      "note_on channel=0 note=72 velocity=47 time=49\n",
      "note_on channel=0 note=77 velocity=47 time=0\n",
      "note_on channel=0 note=81 velocity=47 time=0\n",
      "note_on channel=0 note=41 velocity=41 time=0\n",
      "note_on channel=0 note=41 velocity=0 time=239\n",
      "note_on channel=0 note=41 velocity=47 time=241\n",
      "note_on channel=0 note=41 velocity=0 time=239\n",
      "note_on channel=0 note=72 velocity=0 time=192\n",
      "note_on channel=0 note=77 velocity=0 time=0\n",
      "note_on channel=0 note=81 velocity=0 time=0\n",
      "note_on channel=0 note=72 velocity=47 time=49\n",
      "note_on channel=0 note=77 velocity=47 time=0\n",
      "note_on channel=0 note=81 velocity=47 time=0\n",
      "note_on channel=0 note=41 velocity=39 time=0\n",
      "note_on channel=0 note=41 velocity=0 time=239\n",
      "note_on channel=0 note=41 velocity=47 time=241\n",
      "note_on channel=0 note=41 velocity=0 time=239\n",
      "note_on channel=0 note=72 velocity=0 time=192\n",
      "note_on channel=0 note=77 velocity=0 time=0\n",
      "note_on channel=0 note=81 velocity=0 time=0\n",
      "note_on channel=0 note=72 velocity=47 time=49\n",
      "note_on channel=0 note=77 velocity=47 time=0\n",
      "note_on channel=0 note=81 velocity=47 time=0\n",
      "note_on channel=0 note=41 velocity=39 time=0\n",
      "note_on channel=0 note=41 velocity=0 time=239\n",
      "note_on channel=0 note=41 velocity=47 time=241\n",
      "note_on channel=0 note=41 velocity=0 time=239\n",
      "note_on channel=0 note=72 velocity=0 time=192\n",
      "note_on channel=0 note=77 velocity=0 time=0\n",
      "note_on channel=0 note=81 velocity=0 time=0\n",
      "note_on channel=0 note=72 velocity=47 time=49\n",
      "note_on channel=0 note=77 velocity=47 time=0\n",
      "note_on channel=0 note=79 velocity=47 time=0\n",
      "note_on channel=0 note=41 velocity=39 time=0\n",
      "note_on channel=0 note=41 velocity=0 time=239\n",
      "note_on channel=0 note=41 velocity=47 time=241\n",
      "note_on channel=0 note=41 velocity=0 time=239\n",
      "note_on channel=0 note=72 velocity=0 time=192\n",
      "note_on channel=0 note=77 velocity=0 time=0\n",
      "note_on channel=0 note=79 velocity=0 time=0\n",
      "note_on channel=0 note=72 velocity=47 time=49\n",
      "note_on channel=0 note=77 velocity=47 time=0\n",
      "note_on channel=0 note=79 velocity=47 time=0\n",
      "note_on channel=0 note=41 velocity=39 time=0\n",
      "note_on channel=0 note=41 velocity=0 time=239\n",
      "note_on channel=0 note=41 velocity=47 time=241\n",
      "note_on channel=0 note=41 velocity=0 time=239\n",
      "note_on channel=0 note=72 velocity=0 time=192\n",
      "note_on channel=0 note=77 velocity=0 time=0\n",
      "note_on channel=0 note=79 velocity=0 time=0\n",
      "note_on channel=0 note=72 velocity=47 time=49\n",
      "note_on channel=0 note=77 velocity=47 time=0\n",
      "note_on channel=0 note=79 velocity=47 time=0\n",
      "note_on channel=0 note=41 velocity=39 time=0\n",
      "note_on channel=0 note=41 velocity=0 time=239\n",
      "note_on channel=0 note=41 velocity=47 time=241\n",
      "note_on channel=0 note=41 velocity=0 time=239\n",
      "note_on channel=0 note=72 velocity=0 time=192\n",
      "note_on channel=0 note=77 velocity=0 time=0\n",
      "note_on channel=0 note=79 velocity=0 time=0\n",
      "note_on channel=0 note=72 velocity=47 time=49\n",
      "note_on channel=0 note=77 velocity=47 time=0\n",
      "note_on channel=0 note=79 velocity=47 time=0\n",
      "note_on channel=0 note=41 velocity=41 time=0\n",
      "note_on channel=0 note=41 velocity=0 time=239\n",
      "note_on channel=0 note=41 velocity=47 time=241\n",
      "note_on channel=0 note=41 velocity=0 time=239\n",
      "note_on channel=0 note=72 velocity=0 time=192\n",
      "note_on channel=0 note=77 velocity=0 time=0\n",
      "note_on channel=0 note=79 velocity=0 time=0\n",
      "<meta message end_of_track time=1>\n"
     ]
    }
   ],
   "source": [
    "mid = mido.MidiFile('data/011.mid')\n",
    "for i, track in enumerate(mid.tracks):\n",
    "    print('Track {}: {}'.format(i, track.name))\n",
    "    for msg in track:\n",
    "        print(msg)"
   ]
  },
  {
   "cell_type": "code",
   "execution_count": 4,
   "metadata": {},
   "outputs": [],
   "source": [
    "def convertToAbsoluteTimeAndMerge(mid):\n",
    "    # takes the full midi object as input\n",
    "    # outputs list of pairs: [..., (abs_time, midi_message), ...]\n",
    "    allEvents = []\n",
    "    for i, track in enumerate(mid.tracks):\n",
    "        allEvents.append([])\n",
    "        abs_time = 0\n",
    "        for msg in track:\n",
    "            abs_time = abs_time + msg.time\n",
    "            if msg.type == 'note_on' and msg.velocity > 0:\n",
    "                allEvents[i].append((abs_time, msg))\n",
    "\n",
    "    return list(heapq.merge(*allEvents, key=lambda x: x[0]))"
   ]
  },
  {
   "cell_type": "code",
   "execution_count": 5,
   "metadata": {},
   "outputs": [],
   "source": [
    "def ExtractSingleNotesUnique(notes, getNote=lambda x: x):\n",
    "    # takes the ordered set of notes as inputs. The actual note is accessed using the getNote function\n",
    "    # outputs the set of notes (modulo 12) in the midi file\n",
    "    noteSet = set()\n",
    "    for note in notes:\n",
    "        noteSet.add(getNote(note) % 12)\n",
    "    return np.array(noteSet)"
   ]
  },
  {
   "cell_type": "code",
   "execution_count": 6,
   "metadata": {},
   "outputs": [],
   "source": [
    "def ExtractNotesTimeSeriesUnique(notes, N, getNote=lambda x: x):\n",
    "    noteSeriesSet = set()\n",
    "    for ind in range(len(notes) - N + 1):\n",
    "        noteSeries = tuple(getNote(notes[ind + j]) % 12 for j in range(N))\n",
    "        noteSeriesSet.add(noteSeries)\n",
    "    return np.array([np.array(noteSeries) for noteSeries in noteSeriesSet])"
   ]
  },
  {
   "cell_type": "code",
   "execution_count": 7,
   "metadata": {},
   "outputs": [],
   "source": [
    "def ComputeNNoteSeriesDistances(noteSeriesSet):\n",
    "    dists = np.zeros((len(noteSeriesSet), len(noteSeriesSet)))\n",
    "    for i in range(noteSeriesSet.shape[0]):\n",
    "        for j in range(i, noteSeriesSet.shape[0]):\n",
    "            v = np.abs(noteSeriesSet[i] - noteSeriesSet[j])\n",
    "            diffVec = np.minimum(v, 12 - v)\n",
    "            dists[i,j] = np.sum(diffVec)\n",
    "            dists[j,i] = dists[i,j]\n",
    "    return dists"
   ]
  },
  {
   "cell_type": "code",
   "execution_count": 33,
   "metadata": {},
   "outputs": [
    {
     "data": {
      "text/plain": [
       "62"
      ]
     },
     "execution_count": 33,
     "metadata": {},
     "output_type": "execute_result"
    }
   ],
   "source": [
    "mid.tracks[0][20].note"
   ]
  },
  {
   "cell_type": "code",
   "execution_count": 5,
   "metadata": {},
   "outputs": [
    {
     "data": {
      "text/plain": [
       "480"
      ]
     },
     "execution_count": 5,
     "metadata": {},
     "output_type": "execute_result"
    }
   ],
   "source": [
    "mid.ticks_per_beat"
   ]
  },
  {
   "cell_type": "code",
   "execution_count": 8,
   "metadata": {},
   "outputs": [
    {
     "name": "stdout",
     "output_type": "stream",
     "text": [
      "7\n",
      "41\n",
      "130\n"
     ]
    }
   ],
   "source": [
    "mid = mido.MidiFile('data/013.mid')\n",
    "notes = ExtractNotesTimeSeriesUnique(convertToAbsoluteTimeAndMerge(mid), 1, getNote=lambda x: x[1].note)\n",
    "print(len(notes))\n",
    "notes = ExtractNotesTimeSeriesUnique(convertToAbsoluteTimeAndMerge(mid), 2, getNote=lambda x: x[1].note)\n",
    "print(len(notes))\n",
    "notes = ExtractNotesTimeSeriesUnique(convertToAbsoluteTimeAndMerge(mid), 3, getNote=lambda x: x[1].note)\n",
    "print(len(notes))"
   ]
  },
  {
   "cell_type": "code",
   "execution_count": 10,
   "metadata": {},
   "outputs": [
    {
     "data": {
      "text/plain": [
       "(41, 2)"
      ]
     },
     "execution_count": 10,
     "metadata": {},
     "output_type": "execute_result"
    }
   ],
   "source": [
    "notes.shape"
   ]
  },
  {
   "cell_type": "code",
   "execution_count": 11,
   "metadata": {},
   "outputs": [
    {
     "data": {
      "text/plain": [
       "array([1, 3])"
      ]
     },
     "execution_count": 11,
     "metadata": {},
     "output_type": "execute_result"
    }
   ],
   "source": [
    "notes[0]"
   ]
  },
  {
   "cell_type": "code",
   "execution_count": 12,
   "metadata": {},
   "outputs": [
    {
     "name": "stdout",
     "output_type": "stream",
     "text": [
      "41\n"
     ]
    },
    {
     "data": {
      "text/plain": [
       "(2,)"
      ]
     },
     "execution_count": 12,
     "metadata": {},
     "output_type": "execute_result"
    }
   ],
   "source": [
    "notes = ExtractNotesTimeSeriesUnique(convertToAbsoluteTimeAndMerge(mid), 2, getNote=lambda x: x[1].note)\n",
    "print(len(notes))\n",
    "notes[0].shape"
   ]
  },
  {
   "cell_type": "code",
   "execution_count": 13,
   "metadata": {},
   "outputs": [],
   "source": [
    "dists = ComputeNNoteSeriesDistances(notes)"
   ]
  },
  {
   "cell_type": "code",
   "execution_count": 14,
   "metadata": {},
   "outputs": [
    {
     "name": "stdout",
     "output_type": "stream",
     "text": [
      "[11 11]\n",
      "[5 5]\n"
     ]
    }
   ],
   "source": [
    "print(notes[2])\n",
    "print(notes[16])"
   ]
  },
  {
   "cell_type": "code",
   "execution_count": 17,
   "metadata": {},
   "outputs": [
    {
     "data": {
      "text/plain": [
       "6"
      ]
     },
     "execution_count": 17,
     "metadata": {},
     "output_type": "execute_result"
    }
   ],
   "source": [
    "dgms = ripser.ripser(dists, distance_matrix=True, maxdim=5)['dgms']\n",
    "len(dgms)"
   ]
  },
  {
   "cell_type": "code",
   "execution_count": 18,
   "metadata": {},
   "outputs": [
    {
     "data": {
      "text/plain": [
       "[array([[ 0.,  1.],\n",
       "        [ 0.,  1.],\n",
       "        [ 0.,  1.],\n",
       "        [ 0.,  1.],\n",
       "        [ 0.,  1.],\n",
       "        [ 0.,  1.],\n",
       "        [ 0.,  1.],\n",
       "        [ 0.,  1.],\n",
       "        [ 0.,  1.],\n",
       "        [ 0.,  1.],\n",
       "        [ 0.,  1.],\n",
       "        [ 0.,  1.],\n",
       "        [ 0.,  1.],\n",
       "        [ 0.,  1.],\n",
       "        [ 0.,  1.],\n",
       "        [ 0.,  1.],\n",
       "        [ 0.,  1.],\n",
       "        [ 0.,  1.],\n",
       "        [ 0.,  2.],\n",
       "        [ 0.,  2.],\n",
       "        [ 0.,  2.],\n",
       "        [ 0.,  2.],\n",
       "        [ 0.,  2.],\n",
       "        [ 0.,  2.],\n",
       "        [ 0.,  2.],\n",
       "        [ 0.,  2.],\n",
       "        [ 0.,  2.],\n",
       "        [ 0.,  2.],\n",
       "        [ 0.,  2.],\n",
       "        [ 0.,  2.],\n",
       "        [ 0.,  2.],\n",
       "        [ 0.,  2.],\n",
       "        [ 0.,  2.],\n",
       "        [ 0.,  2.],\n",
       "        [ 0.,  2.],\n",
       "        [ 0.,  2.],\n",
       "        [ 0.,  2.],\n",
       "        [ 0.,  2.],\n",
       "        [ 0.,  2.],\n",
       "        [ 0.,  2.],\n",
       "        [ 0., inf]]), array([[3., 4.],\n",
       "        [3., 4.],\n",
       "        [3., 4.],\n",
       "        [3., 4.],\n",
       "        [3., 4.],\n",
       "        [2., 3.],\n",
       "        [2., 3.],\n",
       "        [2., 3.],\n",
       "        [2., 4.],\n",
       "        [2., 4.],\n",
       "        [2., 3.],\n",
       "        [2., 4.],\n",
       "        [2., 3.],\n",
       "        [2., 3.],\n",
       "        [2., 3.],\n",
       "        [2., 4.],\n",
       "        [2., 4.],\n",
       "        [2., 4.],\n",
       "        [2., 4.],\n",
       "        [2., 4.],\n",
       "        [2., 4.],\n",
       "        [2., 5.],\n",
       "        [2., 3.],\n",
       "        [2., 4.],\n",
       "        [2., 4.],\n",
       "        [2., 4.],\n",
       "        [2., 3.],\n",
       "        [2., 5.],\n",
       "        [2., 3.],\n",
       "        [2., 4.],\n",
       "        [2., 4.],\n",
       "        [1., 2.]]), array([[5., 6.],\n",
       "        [5., 6.],\n",
       "        [5., 6.],\n",
       "        [5., 6.],\n",
       "        [5., 6.],\n",
       "        [5., 6.],\n",
       "        [5., 6.],\n",
       "        [5., 6.],\n",
       "        [4., 6.]]), array([[6., 7.],\n",
       "        [6., 7.],\n",
       "        [6., 7.],\n",
       "        [6., 8.],\n",
       "        [6., 7.],\n",
       "        [5., 6.],\n",
       "        [5., 6.],\n",
       "        [5., 6.],\n",
       "        [5., 6.]]), array([], shape=(0, 2), dtype=float64), array([[8., 9.],\n",
       "        [8., 9.],\n",
       "        [8., 9.],\n",
       "        [8., 9.],\n",
       "        [8., 9.],\n",
       "        [8., 9.],\n",
       "        [8., 9.],\n",
       "        [8., 9.]])]"
      ]
     },
     "execution_count": 18,
     "metadata": {},
     "output_type": "execute_result"
    }
   ],
   "source": [
    "dgms"
   ]
  },
  {
   "cell_type": "code",
   "execution_count": null,
   "metadata": {},
   "outputs": [],
   "source": []
  }
 ],
 "metadata": {
  "kernelspec": {
   "display_name": "Python 3",
   "language": "python",
   "name": "python3"
  },
  "language_info": {
   "codemirror_mode": {
    "name": "ipython",
    "version": 3
   },
   "file_extension": ".py",
   "mimetype": "text/x-python",
   "name": "python",
   "nbconvert_exporter": "python",
   "pygments_lexer": "ipython3",
   "version": "3.6.8"
  }
 },
 "nbformat": 4,
 "nbformat_minor": 2
}
