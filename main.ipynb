{
 "cells": [
  {
   "cell_type": "code",
   "execution_count": 1,
   "metadata": {},
   "outputs": [
    {
     "name": "stdout",
     "output_type": "stream",
     "text": [
      "Gudhi not found--GraphInducedComplex not available\n"
     ]
    }
   ],
   "source": [
    "import mido\n",
    "import heapq # merge (i.e. from mergesort)\n",
    "import ripser\n",
    "import numpy as np\n",
    "from tqdm import tqdm_notebook as tqdm\n",
    "from sklearn.manifold import MDS\n",
    "from sklearn.manifold import TSNE\n",
    "import sklearn_tda as tda\n",
    "import matplotlib.pyplot as plt"
   ]
  },
  {
   "cell_type": "code",
   "execution_count": 2,
   "metadata": {},
   "outputs": [],
   "source": [
    "import matplotlib.colors as colors"
   ]
  },
  {
   "cell_type": "code",
   "execution_count": 3,
   "metadata": {},
   "outputs": [
    {
     "name": "stdout",
     "output_type": "stream",
     "text": [
      "Track 0: \n",
      "Track 1: \n"
     ]
    }
   ],
   "source": [
    "mid = mido.MidiFile('data/011.mid')\n",
    "msgArray = []\n",
    "for i, track in enumerate(mid.tracks):\n",
    "    print('Track {}: {}'.format(i, track.name))\n",
    "    for msg in track:\n",
    "        msgArray.append(msg)\n",
    "#         print(msg)"
   ]
  },
  {
   "cell_type": "code",
   "execution_count": 4,
   "metadata": {},
   "outputs": [],
   "source": [
    "# put together midi files \n",
    "def convertToAbsoluteTimeAndMerge(mid):\n",
    "    # takes the full midi object as input\n",
    "    # outputs list of pairs: [..., (abs_time, midi_message), ...]\n",
    "    allEvents = []\n",
    "    for i, track in enumerate(mid.tracks):\n",
    "        allEvents.append([])\n",
    "        abs_time = 0\n",
    "        for msg in track:\n",
    "            abs_time = abs_time + msg.time\n",
    "            if msg.type == 'note_on' and msg.velocity > 0:\n",
    "                allEvents[i].append((abs_time, msg))\n",
    "\n",
    "    return list(heapq.merge(*allEvents, key=lambda x: x[0]))"
   ]
  },
  {
   "cell_type": "code",
   "execution_count": 5,
   "metadata": {},
   "outputs": [],
   "source": [
    "# return one dimensional point cloud -> n nodes\n",
    "def ExtractSingleNotesUnique(notes, getNote=lambda x: x):\n",
    "    # takes the ordered set of notes as inputs. The actual note is accessed using the getNote function\n",
    "    # outputs the set of notes (modulo 12) in the midi file\n",
    "    noteSet = set()\n",
    "    for note in notes:\n",
    "        noteSet.add(getNote(note) % 12)\n",
    "    return np.array(noteSet)"
   ]
  },
  {
   "cell_type": "code",
   "execution_count": 6,
   "metadata": {},
   "outputs": [],
   "source": [
    "# 3D point cloud return -> note 1 note 2 note 3; note 2 note 3 note 4 -> easiest way to preserve time series. return M X N point cloud\n",
    "def ExtractNotesTimeSeriesUnique(notes, N, getNote=lambda x: x):\n",
    "    noteSeriesSet = set()\n",
    "    for ind in range(len(notes) - N + 1):\n",
    "        noteSeries = tuple(getNote(notes[ind + j]) % 12 for j in range(N))\n",
    "        noteSeriesSet.add(noteSeries)\n",
    "    return np.array([np.array(noteSeries) for noteSeries in noteSeriesSet])"
   ]
  },
  {
   "cell_type": "code",
   "execution_count": 7,
   "metadata": {},
   "outputs": [],
   "source": [
    "# defines the distance function between every pair of points in the point cloud\n",
    "def ComputeNNoteSeriesDistances(noteSeriesSet):\n",
    "    dists = np.zeros((len(noteSeriesSet), len(noteSeriesSet)))\n",
    "    for i in range(noteSeriesSet.shape[0]):\n",
    "        for j in range(i, noteSeriesSet.shape[0]):\n",
    "            v = np.abs(noteSeriesSet[i] - noteSeriesSet[j])\n",
    "            diffVec = np.minimum(v, 12 - v)\n",
    "            dists[i,j] = np.sum(diffVec)\n",
    "            dists[j,i] = dists[i,j]\n",
    "    return dists"
   ]
  },
  {
   "cell_type": "code",
   "execution_count": 7,
   "metadata": {},
   "outputs": [
    {
     "data": {
      "text/plain": [
       "93"
      ]
     },
     "execution_count": 7,
     "metadata": {},
     "output_type": "execute_result"
    }
   ],
   "source": [
    "mid.tracks[0][20].note"
   ]
  },
  {
   "cell_type": "code",
   "execution_count": 8,
   "metadata": {},
   "outputs": [
    {
     "data": {
      "text/plain": [
       "[(0, <message note_on channel=0 note=93 velocity=41 time=0>),\n",
       " (0, <message note_on channel=0 note=72 velocity=47 time=0>),\n",
       " (0, <message note_on channel=0 note=74 velocity=47 time=0>),\n",
       " (0, <message note_on channel=0 note=77 velocity=47 time=0>),\n",
       " (0, <message note_on channel=0 note=81 velocity=47 time=0>),\n",
       " (0, <message note_on channel=0 note=50 velocity=41 time=0>),\n",
       " (480, <message note_on channel=0 note=93 velocity=41 time=241>),\n",
       " (480, <message note_on channel=0 note=50 velocity=47 time=241>),\n",
       " (960, <message note_on channel=0 note=93 velocity=41 time=241>),\n",
       " (960, <message note_on channel=0 note=72 velocity=47 time=49>),\n",
       " (960, <message note_on channel=0 note=74 velocity=47 time=0>),\n",
       " (960, <message note_on channel=0 note=77 velocity=47 time=0>),\n",
       " (960, <message note_on channel=0 note=81 velocity=47 time=0>),\n",
       " (960, <message note_on channel=0 note=50 velocity=39 time=0>),\n",
       " (1440, <message note_on channel=0 note=93 velocity=41 time=241>),\n",
       " (1440, <message note_on channel=0 note=50 velocity=47 time=241>),\n",
       " (1920, <message note_on channel=0 note=93 velocity=41 time=241>),\n",
       " (1920, <message note_on channel=0 note=72 velocity=47 time=49>),\n",
       " (1920, <message note_on channel=0 note=74 velocity=47 time=0>),\n",
       " (1920, <message note_on channel=0 note=77 velocity=47 time=0>),\n",
       " (1920, <message note_on channel=0 note=81 velocity=47 time=0>),\n",
       " (1920, <message note_on channel=0 note=50 velocity=39 time=0>),\n",
       " (2400, <message note_on channel=0 note=93 velocity=41 time=241>),\n",
       " (2400, <message note_on channel=0 note=50 velocity=47 time=241>),\n",
       " (2880, <message note_on channel=0 note=93 velocity=41 time=241>),\n",
       " (2880, <message note_on channel=0 note=72 velocity=47 time=49>),\n",
       " (2880, <message note_on channel=0 note=74 velocity=47 time=0>),\n",
       " (2880, <message note_on channel=0 note=77 velocity=47 time=0>),\n",
       " (2880, <message note_on channel=0 note=81 velocity=47 time=0>),\n",
       " (2880, <message note_on channel=0 note=50 velocity=37 time=0>),\n",
       " (3120, <message note_on channel=0 note=93 velocity=41 time=13>),\n",
       " (3360, <message note_on channel=0 note=93 velocity=41 time=13>),\n",
       " (3360, <message note_on channel=0 note=50 velocity=47 time=241>),\n",
       " (3840, <message note_on channel=0 note=94 velocity=41 time=241>),\n",
       " (3840, <message note_on channel=0 note=74 velocity=47 time=49>),\n",
       " (3840, <message note_on channel=0 note=77 velocity=47 time=0>),\n",
       " (3840, <message note_on channel=0 note=82 velocity=47 time=0>),\n",
       " (3840, <message note_on channel=0 note=46 velocity=37 time=0>),\n",
       " (4320, <message note_on channel=0 note=94 velocity=41 time=241>),\n",
       " (4320, <message note_on channel=0 note=46 velocity=47 time=241>),\n",
       " (4800, <message note_on channel=0 note=94 velocity=41 time=241>),\n",
       " (4800, <message note_on channel=0 note=74 velocity=47 time=49>),\n",
       " (4800, <message note_on channel=0 note=77 velocity=47 time=0>),\n",
       " (4800, <message note_on channel=0 note=82 velocity=47 time=0>),\n",
       " (4800, <message note_on channel=0 note=46 velocity=37 time=0>),\n",
       " (5280, <message note_on channel=0 note=94 velocity=41 time=241>),\n",
       " (5280, <message note_on channel=0 note=46 velocity=47 time=241>),\n",
       " (5760, <message note_on channel=0 note=94 velocity=41 time=241>),\n",
       " (5760, <message note_on channel=0 note=74 velocity=47 time=49>),\n",
       " (5760, <message note_on channel=0 note=77 velocity=47 time=0>),\n",
       " (5760, <message note_on channel=0 note=82 velocity=47 time=0>),\n",
       " (5760, <message note_on channel=0 note=46 velocity=39 time=0>),\n",
       " (6240, <message note_on channel=0 note=94 velocity=41 time=241>),\n",
       " (6240, <message note_on channel=0 note=46 velocity=47 time=241>),\n",
       " (6720, <message note_on channel=0 note=96 velocity=41 time=241>),\n",
       " (6720, <message note_on channel=0 note=74 velocity=47 time=49>),\n",
       " (6720, <message note_on channel=0 note=77 velocity=47 time=0>),\n",
       " (6720, <message note_on channel=0 note=82 velocity=47 time=0>),\n",
       " (6720, <message note_on channel=0 note=46 velocity=41 time=0>),\n",
       " (6960, <message note_on channel=0 note=96 velocity=41 time=13>),\n",
       " (7200, <message note_on channel=0 note=96 velocity=41 time=13>),\n",
       " (7200, <message note_on channel=0 note=84 velocity=47 time=241>),\n",
       " (7200, <message note_on channel=0 note=46 velocity=47 time=0>),\n",
       " (7200, <message note_on channel=0 note=72 velocity=47 time=0>),\n",
       " (7680, <message note_on channel=0 note=93 velocity=41 time=241>),\n",
       " (7680, <message note_on channel=0 note=72 velocity=47 time=49>),\n",
       " (7680, <message note_on channel=0 note=77 velocity=47 time=0>),\n",
       " (7680, <message note_on channel=0 note=81 velocity=47 time=0>),\n",
       " (7680, <message note_on channel=0 note=41 velocity=41 time=0>),\n",
       " (8160, <message note_on channel=0 note=93 velocity=41 time=241>),\n",
       " (8160, <message note_on channel=0 note=41 velocity=47 time=241>),\n",
       " (8640, <message note_on channel=0 note=93 velocity=41 time=241>),\n",
       " (8640, <message note_on channel=0 note=72 velocity=47 time=49>),\n",
       " (8640, <message note_on channel=0 note=77 velocity=47 time=0>),\n",
       " (8640, <message note_on channel=0 note=81 velocity=47 time=0>),\n",
       " (8640, <message note_on channel=0 note=41 velocity=41 time=0>),\n",
       " (9120, <message note_on channel=0 note=93 velocity=41 time=241>),\n",
       " (9120, <message note_on channel=0 note=41 velocity=47 time=241>),\n",
       " (9600, <message note_on channel=0 note=93 velocity=41 time=241>),\n",
       " (9600, <message note_on channel=0 note=72 velocity=47 time=49>),\n",
       " (9600, <message note_on channel=0 note=77 velocity=47 time=0>),\n",
       " (9600, <message note_on channel=0 note=81 velocity=47 time=0>),\n",
       " (9600, <message note_on channel=0 note=41 velocity=39 time=0>),\n",
       " (10080, <message note_on channel=0 note=93 velocity=41 time=241>),\n",
       " (10080, <message note_on channel=0 note=41 velocity=47 time=241>),\n",
       " (10560, <message note_on channel=0 note=93 velocity=41 time=241>),\n",
       " (10560, <message note_on channel=0 note=72 velocity=47 time=49>),\n",
       " (10560, <message note_on channel=0 note=77 velocity=47 time=0>),\n",
       " (10560, <message note_on channel=0 note=81 velocity=47 time=0>),\n",
       " (10560, <message note_on channel=0 note=41 velocity=39 time=0>),\n",
       " (10800, <message note_on channel=0 note=93 velocity=41 time=13>),\n",
       " (11040, <message note_on channel=0 note=93 velocity=41 time=13>),\n",
       " (11040, <message note_on channel=0 note=41 velocity=47 time=241>),\n",
       " (11520, <message note_on channel=0 note=91 velocity=41 time=241>),\n",
       " (11520, <message note_on channel=0 note=72 velocity=47 time=49>),\n",
       " (11520, <message note_on channel=0 note=77 velocity=47 time=0>),\n",
       " (11520, <message note_on channel=0 note=79 velocity=47 time=0>),\n",
       " (11520, <message note_on channel=0 note=41 velocity=39 time=0>),\n",
       " (12000, <message note_on channel=0 note=91 velocity=41 time=241>),\n",
       " (12000, <message note_on channel=0 note=41 velocity=47 time=241>),\n",
       " (12480, <message note_on channel=0 note=91 velocity=41 time=241>),\n",
       " (12480, <message note_on channel=0 note=72 velocity=47 time=49>),\n",
       " (12480, <message note_on channel=0 note=77 velocity=47 time=0>),\n",
       " (12480, <message note_on channel=0 note=79 velocity=47 time=0>),\n",
       " (12480, <message note_on channel=0 note=41 velocity=39 time=0>),\n",
       " (12960, <message note_on channel=0 note=91 velocity=41 time=241>),\n",
       " (12960, <message note_on channel=0 note=41 velocity=47 time=241>),\n",
       " (13440, <message note_on channel=0 note=91 velocity=41 time=241>),\n",
       " (13440, <message note_on channel=0 note=72 velocity=47 time=49>),\n",
       " (13440, <message note_on channel=0 note=77 velocity=47 time=0>),\n",
       " (13440, <message note_on channel=0 note=79 velocity=47 time=0>),\n",
       " (13440, <message note_on channel=0 note=41 velocity=39 time=0>),\n",
       " (13680, <message note_on channel=0 note=91 velocity=41 time=13>),\n",
       " (13920, <message note_on channel=0 note=91 velocity=41 time=13>),\n",
       " (13920, <message note_on channel=0 note=41 velocity=47 time=241>),\n",
       " (14400, <message note_on channel=0 note=91 velocity=41 time=241>),\n",
       " (14400, <message note_on channel=0 note=72 velocity=47 time=49>),\n",
       " (14400, <message note_on channel=0 note=77 velocity=47 time=0>),\n",
       " (14400, <message note_on channel=0 note=79 velocity=47 time=0>),\n",
       " (14400, <message note_on channel=0 note=41 velocity=41 time=0>),\n",
       " (14640, <message note_on channel=0 note=91 velocity=41 time=13>),\n",
       " (14880, <message note_on channel=0 note=91 velocity=41 time=13>),\n",
       " (14880, <message note_on channel=0 note=41 velocity=47 time=241>)]"
      ]
     },
     "execution_count": 8,
     "metadata": {},
     "output_type": "execute_result"
    }
   ],
   "source": [
    "convertToAbsoluteTimeAndMerge(mid)"
   ]
  },
  {
   "cell_type": "code",
   "execution_count": 9,
   "metadata": {},
   "outputs": [
    {
     "data": {
      "text/plain": [
       "480"
      ]
     },
     "execution_count": 9,
     "metadata": {},
     "output_type": "execute_result"
    }
   ],
   "source": [
    "mid.ticks_per_beat"
   ]
  },
  {
   "cell_type": "code",
   "execution_count": 10,
   "metadata": {},
   "outputs": [
    {
     "name": "stdout",
     "output_type": "stream",
     "text": [
      "7\n",
      "41\n",
      "130\n"
     ]
    }
   ],
   "source": [
    "mid = mido.MidiFile('data/013.mid')\n",
    "notes = ExtractNotesTimeSeriesUnique(convertToAbsoluteTimeAndMerge(mid), 1, getNote=lambda x: x[1].note)\n",
    "print(len(notes))\n",
    "notes = ExtractNotesTimeSeriesUnique(convertToAbsoluteTimeAndMerge(mid), 2, getNote=lambda x: x[1].note)\n",
    "print(len(notes))\n",
    "notes = ExtractNotesTimeSeriesUnique(convertToAbsoluteTimeAndMerge(mid), 3, getNote=lambda x: x[1].note)\n",
    "print(len(notes))"
   ]
  },
  {
   "cell_type": "code",
   "execution_count": 11,
   "metadata": {},
   "outputs": [
    {
     "data": {
      "text/plain": [
       "(130, 3)"
      ]
     },
     "execution_count": 11,
     "metadata": {},
     "output_type": "execute_result"
    }
   ],
   "source": [
    "notes.shape"
   ]
  },
  {
   "cell_type": "code",
   "execution_count": 12,
   "metadata": {},
   "outputs": [
    {
     "data": {
      "text/plain": [
       "array([8, 6, 6])"
      ]
     },
     "execution_count": 12,
     "metadata": {},
     "output_type": "execute_result"
    }
   ],
   "source": [
    "notes[0]"
   ]
  },
  {
   "cell_type": "code",
   "execution_count": 13,
   "metadata": {},
   "outputs": [
    {
     "name": "stdout",
     "output_type": "stream",
     "text": [
      "41\n"
     ]
    },
    {
     "data": {
      "text/plain": [
       "(2,)"
      ]
     },
     "execution_count": 13,
     "metadata": {},
     "output_type": "execute_result"
    }
   ],
   "source": [
    "notes = ExtractNotesTimeSeriesUnique(convertToAbsoluteTimeAndMerge(mid), 2, getNote=lambda x: x[1].note)\n",
    "print(len(notes))\n",
    "notes[0].shape"
   ]
  },
  {
   "cell_type": "code",
   "execution_count": 14,
   "metadata": {},
   "outputs": [],
   "source": [
    "dists = ComputeNNoteSeriesDistances(notes)"
   ]
  },
  {
   "cell_type": "code",
   "execution_count": 15,
   "metadata": {},
   "outputs": [
    {
     "name": "stdout",
     "output_type": "stream",
     "text": [
      "[11 11]\n",
      "[5 5]\n"
     ]
    }
   ],
   "source": [
    "print(notes[2])\n",
    "print(notes[16])"
   ]
  },
  {
   "cell_type": "code",
   "execution_count": 16,
   "metadata": {},
   "outputs": [
    {
     "data": {
      "text/plain": [
       "2"
      ]
     },
     "execution_count": 16,
     "metadata": {},
     "output_type": "execute_result"
    }
   ],
   "source": [
    "dgms1 = ripser.ripser(dists, distance_matrix=True, maxdim=1)['dgms']\n",
    "len(dgms1)"
   ]
  },
  {
   "cell_type": "code",
   "execution_count": 17,
   "metadata": {},
   "outputs": [],
   "source": [
    "mid = mido.MidiFile('data/001.mid')"
   ]
  },
  {
   "cell_type": "code",
   "execution_count": 18,
   "metadata": {},
   "outputs": [],
   "source": [
    "notes = ExtractNotesTimeSeriesUnique(convertToAbsoluteTimeAndMerge(mid), 2, getNote=lambda x: x[1].note)"
   ]
  },
  {
   "cell_type": "code",
   "execution_count": 19,
   "metadata": {},
   "outputs": [],
   "source": [
    "dists = ComputeNNoteSeriesDistances(notes)"
   ]
  },
  {
   "cell_type": "code",
   "execution_count": 20,
   "metadata": {},
   "outputs": [],
   "source": [
    "dgms2 = ripser.ripser(dists, distance_matrix=True, maxdim=1)['dgms']"
   ]
  },
  {
   "cell_type": "code",
   "execution_count": 17,
   "metadata": {},
   "outputs": [],
   "source": [
    "def getDistances():\n",
    "    numFiles = 30\n",
    "    dim = 3\n",
    "    bottleneck_distances = [np.zeros((numFiles, numFiles)) for x in range(dim+1)]\n",
    "    wassertian_distances = [np.zeros((numFiles, numFiles)) for x in range(dim+1)]\n",
    "    dgmArr = [[] for x in range(dim+1)]\n",
    "    \n",
    "    for i in tqdm(range(1, numFiles + 1)):\n",
    "        if i <= 9:\n",
    "            path = \"data/00\" + str(i) + \".mid\"\n",
    "        else:\n",
    "            path = \"data/0\" + str(i) + \".mid\"\n",
    "        mid = mido.MidiFile(path)\n",
    "        notes = ExtractNotesTimeSeriesUnique(convertToAbsoluteTimeAndMerge(mid), 2, getNote=lambda x: x[1].note)\n",
    "        dists = ComputeNNoteSeriesDistances(notes)\n",
    "        dgms = ripser.ripser(dists, distance_matrix=True, maxdim=dim)['dgms']\n",
    "        dgmArr[0].append(dgms[0][:-1])\n",
    "        for j in range(1, dim+1):\n",
    "            dgmArr[j].append(dgms[j])\n",
    "            \n",
    "    # Computing the distances between two dgmArr and plot it with TSNE\n",
    "    for i in tqdm(range(numFiles)):\n",
    "        for j in (range(numFiles)):\n",
    "            for k in range(dim+1):\n",
    "                bottleneck_distances[k][i][j] = tda.bottleneck(dgmArr[k][i], dgmArr[k][j])\n",
    "                \n",
    "# Computing the distances between two dgmArr and plot it with TSNE\n",
    "    for i in tqdm(range(numFiles)):\n",
    "        for j in (range(numFiles)):\n",
    "            for k in range(dim+1):\n",
    "                wassertian_distances[k][i][j] = tda.wasserstein(dgmArr[k][i], dgmArr[k][j])\n",
    "    return bottleneck_distances, wassertian_distances"
   ]
  },
  {
   "cell_type": "code",
   "execution_count": 127,
   "metadata": {},
   "outputs": [],
   "source": [
    "## Compute the distances between the 0 and 1 dimensional persistence diagrams and plot it using TSNE\n",
    "\n",
    "# Filling up the dgmArray for 0 and 1 dimension. \n",
    "\n",
    "numFiles = 30\n",
    "dim = 3\n",
    "\n",
    "bottleneck_distances = [np.zeros((numFiles, numFiles)) for x in range(dim+1)]\n",
    "wassertian_distances = [np.zeros((numFiles, numFiles)) for x in range(dim+1)]\n",
    "bottleneck_distances_dim0 = np.zeros((numFiles, numFiles))\n",
    "bottleneck_distances_dim1 = np.zeros((numFiles, numFiles))\n",
    "dgmArr = [[] for x in range(dim+1)]\n",
    "dgmArr0 = []\n",
    "dgmArr1 = []"
   ]
  },
  {
   "cell_type": "code",
   "execution_count": 128,
   "metadata": {},
   "outputs": [
    {
     "data": {
      "application/vnd.jupyter.widget-view+json": {
       "model_id": "42063027ab3e4ce6b64632e17cfe054c",
       "version_major": 2,
       "version_minor": 0
      },
      "text/plain": [
       "HBox(children=(IntProgress(value=0, max=30), HTML(value='')))"
      ]
     },
     "metadata": {},
     "output_type": "display_data"
    },
    {
     "name": "stdout",
     "output_type": "stream",
     "text": [
      "\n"
     ]
    }
   ],
   "source": [
    "for i in tqdm(range(1, numFiles + 1)):\n",
    "    if i <= 9:\n",
    "        path = \"data/00\" + str(i) + \".mid\"\n",
    "    else:\n",
    "        path = \"data/0\" + str(i) + \".mid\"\n",
    "    mid = mido.MidiFile(path)\n",
    "    notes = ExtractNotesTimeSeriesUnique(convertToAbsoluteTimeAndMerge(mid), 2, getNote=lambda x: x[1].note)\n",
    "    dists = ComputeNNoteSeriesDistances(notes)\n",
    "    dgms = ripser.ripser(dists, distance_matrix=True, maxdim=dim)['dgms']\n",
    "    dgmArr0.append(dgms[0][:-1])\n",
    "    dgmArr1.append(dgms[1])   \n",
    "    dgmArr[0].append(dgms[0][:-1])\n",
    "    for j in range(1, dim+1):\n",
    "        dgmArr[j].append(dgms[j])"
   ]
  },
  {
   "cell_type": "code",
   "execution_count": 129,
   "metadata": {},
   "outputs": [],
   "source": [
    "# # Computing the distances between two dgmArr and plot it with TSNE\n",
    "# for i in tqdm(range(numFiles)):\n",
    "#     for j in (range(numFiles)):\n",
    "#         bottleneck_distances_dim0[i][j] = tda.bottleneck(dgmArr0[i], dgmArr0[j])\n",
    "#         bottleneck_distances_dim1[i][j] = tda.bottleneck(dgmArr1[i], dgmArr1[j])"
   ]
  },
  {
   "cell_type": "code",
   "execution_count": 130,
   "metadata": {},
   "outputs": [
    {
     "data": {
      "application/vnd.jupyter.widget-view+json": {
       "model_id": "c8a929514e9b4b4b954ffab898bbf786",
       "version_major": 2,
       "version_minor": 0
      },
      "text/plain": [
       "HBox(children=(IntProgress(value=0, max=30), HTML(value='')))"
      ]
     },
     "metadata": {},
     "output_type": "display_data"
    },
    {
     "name": "stdout",
     "output_type": "stream",
     "text": [
      "\n"
     ]
    }
   ],
   "source": [
    "# Computing the distances between two dgmArr and plot it with TSNE\n",
    "for i in tqdm(range(numFiles)):\n",
    "    for j in (range(numFiles)):\n",
    "        for k in range(dim+1):\n",
    "            bottleneck_distances[k][i][j] = tda.bottleneck(dgmArr[k][i], dgmArr[k][j])"
   ]
  },
  {
   "cell_type": "code",
   "execution_count": 131,
   "metadata": {},
   "outputs": [
    {
     "data": {
      "application/vnd.jupyter.widget-view+json": {
       "model_id": "a152d2603c3243f58a0427c57aa6f859",
       "version_major": 2,
       "version_minor": 0
      },
      "text/plain": [
       "HBox(children=(IntProgress(value=0, max=30), HTML(value='')))"
      ]
     },
     "metadata": {},
     "output_type": "display_data"
    },
    {
     "name": "stdout",
     "output_type": "stream",
     "text": [
      "\n"
     ]
    }
   ],
   "source": [
    "# Computing the distances between two dgmArr and plot it with TSNE\n",
    "for i in tqdm(range(numFiles)):\n",
    "    for j in (range(numFiles)):\n",
    "        for k in range(dim+1):\n",
    "            wassertian_distances[k][i][j] = tda.wasserstein(dgmArr[k][i], dgmArr[k][j])"
   ]
  },
  {
   "cell_type": "code",
   "execution_count": 24,
   "metadata": {},
   "outputs": [],
   "source": [
    "def computeDimReduction(method, distances, numFiles):\n",
    "    distances = (distances + distances.T)/2\n",
    "    distances_transformed = np.empty(shape=(numFiles, 2))\n",
    "    if method == 'MDS':\n",
    "        distances_transformed = MDS(n_components=2, dissimilarity='precomputed').fit_transform(distances)\n",
    "    elif method == 'TSNE':\n",
    "        distances_transformed = TSNE(n_components=2, metric='precomputed').fit_transform(distances)\n",
    "    return distances_transformed"
   ]
  },
  {
   "cell_type": "code",
   "execution_count": 25,
   "metadata": {},
   "outputs": [],
   "source": [
    "def plotScatter(distances, measure, numFiles):\n",
    "    bd_x = np.zeros(len(distances))\n",
    "    bd_y = np.zeros(len(distances))\n",
    "\n",
    "    for i in range(len(distances)):\n",
    "        bd_x[i] = distances[i][0]\n",
    "        bd_y[i] = distances[i][1]\n",
    "\n",
    "    labelArray = np.zeros(numFiles)\n",
    "    ## LabelArray contains the labels for each of the image. \n",
    "    label = 0\n",
    "    for i in range(len(labelArray)):\n",
    "        if i >= 10 and i <= 24:\n",
    "            label = 1\n",
    "        elif i >= 25:\n",
    "            label = 2\n",
    "        labelArray[i] = label\n",
    "    classes = (\"Artist1\", \"Artist2\", \"Artist3\")\n",
    "    \n",
    "    # Define a colormap with the right number of colors\n",
    "    cmap = plt.cm.get_cmap('tab10',max(labelArray)-min(labelArray)+1)\n",
    "    bounds = range(int(min(labelArray)),int(max(labelArray))+2)\n",
    "    norm = colors.BoundaryNorm(bounds, cmap.N)\n",
    "    \n",
    "    plt.scatter(bd_x, bd_y, c = labelArray, cmap = cmap, norm = norm)\n",
    "    cb=plt.colorbar(ticks=np.array(labelArray)+0.5)\n",
    "    cb.set_ticklabels(labelArray)\n",
    "    plt.title(measure)\n",
    "    plt.show()"
   ]
  },
  {
   "cell_type": "code",
   "execution_count": 20,
   "metadata": {},
   "outputs": [
    {
     "data": {
      "application/vnd.jupyter.widget-view+json": {
       "model_id": "867e9e5e5488453183011cf45b01d9d6",
       "version_major": 2,
       "version_minor": 0
      },
      "text/plain": [
       "HBox(children=(IntProgress(value=0, max=30), HTML(value='')))"
      ]
     },
     "metadata": {},
     "output_type": "display_data"
    },
    {
     "data": {
      "application/vnd.jupyter.widget-view+json": {
       "model_id": "edcaa7243bca4e7d9c4615c8290d036b",
       "version_major": 2,
       "version_minor": 0
      },
      "text/plain": [
       "HBox(children=(IntProgress(value=0, max=30), HTML(value='')))"
      ]
     },
     "metadata": {},
     "output_type": "display_data"
    },
    {
     "data": {
      "application/vnd.jupyter.widget-view+json": {
       "model_id": "dd0b895bc4304e11880e73a1d9219faf",
       "version_major": 2,
       "version_minor": 0
      },
      "text/plain": [
       "HBox(children=(IntProgress(value=0, max=30), HTML(value='')))"
      ]
     },
     "metadata": {},
     "output_type": "display_data"
    }
   ],
   "source": [
    "bottleneck_distances, wassertian_distances = getDistances()"
   ]
  },
  {
   "cell_type": "code",
   "execution_count": 26,
   "metadata": {},
   "outputs": [
    {
     "name": "stdout",
     "output_type": "stream",
     "text": [
      "0\n"
     ]
    },
    {
     "data": {
      "image/png": "[encoded data removed]",
      "text/plain": [
       "<Figure size 432x288 with 2 Axes>"
      ]
     },
     "metadata": {},
     "output_type": "display_data"
    },
    {
     "name": "stdout",
     "output_type": "stream",
     "text": [
      "1\n"
     ]
    },
    {
     "data": {
      "image/png": "[encoded data removed]",
      "text/plain": [
       "<Figure size 432x288 with 2 Axes>"
      ]
     },
     "metadata": {},
     "output_type": "display_data"
    },
    {
     "name": "stdout",
     "output_type": "stream",
     "text": [
      "2\n"
     ]
    },
    {
     "data": {
      "image/png": "[encoded data removed]",
      "text/plain": [
       "<Figure size 432x288 with 2 Axes>"
      ]
     },
     "metadata": {},
     "output_type": "display_data"
    },
    {
     "name": "stdout",
     "output_type": "stream",
     "text": [
      "3\n"
     ]
    },
    {
     "data": {
      "image/png": "[encoded data removed]",
      "text/plain": [
       "<Figure size 432x288 with 2 Axes>"
      ]
     },
     "metadata": {},
     "output_type": "display_data"
    }
   ],
   "source": [
    "dim = 3\n",
    "numFiles = 30\n",
    "for j in range(dim+1):\n",
    "    print(j)\n",
    "    bottleneck_distances_TSNE = computeDimReduction('TSNE', bottleneck_distances[j], numFiles)\n",
    "    label = \"TSNE over Bottleneck Distances - dim \" + str(j)\n",
    "    plotScatter(bottleneck_distances_TSNE, label, numFiles)"
   ]
  },
  {
   "cell_type": "code",
   "execution_count": 27,
   "metadata": {},
   "outputs": [
    {
     "name": "stdout",
     "output_type": "stream",
     "text": [
      "0\n"
     ]
    },
    {
     "data": {
      "image/png": "[encoded data removed]",
      "text/plain": [
       "<Figure size 432x288 with 2 Axes>"
      ]
     },
     "metadata": {},
     "output_type": "display_data"
    },
    {
     "name": "stdout",
     "output_type": "stream",
     "text": [
      "1\n"
     ]
    },
    {
     "data": {
      "image/png": "[encoded data removed]",
      "text/plain": [
       "<Figure size 432x288 with 2 Axes>"
      ]
     },
     "metadata": {},
     "output_type": "display_data"
    },
    {
     "name": "stdout",
     "output_type": "stream",
     "text": [
      "2\n"
     ]
    },
    {
     "data": {
      "image/png": "[encoded data removed]",
      "text/plain": [
       "<Figure size 432x288 with 2 Axes>"
      ]
     },
     "metadata": {},
     "output_type": "display_data"
    },
    {
     "name": "stdout",
     "output_type": "stream",
     "text": [
      "3\n"
     ]
    },
    {
     "data": {
      "image/png": "[encoded data removed]",
      "text/plain": [
       "<Figure size 432x288 with 2 Axes>"
      ]
     },
     "metadata": {},
     "output_type": "display_data"
    }
   ],
   "source": [
    "dim = 3\n",
    "numFiles = 30\n",
    "for j in range(dim+1):\n",
    "    print(j)\n",
    "    wassertian_distances_TSNE = computeDimReduction('TSNE', wassertian_distances[j], numFiles)\n",
    "    label = \"TSNE over Wasserstein Distances - dim \" + str(j)\n",
    "    plotScatter(wassertian_distances_TSNE, label, numFiles)"
   ]
  },
  {
   "cell_type": "code",
   "execution_count": null,
   "metadata": {},
   "outputs": [],
   "source": []
  }
 ],
 "metadata": {
  "kernelspec": {
   "display_name": "Python 3",
   "language": "python",
   "name": "python3"
  },
  "language_info": {
   "codemirror_mode": {
    "name": "ipython",
    "version": 3
   },
   "file_extension": ".py",
   "mimetype": "text/x-python",
   "name": "python",
   "nbconvert_exporter": "python",
   "pygments_lexer": "ipython3",
   "version": "3.6.8"
  }
 },
 "nbformat": 4,
 "nbformat_minor": 2
}
